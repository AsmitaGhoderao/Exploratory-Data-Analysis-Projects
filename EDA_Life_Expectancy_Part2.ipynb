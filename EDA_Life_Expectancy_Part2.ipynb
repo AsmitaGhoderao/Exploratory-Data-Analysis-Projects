{
 "cells": [
  {
   "cell_type": "markdown",
   "metadata": {},
   "source": [
    "## Exploratory Data Analysis\n",
    "\n",
    "#### Dataset : \n",
    "Life Expectancy Data\n",
    "\n",
    "#### Source: \n",
    "Kaggle\n",
    "\n",
    "#### Dataset Description: \n",
    "It contains information of 193 countries related to life expectancy, health factors and some economic data like GDP for the years 2000 to 2015.\n",
    "\n",
    "#### Aim:\n",
    "This case study aims at finding the factors that contribute to increase in life expectancy (target attribute) of the citizens of each country.\n",
    "\n",
    "#### Approach:\n",
    "1. Did my own research on which factors influence life expectancy of a person\n",
    "2. Then went through the data given in the dataset\n",
    "3. Applied some data pre-processing followed by Univariate and Bivariate Analysis of the attributes provided\n",
    "4. The data also had some missing values which were treated with appropriate logics.\n",
    "\n",
    "##### Note: In this notebook, the steps for handling missing data is covered."
   ]
  },
  {
   "cell_type": "markdown",
   "metadata": {},
   "source": [
    "#### Attributes:\n",
    "'Country': 193 countries\n",
    "\n",
    "'Year': 2000 -2015\n",
    "\n",
    "'Status': Developed or Developing status\n",
    "\n",
    "'Life expectancy ': Life Expectancy in age\n",
    "\n",
    "'Adult Mortality': Adult Mortality Rates of both sexes (probability of dying between 15 and 60 years per 1000 population)\n",
    "\n",
    "'infant deaths': Number of Infant Deaths per 1000 population\n",
    "\n",
    "'Alcohol': Alcohol, recorded per capita (15+) consumption (in litres of pure alcohol)\n",
    "\n",
    "'percentage expenditure': Expenditure on health as a percentage of Gross Domestic Product per capita(%)\n",
    "\n",
    "'Hepatitis B': Hepatitis B  immunization coverage among 1-year-olds (%)\n",
    "\n",
    "'Measles ': number of reported cases per 1000 population\n",
    "\n",
    "'BMI': Average Body Mass Index of entire population\n",
    "\n",
    "'under-five deaths ': Number of under-five deaths per 1000 population\n",
    "\n",
    "'Polio': Polio (Pol3) immunization coverage among 1-year-olds (%)\n",
    "\n",
    "'Total expenditure': General government expenditure on health as a percentage of total government expenditure (%)\n",
    "\n",
    "'Diphtheria ': Diphtheria tetanus toxoid and pertussis (DTP3) immunization coverage among 1-year-olds (%)\n",
    "\n",
    "'HIV/AIDS': Deaths per 1000 live births HIV/AIDS (0-4 years)\n",
    "\n",
    "'GDP': Gross Domestic Product per capita (in USD)\n",
    "\n",
    "'Population': Population of the country\n",
    "\n",
    "'thinness 1-19 years': Prevalence of thinness among children and adolescents for Age 10 to 19 (% )\n",
    "\n",
    "'thinness 5-9 years': Prevalence of thinness among children for Age 5 to 9(%)\n",
    "\n",
    "'Income composition of resources': Human Development Index in terms of income composition of resources (index ranging from 0 to 1)\n",
    "\n",
    "'Schooling': Number of years of Schooling(years)\n"
   ]
  },
  {
   "cell_type": "markdown",
   "metadata": {},
   "source": [
    "### 1. Importing the libraries"
   ]
  },
  {
   "cell_type": "code",
   "execution_count": 1,
   "metadata": {},
   "outputs": [],
   "source": [
    "import numpy as np\n",
    "import pandas as pd\n",
    "import matplotlib.pyplot as plt\n",
    "import seaborn as sns\n",
    "\n",
    "import warnings\n",
    "from sklearn.exceptions import DataConversionWarning\n",
    "warnings.filterwarnings(action='ignore',category= DataConversionWarning)\n",
    "warnings.simplefilter(action='ignore',category=FutureWarning)"
   ]
  },
  {
   "cell_type": "markdown",
   "metadata": {},
   "source": [
    "### 2. Reading the Dataset"
   ]
  },
  {
   "cell_type": "code",
   "execution_count": 2,
   "metadata": {},
   "outputs": [
    {
     "data": {
      "text/html": [
       "<div>\n",
       "<style scoped>\n",
       "    .dataframe tbody tr th:only-of-type {\n",
       "        vertical-align: middle;\n",
       "    }\n",
       "\n",
       "    .dataframe tbody tr th {\n",
       "        vertical-align: top;\n",
       "    }\n",
       "\n",
       "    .dataframe thead th {\n",
       "        text-align: right;\n",
       "    }\n",
       "</style>\n",
       "<table border=\"1\" class=\"dataframe\">\n",
       "  <thead>\n",
       "    <tr style=\"text-align: right;\">\n",
       "      <th></th>\n",
       "      <th>Country</th>\n",
       "      <th>Year</th>\n",
       "      <th>Status</th>\n",
       "      <th>Life expectancy</th>\n",
       "      <th>Adult Mortality</th>\n",
       "      <th>infant deaths</th>\n",
       "      <th>Alcohol</th>\n",
       "      <th>percentage expenditure</th>\n",
       "      <th>Hepatitis B</th>\n",
       "      <th>Measles</th>\n",
       "      <th>...</th>\n",
       "      <th>Polio</th>\n",
       "      <th>Total expenditure</th>\n",
       "      <th>Diphtheria</th>\n",
       "      <th>HIV/AIDS</th>\n",
       "      <th>GDP</th>\n",
       "      <th>Population</th>\n",
       "      <th>thinness  1-19 years</th>\n",
       "      <th>thinness 5-9 years</th>\n",
       "      <th>Income composition of resources</th>\n",
       "      <th>Schooling</th>\n",
       "    </tr>\n",
       "  </thead>\n",
       "  <tbody>\n",
       "    <tr>\n",
       "      <td>0</td>\n",
       "      <td>Afghanistan</td>\n",
       "      <td>2015</td>\n",
       "      <td>Developing</td>\n",
       "      <td>65.0</td>\n",
       "      <td>263.0</td>\n",
       "      <td>62</td>\n",
       "      <td>0.01</td>\n",
       "      <td>71.279624</td>\n",
       "      <td>65.0</td>\n",
       "      <td>1154</td>\n",
       "      <td>...</td>\n",
       "      <td>6.0</td>\n",
       "      <td>8.16</td>\n",
       "      <td>65.0</td>\n",
       "      <td>0.1</td>\n",
       "      <td>584.259210</td>\n",
       "      <td>33736494.0</td>\n",
       "      <td>17.2</td>\n",
       "      <td>17.3</td>\n",
       "      <td>0.479</td>\n",
       "      <td>10.1</td>\n",
       "    </tr>\n",
       "    <tr>\n",
       "      <td>1</td>\n",
       "      <td>Afghanistan</td>\n",
       "      <td>2014</td>\n",
       "      <td>Developing</td>\n",
       "      <td>59.9</td>\n",
       "      <td>271.0</td>\n",
       "      <td>64</td>\n",
       "      <td>0.01</td>\n",
       "      <td>73.523582</td>\n",
       "      <td>62.0</td>\n",
       "      <td>492</td>\n",
       "      <td>...</td>\n",
       "      <td>58.0</td>\n",
       "      <td>8.18</td>\n",
       "      <td>62.0</td>\n",
       "      <td>0.1</td>\n",
       "      <td>612.696514</td>\n",
       "      <td>327582.0</td>\n",
       "      <td>17.5</td>\n",
       "      <td>17.5</td>\n",
       "      <td>0.476</td>\n",
       "      <td>10.0</td>\n",
       "    </tr>\n",
       "    <tr>\n",
       "      <td>2</td>\n",
       "      <td>Afghanistan</td>\n",
       "      <td>2013</td>\n",
       "      <td>Developing</td>\n",
       "      <td>59.9</td>\n",
       "      <td>268.0</td>\n",
       "      <td>66</td>\n",
       "      <td>0.01</td>\n",
       "      <td>73.219243</td>\n",
       "      <td>64.0</td>\n",
       "      <td>430</td>\n",
       "      <td>...</td>\n",
       "      <td>62.0</td>\n",
       "      <td>8.13</td>\n",
       "      <td>64.0</td>\n",
       "      <td>0.1</td>\n",
       "      <td>631.744976</td>\n",
       "      <td>31731688.0</td>\n",
       "      <td>17.7</td>\n",
       "      <td>17.7</td>\n",
       "      <td>0.470</td>\n",
       "      <td>9.9</td>\n",
       "    </tr>\n",
       "    <tr>\n",
       "      <td>3</td>\n",
       "      <td>Afghanistan</td>\n",
       "      <td>2012</td>\n",
       "      <td>Developing</td>\n",
       "      <td>59.5</td>\n",
       "      <td>272.0</td>\n",
       "      <td>69</td>\n",
       "      <td>0.01</td>\n",
       "      <td>78.184215</td>\n",
       "      <td>67.0</td>\n",
       "      <td>2787</td>\n",
       "      <td>...</td>\n",
       "      <td>67.0</td>\n",
       "      <td>8.52</td>\n",
       "      <td>67.0</td>\n",
       "      <td>0.1</td>\n",
       "      <td>669.959000</td>\n",
       "      <td>3696958.0</td>\n",
       "      <td>17.9</td>\n",
       "      <td>18.0</td>\n",
       "      <td>0.463</td>\n",
       "      <td>9.8</td>\n",
       "    </tr>\n",
       "    <tr>\n",
       "      <td>4</td>\n",
       "      <td>Afghanistan</td>\n",
       "      <td>2011</td>\n",
       "      <td>Developing</td>\n",
       "      <td>59.2</td>\n",
       "      <td>275.0</td>\n",
       "      <td>71</td>\n",
       "      <td>0.01</td>\n",
       "      <td>7.097109</td>\n",
       "      <td>68.0</td>\n",
       "      <td>3013</td>\n",
       "      <td>...</td>\n",
       "      <td>68.0</td>\n",
       "      <td>7.87</td>\n",
       "      <td>68.0</td>\n",
       "      <td>0.1</td>\n",
       "      <td>63.537231</td>\n",
       "      <td>2978599.0</td>\n",
       "      <td>18.2</td>\n",
       "      <td>18.2</td>\n",
       "      <td>0.454</td>\n",
       "      <td>9.5</td>\n",
       "    </tr>\n",
       "  </tbody>\n",
       "</table>\n",
       "<p>5 rows × 22 columns</p>\n",
       "</div>"
      ],
      "text/plain": [
       "       Country  Year      Status  Life expectancy   Adult Mortality  \\\n",
       "0  Afghanistan  2015  Developing              65.0            263.0   \n",
       "1  Afghanistan  2014  Developing              59.9            271.0   \n",
       "2  Afghanistan  2013  Developing              59.9            268.0   \n",
       "3  Afghanistan  2012  Developing              59.5            272.0   \n",
       "4  Afghanistan  2011  Developing              59.2            275.0   \n",
       "\n",
       "   infant deaths  Alcohol  percentage expenditure  Hepatitis B  Measles   ...  \\\n",
       "0             62     0.01               71.279624         65.0      1154  ...   \n",
       "1             64     0.01               73.523582         62.0       492  ...   \n",
       "2             66     0.01               73.219243         64.0       430  ...   \n",
       "3             69     0.01               78.184215         67.0      2787  ...   \n",
       "4             71     0.01                7.097109         68.0      3013  ...   \n",
       "\n",
       "   Polio  Total expenditure  Diphtheria    HIV/AIDS         GDP  Population  \\\n",
       "0    6.0               8.16         65.0        0.1  584.259210  33736494.0   \n",
       "1   58.0               8.18         62.0        0.1  612.696514    327582.0   \n",
       "2   62.0               8.13         64.0        0.1  631.744976  31731688.0   \n",
       "3   67.0               8.52         67.0        0.1  669.959000   3696958.0   \n",
       "4   68.0               7.87         68.0        0.1   63.537231   2978599.0   \n",
       "\n",
       "    thinness  1-19 years   thinness 5-9 years  \\\n",
       "0                   17.2                 17.3   \n",
       "1                   17.5                 17.5   \n",
       "2                   17.7                 17.7   \n",
       "3                   17.9                 18.0   \n",
       "4                   18.2                 18.2   \n",
       "\n",
       "   Income composition of resources  Schooling  \n",
       "0                            0.479       10.1  \n",
       "1                            0.476       10.0  \n",
       "2                            0.470        9.9  \n",
       "3                            0.463        9.8  \n",
       "4                            0.454        9.5  \n",
       "\n",
       "[5 rows x 22 columns]"
      ]
     },
     "execution_count": 2,
     "metadata": {},
     "output_type": "execute_result"
    }
   ],
   "source": [
    "df = pd.read_csv('Life Expectancy Data.csv')\n",
    "df.head()"
   ]
  },
  {
   "cell_type": "code",
   "execution_count": 3,
   "metadata": {},
   "outputs": [
    {
     "data": {
      "text/plain": [
       "Index(['Country', 'Year', 'Status', 'Life expectancy ', 'Adult Mortality',\n",
       "       'infant deaths', 'Alcohol', 'percentage expenditure', 'Hepatitis B',\n",
       "       'Measles ', ' BMI ', 'under-five deaths ', 'Polio', 'Total expenditure',\n",
       "       'Diphtheria ', ' HIV/AIDS', 'GDP', 'Population',\n",
       "       ' thinness  1-19 years', ' thinness 5-9 years',\n",
       "       'Income composition of resources', 'Schooling'],\n",
       "      dtype='object')"
      ]
     },
     "execution_count": 3,
     "metadata": {},
     "output_type": "execute_result"
    }
   ],
   "source": [
    "## get columns of the dataset\n",
    "\n",
    "df.columns"
   ]
  },
  {
   "cell_type": "code",
   "execution_count": 4,
   "metadata": {},
   "outputs": [
    {
     "name": "stdout",
     "output_type": "stream",
     "text": [
      "<class 'pandas.core.frame.DataFrame'>\n",
      "RangeIndex: 2938 entries, 0 to 2937\n",
      "Data columns (total 22 columns):\n",
      "Country                            2938 non-null object\n",
      "Year                               2938 non-null int64\n",
      "Status                             2938 non-null object\n",
      "Life expectancy                    2928 non-null float64\n",
      "Adult Mortality                    2928 non-null float64\n",
      "infant deaths                      2938 non-null int64\n",
      "Alcohol                            2744 non-null float64\n",
      "percentage expenditure             2938 non-null float64\n",
      "Hepatitis B                        2385 non-null float64\n",
      "Measles                            2938 non-null int64\n",
      " BMI                               2904 non-null float64\n",
      "under-five deaths                  2938 non-null int64\n",
      "Polio                              2919 non-null float64\n",
      "Total expenditure                  2712 non-null float64\n",
      "Diphtheria                         2919 non-null float64\n",
      " HIV/AIDS                          2938 non-null float64\n",
      "GDP                                2490 non-null float64\n",
      "Population                         2286 non-null float64\n",
      " thinness  1-19 years              2904 non-null float64\n",
      " thinness 5-9 years                2904 non-null float64\n",
      "Income composition of resources    2771 non-null float64\n",
      "Schooling                          2775 non-null float64\n",
      "dtypes: float64(16), int64(4), object(2)\n",
      "memory usage: 505.1+ KB\n"
     ]
    }
   ],
   "source": [
    "## get information about the datatypes of each attribute\n",
    "\n",
    "df.info()"
   ]
  },
  {
   "cell_type": "markdown",
   "metadata": {},
   "source": [
    "### 3. Data Pre-processing"
   ]
  },
  {
   "cell_type": "code",
   "execution_count": 5,
   "metadata": {},
   "outputs": [],
   "source": [
    "## removing the leading and trailing spaces from attribute names\n",
    "\n",
    "df.columns = [i.strip() for i in df.columns.tolist()]"
   ]
  },
  {
   "cell_type": "code",
   "execution_count": 6,
   "metadata": {},
   "outputs": [],
   "source": [
    "## renaming the attribute as given in description\n",
    "\n",
    "df.rename(columns = {'thinness  1-19 years':'thinness 10-19 years'},inplace = True)"
   ]
  },
  {
   "cell_type": "code",
   "execution_count": 7,
   "metadata": {},
   "outputs": [],
   "source": [
    "## making the attribute names of similar format\n",
    "\n",
    "df.columns = [i.replace(' ','_').lower() for i in df.columns.tolist()]"
   ]
  },
  {
   "cell_type": "code",
   "execution_count": 8,
   "metadata": {},
   "outputs": [
    {
     "data": {
      "text/plain": [
       "Index(['country', 'year', 'status', 'life_expectancy', 'adult_mortality',\n",
       "       'infant_deaths', 'alcohol', 'percentage_expenditure', 'hepatitis_b',\n",
       "       'measles', 'bmi', 'under-five_deaths', 'polio', 'total_expenditure',\n",
       "       'diphtheria', 'hiv/aids', 'gdp', 'population', 'thinness_10-19_years',\n",
       "       'thinness_5-9_years', 'income_composition_of_resources', 'schooling'],\n",
       "      dtype='object')"
      ]
     },
     "execution_count": 8,
     "metadata": {},
     "output_type": "execute_result"
    }
   ],
   "source": [
    "df.columns"
   ]
  },
  {
   "cell_type": "code",
   "execution_count": 9,
   "metadata": {},
   "outputs": [],
   "source": [
    "## renaming the attribute under-five_deaths \n",
    "\n",
    "df.rename(columns = {'under-five_deaths':'under_five_deaths'},inplace = True)"
   ]
  },
  {
   "cell_type": "code",
   "execution_count": 10,
   "metadata": {},
   "outputs": [
    {
     "data": {
      "text/plain": [
       "Index(['country', 'year', 'status', 'life_expectancy', 'adult_mortality',\n",
       "       'infant_deaths', 'alcohol', 'percentage_expenditure', 'hepatitis_b',\n",
       "       'measles', 'bmi', 'under_five_deaths', 'polio', 'total_expenditure',\n",
       "       'diphtheria', 'hiv/aids', 'gdp', 'population', 'thinness_10-19_years',\n",
       "       'thinness_5-9_years', 'income_composition_of_resources', 'schooling'],\n",
       "      dtype='object')"
      ]
     },
     "execution_count": 10,
     "metadata": {},
     "output_type": "execute_result"
    }
   ],
   "source": [
    "df.columns"
   ]
  },
  {
   "cell_type": "code",
   "execution_count": null,
   "metadata": {},
   "outputs": [],
   "source": []
  },
  {
   "cell_type": "code",
   "execution_count": 11,
   "metadata": {},
   "outputs": [
    {
     "name": "stdout",
     "output_type": "stream",
     "text": [
      "['year', 'life_expectancy', 'adult_mortality', 'infant_deaths', 'alcohol', 'percentage_expenditure', 'hepatitis_b', 'measles', 'bmi', 'under_five_deaths', 'polio', 'total_expenditure', 'diphtheria', 'hiv/aids', 'gdp', 'population', 'thinness_10-19_years', 'thinness_5-9_years', 'income_composition_of_resources', 'schooling']\n"
     ]
    }
   ],
   "source": [
    "## get the numerical attributes\n",
    "\n",
    "num_cols = df.select_dtypes(exclude = 'object').columns.tolist()\n",
    "print(num_cols)"
   ]
  },
  {
   "cell_type": "code",
   "execution_count": 12,
   "metadata": {},
   "outputs": [
    {
     "name": "stdout",
     "output_type": "stream",
     "text": [
      "['country', 'status']\n"
     ]
    }
   ],
   "source": [
    "## get categorical attributes\n",
    "\n",
    "cat_cols = df.select_dtypes(include = 'object').columns.tolist()\n",
    "print(cat_cols)"
   ]
  },
  {
   "cell_type": "markdown",
   "metadata": {},
   "source": [
    "### 4. Descriptive Statistics"
   ]
  },
  {
   "cell_type": "code",
   "execution_count": 13,
   "metadata": {},
   "outputs": [
    {
     "data": {
      "text/html": [
       "<div>\n",
       "<style scoped>\n",
       "    .dataframe tbody tr th:only-of-type {\n",
       "        vertical-align: middle;\n",
       "    }\n",
       "\n",
       "    .dataframe tbody tr th {\n",
       "        vertical-align: top;\n",
       "    }\n",
       "\n",
       "    .dataframe thead th {\n",
       "        text-align: right;\n",
       "    }\n",
       "</style>\n",
       "<table border=\"1\" class=\"dataframe\">\n",
       "  <thead>\n",
       "    <tr style=\"text-align: right;\">\n",
       "      <th></th>\n",
       "      <th>year</th>\n",
       "      <th>life_expectancy</th>\n",
       "      <th>adult_mortality</th>\n",
       "      <th>infant_deaths</th>\n",
       "      <th>alcohol</th>\n",
       "      <th>percentage_expenditure</th>\n",
       "      <th>hepatitis_b</th>\n",
       "      <th>measles</th>\n",
       "      <th>bmi</th>\n",
       "      <th>under_five_deaths</th>\n",
       "      <th>polio</th>\n",
       "      <th>total_expenditure</th>\n",
       "      <th>diphtheria</th>\n",
       "      <th>hiv/aids</th>\n",
       "      <th>gdp</th>\n",
       "      <th>population</th>\n",
       "      <th>thinness_10-19_years</th>\n",
       "      <th>thinness_5-9_years</th>\n",
       "      <th>income_composition_of_resources</th>\n",
       "      <th>schooling</th>\n",
       "    </tr>\n",
       "  </thead>\n",
       "  <tbody>\n",
       "    <tr>\n",
       "      <td>count</td>\n",
       "      <td>2938.000000</td>\n",
       "      <td>2928.000000</td>\n",
       "      <td>2928.000000</td>\n",
       "      <td>2938.000000</td>\n",
       "      <td>2744.000000</td>\n",
       "      <td>2938.000000</td>\n",
       "      <td>2385.000000</td>\n",
       "      <td>2938.000000</td>\n",
       "      <td>2904.000000</td>\n",
       "      <td>2938.000000</td>\n",
       "      <td>2919.000000</td>\n",
       "      <td>2712.00000</td>\n",
       "      <td>2919.000000</td>\n",
       "      <td>2938.000000</td>\n",
       "      <td>2490.000000</td>\n",
       "      <td>2.286000e+03</td>\n",
       "      <td>2904.000000</td>\n",
       "      <td>2904.000000</td>\n",
       "      <td>2771.000000</td>\n",
       "      <td>2775.000000</td>\n",
       "    </tr>\n",
       "    <tr>\n",
       "      <td>mean</td>\n",
       "      <td>2007.518720</td>\n",
       "      <td>69.224932</td>\n",
       "      <td>164.796448</td>\n",
       "      <td>30.303948</td>\n",
       "      <td>4.602861</td>\n",
       "      <td>738.251295</td>\n",
       "      <td>80.940461</td>\n",
       "      <td>2419.592240</td>\n",
       "      <td>38.321247</td>\n",
       "      <td>42.035739</td>\n",
       "      <td>82.550188</td>\n",
       "      <td>5.93819</td>\n",
       "      <td>82.324084</td>\n",
       "      <td>1.742103</td>\n",
       "      <td>7483.158469</td>\n",
       "      <td>1.275338e+07</td>\n",
       "      <td>4.839704</td>\n",
       "      <td>4.870317</td>\n",
       "      <td>0.627551</td>\n",
       "      <td>11.992793</td>\n",
       "    </tr>\n",
       "    <tr>\n",
       "      <td>std</td>\n",
       "      <td>4.613841</td>\n",
       "      <td>9.523867</td>\n",
       "      <td>124.292079</td>\n",
       "      <td>117.926501</td>\n",
       "      <td>4.052413</td>\n",
       "      <td>1987.914858</td>\n",
       "      <td>25.070016</td>\n",
       "      <td>11467.272489</td>\n",
       "      <td>20.044034</td>\n",
       "      <td>160.445548</td>\n",
       "      <td>23.428046</td>\n",
       "      <td>2.49832</td>\n",
       "      <td>23.716912</td>\n",
       "      <td>5.077785</td>\n",
       "      <td>14270.169342</td>\n",
       "      <td>6.101210e+07</td>\n",
       "      <td>4.420195</td>\n",
       "      <td>4.508882</td>\n",
       "      <td>0.210904</td>\n",
       "      <td>3.358920</td>\n",
       "    </tr>\n",
       "    <tr>\n",
       "      <td>min</td>\n",
       "      <td>2000.000000</td>\n",
       "      <td>36.300000</td>\n",
       "      <td>1.000000</td>\n",
       "      <td>0.000000</td>\n",
       "      <td>0.010000</td>\n",
       "      <td>0.000000</td>\n",
       "      <td>1.000000</td>\n",
       "      <td>0.000000</td>\n",
       "      <td>1.000000</td>\n",
       "      <td>0.000000</td>\n",
       "      <td>3.000000</td>\n",
       "      <td>0.37000</td>\n",
       "      <td>2.000000</td>\n",
       "      <td>0.100000</td>\n",
       "      <td>1.681350</td>\n",
       "      <td>3.400000e+01</td>\n",
       "      <td>0.100000</td>\n",
       "      <td>0.100000</td>\n",
       "      <td>0.000000</td>\n",
       "      <td>0.000000</td>\n",
       "    </tr>\n",
       "    <tr>\n",
       "      <td>25%</td>\n",
       "      <td>2004.000000</td>\n",
       "      <td>63.100000</td>\n",
       "      <td>74.000000</td>\n",
       "      <td>0.000000</td>\n",
       "      <td>0.877500</td>\n",
       "      <td>4.685343</td>\n",
       "      <td>77.000000</td>\n",
       "      <td>0.000000</td>\n",
       "      <td>19.300000</td>\n",
       "      <td>0.000000</td>\n",
       "      <td>78.000000</td>\n",
       "      <td>4.26000</td>\n",
       "      <td>78.000000</td>\n",
       "      <td>0.100000</td>\n",
       "      <td>463.935626</td>\n",
       "      <td>1.957932e+05</td>\n",
       "      <td>1.600000</td>\n",
       "      <td>1.500000</td>\n",
       "      <td>0.493000</td>\n",
       "      <td>10.100000</td>\n",
       "    </tr>\n",
       "    <tr>\n",
       "      <td>50%</td>\n",
       "      <td>2008.000000</td>\n",
       "      <td>72.100000</td>\n",
       "      <td>144.000000</td>\n",
       "      <td>3.000000</td>\n",
       "      <td>3.755000</td>\n",
       "      <td>64.912906</td>\n",
       "      <td>92.000000</td>\n",
       "      <td>17.000000</td>\n",
       "      <td>43.500000</td>\n",
       "      <td>4.000000</td>\n",
       "      <td>93.000000</td>\n",
       "      <td>5.75500</td>\n",
       "      <td>93.000000</td>\n",
       "      <td>0.100000</td>\n",
       "      <td>1766.947595</td>\n",
       "      <td>1.386542e+06</td>\n",
       "      <td>3.300000</td>\n",
       "      <td>3.300000</td>\n",
       "      <td>0.677000</td>\n",
       "      <td>12.300000</td>\n",
       "    </tr>\n",
       "    <tr>\n",
       "      <td>75%</td>\n",
       "      <td>2012.000000</td>\n",
       "      <td>75.700000</td>\n",
       "      <td>228.000000</td>\n",
       "      <td>22.000000</td>\n",
       "      <td>7.702500</td>\n",
       "      <td>441.534144</td>\n",
       "      <td>97.000000</td>\n",
       "      <td>360.250000</td>\n",
       "      <td>56.200000</td>\n",
       "      <td>28.000000</td>\n",
       "      <td>97.000000</td>\n",
       "      <td>7.49250</td>\n",
       "      <td>97.000000</td>\n",
       "      <td>0.800000</td>\n",
       "      <td>5910.806335</td>\n",
       "      <td>7.420359e+06</td>\n",
       "      <td>7.200000</td>\n",
       "      <td>7.200000</td>\n",
       "      <td>0.779000</td>\n",
       "      <td>14.300000</td>\n",
       "    </tr>\n",
       "    <tr>\n",
       "      <td>max</td>\n",
       "      <td>2015.000000</td>\n",
       "      <td>89.000000</td>\n",
       "      <td>723.000000</td>\n",
       "      <td>1800.000000</td>\n",
       "      <td>17.870000</td>\n",
       "      <td>19479.911610</td>\n",
       "      <td>99.000000</td>\n",
       "      <td>212183.000000</td>\n",
       "      <td>87.300000</td>\n",
       "      <td>2500.000000</td>\n",
       "      <td>99.000000</td>\n",
       "      <td>17.60000</td>\n",
       "      <td>99.000000</td>\n",
       "      <td>50.600000</td>\n",
       "      <td>119172.741800</td>\n",
       "      <td>1.293859e+09</td>\n",
       "      <td>27.700000</td>\n",
       "      <td>28.600000</td>\n",
       "      <td>0.948000</td>\n",
       "      <td>20.700000</td>\n",
       "    </tr>\n",
       "  </tbody>\n",
       "</table>\n",
       "</div>"
      ],
      "text/plain": [
       "              year  life_expectancy  adult_mortality  infant_deaths  \\\n",
       "count  2938.000000      2928.000000      2928.000000    2938.000000   \n",
       "mean   2007.518720        69.224932       164.796448      30.303948   \n",
       "std       4.613841         9.523867       124.292079     117.926501   \n",
       "min    2000.000000        36.300000         1.000000       0.000000   \n",
       "25%    2004.000000        63.100000        74.000000       0.000000   \n",
       "50%    2008.000000        72.100000       144.000000       3.000000   \n",
       "75%    2012.000000        75.700000       228.000000      22.000000   \n",
       "max    2015.000000        89.000000       723.000000    1800.000000   \n",
       "\n",
       "           alcohol  percentage_expenditure  hepatitis_b        measles  \\\n",
       "count  2744.000000             2938.000000  2385.000000    2938.000000   \n",
       "mean      4.602861              738.251295    80.940461    2419.592240   \n",
       "std       4.052413             1987.914858    25.070016   11467.272489   \n",
       "min       0.010000                0.000000     1.000000       0.000000   \n",
       "25%       0.877500                4.685343    77.000000       0.000000   \n",
       "50%       3.755000               64.912906    92.000000      17.000000   \n",
       "75%       7.702500              441.534144    97.000000     360.250000   \n",
       "max      17.870000            19479.911610    99.000000  212183.000000   \n",
       "\n",
       "               bmi  under_five_deaths        polio  total_expenditure  \\\n",
       "count  2904.000000        2938.000000  2919.000000         2712.00000   \n",
       "mean     38.321247          42.035739    82.550188            5.93819   \n",
       "std      20.044034         160.445548    23.428046            2.49832   \n",
       "min       1.000000           0.000000     3.000000            0.37000   \n",
       "25%      19.300000           0.000000    78.000000            4.26000   \n",
       "50%      43.500000           4.000000    93.000000            5.75500   \n",
       "75%      56.200000          28.000000    97.000000            7.49250   \n",
       "max      87.300000        2500.000000    99.000000           17.60000   \n",
       "\n",
       "        diphtheria     hiv/aids            gdp    population  \\\n",
       "count  2919.000000  2938.000000    2490.000000  2.286000e+03   \n",
       "mean     82.324084     1.742103    7483.158469  1.275338e+07   \n",
       "std      23.716912     5.077785   14270.169342  6.101210e+07   \n",
       "min       2.000000     0.100000       1.681350  3.400000e+01   \n",
       "25%      78.000000     0.100000     463.935626  1.957932e+05   \n",
       "50%      93.000000     0.100000    1766.947595  1.386542e+06   \n",
       "75%      97.000000     0.800000    5910.806335  7.420359e+06   \n",
       "max      99.000000    50.600000  119172.741800  1.293859e+09   \n",
       "\n",
       "       thinness_10-19_years  thinness_5-9_years  \\\n",
       "count           2904.000000         2904.000000   \n",
       "mean               4.839704            4.870317   \n",
       "std                4.420195            4.508882   \n",
       "min                0.100000            0.100000   \n",
       "25%                1.600000            1.500000   \n",
       "50%                3.300000            3.300000   \n",
       "75%                7.200000            7.200000   \n",
       "max               27.700000           28.600000   \n",
       "\n",
       "       income_composition_of_resources    schooling  \n",
       "count                      2771.000000  2775.000000  \n",
       "mean                          0.627551    11.992793  \n",
       "std                           0.210904     3.358920  \n",
       "min                           0.000000     0.000000  \n",
       "25%                           0.493000    10.100000  \n",
       "50%                           0.677000    12.300000  \n",
       "75%                           0.779000    14.300000  \n",
       "max                           0.948000    20.700000  "
      ]
     },
     "execution_count": 13,
     "metadata": {},
     "output_type": "execute_result"
    }
   ],
   "source": [
    "## for numerical columns\n",
    "\n",
    "df[num_cols].describe()"
   ]
  },
  {
   "cell_type": "code",
   "execution_count": 14,
   "metadata": {},
   "outputs": [
    {
     "data": {
      "text/html": [
       "<div>\n",
       "<style scoped>\n",
       "    .dataframe tbody tr th:only-of-type {\n",
       "        vertical-align: middle;\n",
       "    }\n",
       "\n",
       "    .dataframe tbody tr th {\n",
       "        vertical-align: top;\n",
       "    }\n",
       "\n",
       "    .dataframe thead th {\n",
       "        text-align: right;\n",
       "    }\n",
       "</style>\n",
       "<table border=\"1\" class=\"dataframe\">\n",
       "  <thead>\n",
       "    <tr style=\"text-align: right;\">\n",
       "      <th></th>\n",
       "      <th>country</th>\n",
       "      <th>status</th>\n",
       "    </tr>\n",
       "  </thead>\n",
       "  <tbody>\n",
       "    <tr>\n",
       "      <td>count</td>\n",
       "      <td>2938</td>\n",
       "      <td>2938</td>\n",
       "    </tr>\n",
       "    <tr>\n",
       "      <td>unique</td>\n",
       "      <td>193</td>\n",
       "      <td>2</td>\n",
       "    </tr>\n",
       "    <tr>\n",
       "      <td>top</td>\n",
       "      <td>Qatar</td>\n",
       "      <td>Developing</td>\n",
       "    </tr>\n",
       "    <tr>\n",
       "      <td>freq</td>\n",
       "      <td>16</td>\n",
       "      <td>2426</td>\n",
       "    </tr>\n",
       "  </tbody>\n",
       "</table>\n",
       "</div>"
      ],
      "text/plain": [
       "       country      status\n",
       "count     2938        2938\n",
       "unique     193           2\n",
       "top      Qatar  Developing\n",
       "freq        16        2426"
      ]
     },
     "execution_count": 14,
     "metadata": {},
     "output_type": "execute_result"
    }
   ],
   "source": [
    "## for categorical columns\n",
    "\n",
    "df[cat_cols].describe()"
   ]
  },
  {
   "cell_type": "code",
   "execution_count": null,
   "metadata": {},
   "outputs": [],
   "source": []
  },
  {
   "cell_type": "code",
   "execution_count": 15,
   "metadata": {},
   "outputs": [],
   "source": [
    "developed = df[df['status']=='Developed']"
   ]
  },
  {
   "cell_type": "code",
   "execution_count": 16,
   "metadata": {},
   "outputs": [],
   "source": [
    "developing = df[df['status']=='Developing']"
   ]
  },
  {
   "cell_type": "code",
   "execution_count": null,
   "metadata": {},
   "outputs": [],
   "source": []
  },
  {
   "cell_type": "markdown",
   "metadata": {},
   "source": [
    "### 5. Detecting and Treating Missing Values"
   ]
  },
  {
   "cell_type": "code",
   "execution_count": 17,
   "metadata": {},
   "outputs": [
    {
     "data": {
      "text/plain": [
       "life_expectancy                     10\n",
       "adult_mortality                     10\n",
       "alcohol                            194\n",
       "hepatitis_b                        553\n",
       "bmi                                 34\n",
       "polio                               19\n",
       "total_expenditure                  226\n",
       "diphtheria                          19\n",
       "gdp                                448\n",
       "population                         652\n",
       "thinness_10-19_years                34\n",
       "thinness_5-9_years                  34\n",
       "income_composition_of_resources    167\n",
       "schooling                          163\n",
       "dtype: int64"
      ]
     },
     "execution_count": 17,
     "metadata": {},
     "output_type": "execute_result"
    }
   ],
   "source": [
    "df.isnull().sum()[df.isnull().sum() > 0]"
   ]
  },
  {
   "cell_type": "code",
   "execution_count": 18,
   "metadata": {},
   "outputs": [
    {
     "data": {
      "text/html": [
       "<div>\n",
       "<style scoped>\n",
       "    .dataframe tbody tr th:only-of-type {\n",
       "        vertical-align: middle;\n",
       "    }\n",
       "\n",
       "    .dataframe tbody tr th {\n",
       "        vertical-align: top;\n",
       "    }\n",
       "\n",
       "    .dataframe thead th {\n",
       "        text-align: right;\n",
       "    }\n",
       "</style>\n",
       "<table border=\"1\" class=\"dataframe\">\n",
       "  <thead>\n",
       "    <tr style=\"text-align: right;\">\n",
       "      <th></th>\n",
       "      <th>country</th>\n",
       "      <th>year</th>\n",
       "      <th>status</th>\n",
       "      <th>life_expectancy</th>\n",
       "      <th>adult_mortality</th>\n",
       "      <th>infant_deaths</th>\n",
       "      <th>alcohol</th>\n",
       "      <th>percentage_expenditure</th>\n",
       "      <th>hepatitis_b</th>\n",
       "      <th>measles</th>\n",
       "      <th>...</th>\n",
       "      <th>polio</th>\n",
       "      <th>total_expenditure</th>\n",
       "      <th>diphtheria</th>\n",
       "      <th>hiv/aids</th>\n",
       "      <th>gdp</th>\n",
       "      <th>population</th>\n",
       "      <th>thinness_10-19_years</th>\n",
       "      <th>thinness_5-9_years</th>\n",
       "      <th>income_composition_of_resources</th>\n",
       "      <th>schooling</th>\n",
       "    </tr>\n",
       "  </thead>\n",
       "  <tbody>\n",
       "    <tr>\n",
       "      <td>624</td>\n",
       "      <td>Cook Islands</td>\n",
       "      <td>2013</td>\n",
       "      <td>Developing</td>\n",
       "      <td>NaN</td>\n",
       "      <td>NaN</td>\n",
       "      <td>0</td>\n",
       "      <td>0.01</td>\n",
       "      <td>0.000000</td>\n",
       "      <td>98.0</td>\n",
       "      <td>0</td>\n",
       "      <td>...</td>\n",
       "      <td>98.0</td>\n",
       "      <td>3.58</td>\n",
       "      <td>98.0</td>\n",
       "      <td>0.1</td>\n",
       "      <td>NaN</td>\n",
       "      <td>NaN</td>\n",
       "      <td>0.1</td>\n",
       "      <td>0.1</td>\n",
       "      <td>NaN</td>\n",
       "      <td>NaN</td>\n",
       "    </tr>\n",
       "    <tr>\n",
       "      <td>769</td>\n",
       "      <td>Dominica</td>\n",
       "      <td>2013</td>\n",
       "      <td>Developing</td>\n",
       "      <td>NaN</td>\n",
       "      <td>NaN</td>\n",
       "      <td>0</td>\n",
       "      <td>0.01</td>\n",
       "      <td>11.419555</td>\n",
       "      <td>96.0</td>\n",
       "      <td>0</td>\n",
       "      <td>...</td>\n",
       "      <td>96.0</td>\n",
       "      <td>5.58</td>\n",
       "      <td>96.0</td>\n",
       "      <td>0.1</td>\n",
       "      <td>722.756650</td>\n",
       "      <td>NaN</td>\n",
       "      <td>2.7</td>\n",
       "      <td>2.6</td>\n",
       "      <td>0.721</td>\n",
       "      <td>12.7</td>\n",
       "    </tr>\n",
       "    <tr>\n",
       "      <td>1650</td>\n",
       "      <td>Marshall Islands</td>\n",
       "      <td>2013</td>\n",
       "      <td>Developing</td>\n",
       "      <td>NaN</td>\n",
       "      <td>NaN</td>\n",
       "      <td>0</td>\n",
       "      <td>0.01</td>\n",
       "      <td>871.878317</td>\n",
       "      <td>8.0</td>\n",
       "      <td>0</td>\n",
       "      <td>...</td>\n",
       "      <td>79.0</td>\n",
       "      <td>17.24</td>\n",
       "      <td>79.0</td>\n",
       "      <td>0.1</td>\n",
       "      <td>3617.752354</td>\n",
       "      <td>NaN</td>\n",
       "      <td>0.1</td>\n",
       "      <td>0.1</td>\n",
       "      <td>NaN</td>\n",
       "      <td>0.0</td>\n",
       "    </tr>\n",
       "    <tr>\n",
       "      <td>1715</td>\n",
       "      <td>Monaco</td>\n",
       "      <td>2013</td>\n",
       "      <td>Developing</td>\n",
       "      <td>NaN</td>\n",
       "      <td>NaN</td>\n",
       "      <td>0</td>\n",
       "      <td>0.01</td>\n",
       "      <td>0.000000</td>\n",
       "      <td>99.0</td>\n",
       "      <td>0</td>\n",
       "      <td>...</td>\n",
       "      <td>99.0</td>\n",
       "      <td>4.30</td>\n",
       "      <td>99.0</td>\n",
       "      <td>0.1</td>\n",
       "      <td>NaN</td>\n",
       "      <td>NaN</td>\n",
       "      <td>NaN</td>\n",
       "      <td>NaN</td>\n",
       "      <td>NaN</td>\n",
       "      <td>NaN</td>\n",
       "    </tr>\n",
       "    <tr>\n",
       "      <td>1812</td>\n",
       "      <td>Nauru</td>\n",
       "      <td>2013</td>\n",
       "      <td>Developing</td>\n",
       "      <td>NaN</td>\n",
       "      <td>NaN</td>\n",
       "      <td>0</td>\n",
       "      <td>0.01</td>\n",
       "      <td>15.606596</td>\n",
       "      <td>87.0</td>\n",
       "      <td>0</td>\n",
       "      <td>...</td>\n",
       "      <td>87.0</td>\n",
       "      <td>4.65</td>\n",
       "      <td>87.0</td>\n",
       "      <td>0.1</td>\n",
       "      <td>136.183210</td>\n",
       "      <td>NaN</td>\n",
       "      <td>0.1</td>\n",
       "      <td>0.1</td>\n",
       "      <td>NaN</td>\n",
       "      <td>9.6</td>\n",
       "    </tr>\n",
       "    <tr>\n",
       "      <td>1909</td>\n",
       "      <td>Niue</td>\n",
       "      <td>2013</td>\n",
       "      <td>Developing</td>\n",
       "      <td>NaN</td>\n",
       "      <td>NaN</td>\n",
       "      <td>0</td>\n",
       "      <td>0.01</td>\n",
       "      <td>0.000000</td>\n",
       "      <td>99.0</td>\n",
       "      <td>0</td>\n",
       "      <td>...</td>\n",
       "      <td>99.0</td>\n",
       "      <td>7.20</td>\n",
       "      <td>99.0</td>\n",
       "      <td>0.1</td>\n",
       "      <td>NaN</td>\n",
       "      <td>NaN</td>\n",
       "      <td>0.1</td>\n",
       "      <td>0.1</td>\n",
       "      <td>NaN</td>\n",
       "      <td>NaN</td>\n",
       "    </tr>\n",
       "    <tr>\n",
       "      <td>1958</td>\n",
       "      <td>Palau</td>\n",
       "      <td>2013</td>\n",
       "      <td>Developing</td>\n",
       "      <td>NaN</td>\n",
       "      <td>NaN</td>\n",
       "      <td>0</td>\n",
       "      <td>NaN</td>\n",
       "      <td>344.690631</td>\n",
       "      <td>99.0</td>\n",
       "      <td>0</td>\n",
       "      <td>...</td>\n",
       "      <td>99.0</td>\n",
       "      <td>9.27</td>\n",
       "      <td>99.0</td>\n",
       "      <td>0.1</td>\n",
       "      <td>1932.122370</td>\n",
       "      <td>292.0</td>\n",
       "      <td>0.1</td>\n",
       "      <td>0.1</td>\n",
       "      <td>0.779</td>\n",
       "      <td>14.2</td>\n",
       "    </tr>\n",
       "    <tr>\n",
       "      <td>2167</td>\n",
       "      <td>Saint Kitts and Nevis</td>\n",
       "      <td>2013</td>\n",
       "      <td>Developing</td>\n",
       "      <td>NaN</td>\n",
       "      <td>NaN</td>\n",
       "      <td>0</td>\n",
       "      <td>8.54</td>\n",
       "      <td>0.000000</td>\n",
       "      <td>97.0</td>\n",
       "      <td>0</td>\n",
       "      <td>...</td>\n",
       "      <td>96.0</td>\n",
       "      <td>6.14</td>\n",
       "      <td>96.0</td>\n",
       "      <td>0.1</td>\n",
       "      <td>NaN</td>\n",
       "      <td>NaN</td>\n",
       "      <td>3.7</td>\n",
       "      <td>3.6</td>\n",
       "      <td>0.749</td>\n",
       "      <td>13.4</td>\n",
       "    </tr>\n",
       "    <tr>\n",
       "      <td>2216</td>\n",
       "      <td>San Marino</td>\n",
       "      <td>2013</td>\n",
       "      <td>Developing</td>\n",
       "      <td>NaN</td>\n",
       "      <td>NaN</td>\n",
       "      <td>0</td>\n",
       "      <td>0.01</td>\n",
       "      <td>0.000000</td>\n",
       "      <td>69.0</td>\n",
       "      <td>0</td>\n",
       "      <td>...</td>\n",
       "      <td>69.0</td>\n",
       "      <td>6.50</td>\n",
       "      <td>69.0</td>\n",
       "      <td>0.1</td>\n",
       "      <td>NaN</td>\n",
       "      <td>NaN</td>\n",
       "      <td>NaN</td>\n",
       "      <td>NaN</td>\n",
       "      <td>NaN</td>\n",
       "      <td>15.1</td>\n",
       "    </tr>\n",
       "    <tr>\n",
       "      <td>2713</td>\n",
       "      <td>Tuvalu</td>\n",
       "      <td>2013</td>\n",
       "      <td>Developing</td>\n",
       "      <td>NaN</td>\n",
       "      <td>NaN</td>\n",
       "      <td>0</td>\n",
       "      <td>0.01</td>\n",
       "      <td>78.281203</td>\n",
       "      <td>9.0</td>\n",
       "      <td>0</td>\n",
       "      <td>...</td>\n",
       "      <td>9.0</td>\n",
       "      <td>16.61</td>\n",
       "      <td>9.0</td>\n",
       "      <td>0.1</td>\n",
       "      <td>3542.135890</td>\n",
       "      <td>1819.0</td>\n",
       "      <td>0.2</td>\n",
       "      <td>0.1</td>\n",
       "      <td>NaN</td>\n",
       "      <td>0.0</td>\n",
       "    </tr>\n",
       "  </tbody>\n",
       "</table>\n",
       "<p>10 rows × 22 columns</p>\n",
       "</div>"
      ],
      "text/plain": [
       "                    country  year      status  life_expectancy  \\\n",
       "624            Cook Islands  2013  Developing              NaN   \n",
       "769                Dominica  2013  Developing              NaN   \n",
       "1650       Marshall Islands  2013  Developing              NaN   \n",
       "1715                 Monaco  2013  Developing              NaN   \n",
       "1812                  Nauru  2013  Developing              NaN   \n",
       "1909                   Niue  2013  Developing              NaN   \n",
       "1958                  Palau  2013  Developing              NaN   \n",
       "2167  Saint Kitts and Nevis  2013  Developing              NaN   \n",
       "2216             San Marino  2013  Developing              NaN   \n",
       "2713                 Tuvalu  2013  Developing              NaN   \n",
       "\n",
       "      adult_mortality  infant_deaths  alcohol  percentage_expenditure  \\\n",
       "624               NaN              0     0.01                0.000000   \n",
       "769               NaN              0     0.01               11.419555   \n",
       "1650              NaN              0     0.01              871.878317   \n",
       "1715              NaN              0     0.01                0.000000   \n",
       "1812              NaN              0     0.01               15.606596   \n",
       "1909              NaN              0     0.01                0.000000   \n",
       "1958              NaN              0      NaN              344.690631   \n",
       "2167              NaN              0     8.54                0.000000   \n",
       "2216              NaN              0     0.01                0.000000   \n",
       "2713              NaN              0     0.01               78.281203   \n",
       "\n",
       "      hepatitis_b  measles  ...  polio  total_expenditure  diphtheria  \\\n",
       "624          98.0        0  ...   98.0               3.58        98.0   \n",
       "769          96.0        0  ...   96.0               5.58        96.0   \n",
       "1650          8.0        0  ...   79.0              17.24        79.0   \n",
       "1715         99.0        0  ...   99.0               4.30        99.0   \n",
       "1812         87.0        0  ...   87.0               4.65        87.0   \n",
       "1909         99.0        0  ...   99.0               7.20        99.0   \n",
       "1958         99.0        0  ...   99.0               9.27        99.0   \n",
       "2167         97.0        0  ...   96.0               6.14        96.0   \n",
       "2216         69.0        0  ...   69.0               6.50        69.0   \n",
       "2713          9.0        0  ...    9.0              16.61         9.0   \n",
       "\n",
       "      hiv/aids          gdp  population  thinness_10-19_years  \\\n",
       "624        0.1          NaN         NaN                   0.1   \n",
       "769        0.1   722.756650         NaN                   2.7   \n",
       "1650       0.1  3617.752354         NaN                   0.1   \n",
       "1715       0.1          NaN         NaN                   NaN   \n",
       "1812       0.1   136.183210         NaN                   0.1   \n",
       "1909       0.1          NaN         NaN                   0.1   \n",
       "1958       0.1  1932.122370       292.0                   0.1   \n",
       "2167       0.1          NaN         NaN                   3.7   \n",
       "2216       0.1          NaN         NaN                   NaN   \n",
       "2713       0.1  3542.135890      1819.0                   0.2   \n",
       "\n",
       "      thinness_5-9_years  income_composition_of_resources  schooling  \n",
       "624                  0.1                              NaN        NaN  \n",
       "769                  2.6                            0.721       12.7  \n",
       "1650                 0.1                              NaN        0.0  \n",
       "1715                 NaN                              NaN        NaN  \n",
       "1812                 0.1                              NaN        9.6  \n",
       "1909                 0.1                              NaN        NaN  \n",
       "1958                 0.1                            0.779       14.2  \n",
       "2167                 3.6                            0.749       13.4  \n",
       "2216                 NaN                              NaN       15.1  \n",
       "2713                 0.1                              NaN        0.0  \n",
       "\n",
       "[10 rows x 22 columns]"
      ]
     },
     "execution_count": 18,
     "metadata": {},
     "output_type": "execute_result"
    }
   ],
   "source": [
    "## missing values for life expectancy\n",
    "\n",
    "df[df['life_expectancy'].isnull()]"
   ]
  },
  {
   "cell_type": "markdown",
   "metadata": {},
   "source": [
    "##### Now as we have data of years from 2000 to 2015, we can impute the values by grouping the data for each country based on year and taking their mean"
   ]
  },
  {
   "cell_type": "code",
   "execution_count": 19,
   "metadata": {},
   "outputs": [
    {
     "data": {
      "text/html": [
       "<div>\n",
       "<style scoped>\n",
       "    .dataframe tbody tr th:only-of-type {\n",
       "        vertical-align: middle;\n",
       "    }\n",
       "\n",
       "    .dataframe tbody tr th {\n",
       "        vertical-align: top;\n",
       "    }\n",
       "\n",
       "    .dataframe thead th {\n",
       "        text-align: right;\n",
       "    }\n",
       "</style>\n",
       "<table border=\"1\" class=\"dataframe\">\n",
       "  <thead>\n",
       "    <tr style=\"text-align: right;\">\n",
       "      <th></th>\n",
       "      <th>country</th>\n",
       "      <th>year</th>\n",
       "      <th>status</th>\n",
       "      <th>life_expectancy</th>\n",
       "      <th>adult_mortality</th>\n",
       "      <th>infant_deaths</th>\n",
       "      <th>alcohol</th>\n",
       "      <th>percentage_expenditure</th>\n",
       "      <th>hepatitis_b</th>\n",
       "      <th>measles</th>\n",
       "      <th>...</th>\n",
       "      <th>polio</th>\n",
       "      <th>total_expenditure</th>\n",
       "      <th>diphtheria</th>\n",
       "      <th>hiv/aids</th>\n",
       "      <th>gdp</th>\n",
       "      <th>population</th>\n",
       "      <th>thinness_10-19_years</th>\n",
       "      <th>thinness_5-9_years</th>\n",
       "      <th>income_composition_of_resources</th>\n",
       "      <th>schooling</th>\n",
       "    </tr>\n",
       "  </thead>\n",
       "  <tbody>\n",
       "    <tr>\n",
       "      <td>624</td>\n",
       "      <td>Cook Islands</td>\n",
       "      <td>2013</td>\n",
       "      <td>Developing</td>\n",
       "      <td>NaN</td>\n",
       "      <td>NaN</td>\n",
       "      <td>0</td>\n",
       "      <td>0.01</td>\n",
       "      <td>0.0</td>\n",
       "      <td>98.0</td>\n",
       "      <td>0</td>\n",
       "      <td>...</td>\n",
       "      <td>98.0</td>\n",
       "      <td>3.58</td>\n",
       "      <td>98.0</td>\n",
       "      <td>0.1</td>\n",
       "      <td>NaN</td>\n",
       "      <td>NaN</td>\n",
       "      <td>0.1</td>\n",
       "      <td>0.1</td>\n",
       "      <td>NaN</td>\n",
       "      <td>NaN</td>\n",
       "    </tr>\n",
       "  </tbody>\n",
       "</table>\n",
       "<p>1 rows × 22 columns</p>\n",
       "</div>"
      ],
      "text/plain": [
       "          country  year      status  life_expectancy  adult_mortality  \\\n",
       "624  Cook Islands  2013  Developing              NaN              NaN   \n",
       "\n",
       "     infant_deaths  alcohol  percentage_expenditure  hepatitis_b  measles  \\\n",
       "624              0     0.01                     0.0         98.0        0   \n",
       "\n",
       "     ...  polio  total_expenditure  diphtheria  hiv/aids  gdp  population  \\\n",
       "624  ...   98.0               3.58        98.0       0.1  NaN         NaN   \n",
       "\n",
       "     thinness_10-19_years  thinness_5-9_years  \\\n",
       "624                   0.1                 0.1   \n",
       "\n",
       "     income_composition_of_resources  schooling  \n",
       "624                              NaN        NaN  \n",
       "\n",
       "[1 rows x 22 columns]"
      ]
     },
     "execution_count": 19,
     "metadata": {},
     "output_type": "execute_result"
    }
   ],
   "source": [
    "## check data for a signle country\n",
    "df[df['country'] == 'Cook Islands']"
   ]
  },
  {
   "cell_type": "markdown",
   "metadata": {},
   "source": [
    "##### Here, Cook Islands have data for only one year so cannot perfrom any kind of imputation"
   ]
  },
  {
   "cell_type": "code",
   "execution_count": 20,
   "metadata": {},
   "outputs": [
    {
     "name": "stdout",
     "output_type": "stream",
     "text": [
      "Cook Islands [2013]\n",
      "Dominica [2013]\n",
      "Marshall Islands [2013]\n",
      "Monaco [2013]\n",
      "Nauru [2013]\n",
      "Niue [2013]\n",
      "Palau [2013]\n",
      "Saint Kitts and Nevis [2013]\n",
      "San Marino [2013]\n",
      "Tuvalu [2013]\n"
     ]
    }
   ],
   "source": [
    "## check for other countries also\n",
    "le = df[df['life_expectancy'].isnull()]\n",
    "for i in le['country'].unique():\n",
    "    print(i, le[le['country'] == i]['year'].unique())"
   ]
  },
  {
   "cell_type": "markdown",
   "metadata": {},
   "source": [
    "##### From above results it is evident that only data for a single year is available which cannot be imputed. So, drop these rows"
   ]
  },
  {
   "cell_type": "code",
   "execution_count": 21,
   "metadata": {},
   "outputs": [],
   "source": [
    "## drop the above 10 rows using the indexes\n",
    "\n",
    "df.drop(le.index, axis = 0, inplace = True)"
   ]
  },
  {
   "cell_type": "code",
   "execution_count": 22,
   "metadata": {},
   "outputs": [
    {
     "data": {
      "text/plain": [
       "(2928, 22)"
      ]
     },
     "execution_count": 22,
     "metadata": {},
     "output_type": "execute_result"
    }
   ],
   "source": [
    "df.shape"
   ]
  },
  {
   "cell_type": "code",
   "execution_count": 23,
   "metadata": {},
   "outputs": [
    {
     "data": {
      "text/plain": [
       "alcohol                            193\n",
       "hepatitis_b                        553\n",
       "bmi                                 32\n",
       "polio                               19\n",
       "total_expenditure                  226\n",
       "diphtheria                          19\n",
       "gdp                                443\n",
       "population                         644\n",
       "thinness_10-19_years                32\n",
       "thinness_5-9_years                  32\n",
       "income_composition_of_resources    160\n",
       "schooling                          160\n",
       "dtype: int64"
      ]
     },
     "execution_count": 23,
     "metadata": {},
     "output_type": "execute_result"
    }
   ],
   "source": [
    "## check for remaining missing values\n",
    "\n",
    "df.isnull().sum()[df.isnull().sum() > 0]"
   ]
  },
  {
   "cell_type": "code",
   "execution_count": null,
   "metadata": {},
   "outputs": [],
   "source": []
  },
  {
   "cell_type": "code",
   "execution_count": 24,
   "metadata": {},
   "outputs": [],
   "source": [
    "## Now finding the countries which have data for only one year\n",
    "\n",
    "for i in df['country'].unique():\n",
    "    if len(df[df['country'] == i]['year'].unique()) == 1:\n",
    "        print(i,df[df['country'] == i]['year'].unique()) \n",
    "        \n",
    "## there are no countries with data for one year only"
   ]
  },
  {
   "cell_type": "code",
   "execution_count": null,
   "metadata": {},
   "outputs": [],
   "source": []
  },
  {
   "cell_type": "code",
   "execution_count": 25,
   "metadata": {},
   "outputs": [
    {
     "data": {
      "text/html": [
       "<div>\n",
       "<style scoped>\n",
       "    .dataframe tbody tr th:only-of-type {\n",
       "        vertical-align: middle;\n",
       "    }\n",
       "\n",
       "    .dataframe tbody tr th {\n",
       "        vertical-align: top;\n",
       "    }\n",
       "\n",
       "    .dataframe thead th {\n",
       "        text-align: right;\n",
       "    }\n",
       "</style>\n",
       "<table border=\"1\" class=\"dataframe\">\n",
       "  <thead>\n",
       "    <tr style=\"text-align: right;\">\n",
       "      <th></th>\n",
       "      <th>country</th>\n",
       "      <th>year</th>\n",
       "      <th>status</th>\n",
       "      <th>life_expectancy</th>\n",
       "      <th>adult_mortality</th>\n",
       "      <th>infant_deaths</th>\n",
       "      <th>alcohol</th>\n",
       "      <th>percentage_expenditure</th>\n",
       "      <th>hepatitis_b</th>\n",
       "      <th>measles</th>\n",
       "      <th>...</th>\n",
       "      <th>polio</th>\n",
       "      <th>total_expenditure</th>\n",
       "      <th>diphtheria</th>\n",
       "      <th>hiv/aids</th>\n",
       "      <th>gdp</th>\n",
       "      <th>population</th>\n",
       "      <th>thinness_10-19_years</th>\n",
       "      <th>thinness_5-9_years</th>\n",
       "      <th>income_composition_of_resources</th>\n",
       "      <th>schooling</th>\n",
       "    </tr>\n",
       "  </thead>\n",
       "  <tbody>\n",
       "    <tr>\n",
       "      <td>2409</td>\n",
       "      <td>South Sudan</td>\n",
       "      <td>2015</td>\n",
       "      <td>Developing</td>\n",
       "      <td>57.3</td>\n",
       "      <td>332.0</td>\n",
       "      <td>26</td>\n",
       "      <td>NaN</td>\n",
       "      <td>0.000000</td>\n",
       "      <td>31.0</td>\n",
       "      <td>878</td>\n",
       "      <td>...</td>\n",
       "      <td>41.0</td>\n",
       "      <td>NaN</td>\n",
       "      <td>31.0</td>\n",
       "      <td>3.4</td>\n",
       "      <td>758.725782</td>\n",
       "      <td>11882136.0</td>\n",
       "      <td>NaN</td>\n",
       "      <td>NaN</td>\n",
       "      <td>0.421</td>\n",
       "      <td>4.9</td>\n",
       "    </tr>\n",
       "    <tr>\n",
       "      <td>2410</td>\n",
       "      <td>South Sudan</td>\n",
       "      <td>2014</td>\n",
       "      <td>Developing</td>\n",
       "      <td>56.6</td>\n",
       "      <td>343.0</td>\n",
       "      <td>26</td>\n",
       "      <td>NaN</td>\n",
       "      <td>46.074469</td>\n",
       "      <td>NaN</td>\n",
       "      <td>441</td>\n",
       "      <td>...</td>\n",
       "      <td>44.0</td>\n",
       "      <td>2.74</td>\n",
       "      <td>39.0</td>\n",
       "      <td>3.5</td>\n",
       "      <td>1151.861715</td>\n",
       "      <td>1153971.0</td>\n",
       "      <td>NaN</td>\n",
       "      <td>NaN</td>\n",
       "      <td>0.421</td>\n",
       "      <td>4.9</td>\n",
       "    </tr>\n",
       "    <tr>\n",
       "      <td>2411</td>\n",
       "      <td>South Sudan</td>\n",
       "      <td>2013</td>\n",
       "      <td>Developing</td>\n",
       "      <td>56.4</td>\n",
       "      <td>345.0</td>\n",
       "      <td>26</td>\n",
       "      <td>NaN</td>\n",
       "      <td>47.444530</td>\n",
       "      <td>NaN</td>\n",
       "      <td>525</td>\n",
       "      <td>...</td>\n",
       "      <td>5.0</td>\n",
       "      <td>2.62</td>\n",
       "      <td>45.0</td>\n",
       "      <td>3.6</td>\n",
       "      <td>1186.113250</td>\n",
       "      <td>1117749.0</td>\n",
       "      <td>NaN</td>\n",
       "      <td>NaN</td>\n",
       "      <td>0.417</td>\n",
       "      <td>4.9</td>\n",
       "    </tr>\n",
       "    <tr>\n",
       "      <td>2412</td>\n",
       "      <td>South Sudan</td>\n",
       "      <td>2012</td>\n",
       "      <td>Developing</td>\n",
       "      <td>56.0</td>\n",
       "      <td>347.0</td>\n",
       "      <td>26</td>\n",
       "      <td>NaN</td>\n",
       "      <td>38.338232</td>\n",
       "      <td>NaN</td>\n",
       "      <td>1952</td>\n",
       "      <td>...</td>\n",
       "      <td>64.0</td>\n",
       "      <td>2.77</td>\n",
       "      <td>59.0</td>\n",
       "      <td>3.8</td>\n",
       "      <td>958.455810</td>\n",
       "      <td>1818258.0</td>\n",
       "      <td>NaN</td>\n",
       "      <td>NaN</td>\n",
       "      <td>0.419</td>\n",
       "      <td>4.9</td>\n",
       "    </tr>\n",
       "    <tr>\n",
       "      <td>2413</td>\n",
       "      <td>South Sudan</td>\n",
       "      <td>2011</td>\n",
       "      <td>Developing</td>\n",
       "      <td>55.4</td>\n",
       "      <td>355.0</td>\n",
       "      <td>27</td>\n",
       "      <td>NaN</td>\n",
       "      <td>0.000000</td>\n",
       "      <td>NaN</td>\n",
       "      <td>1256</td>\n",
       "      <td>...</td>\n",
       "      <td>66.0</td>\n",
       "      <td>NaN</td>\n",
       "      <td>61.0</td>\n",
       "      <td>3.9</td>\n",
       "      <td>176.971300</td>\n",
       "      <td>1448857.0</td>\n",
       "      <td>NaN</td>\n",
       "      <td>NaN</td>\n",
       "      <td>0.429</td>\n",
       "      <td>4.9</td>\n",
       "    </tr>\n",
       "  </tbody>\n",
       "</table>\n",
       "<p>5 rows × 22 columns</p>\n",
       "</div>"
      ],
      "text/plain": [
       "          country  year      status  life_expectancy  adult_mortality  \\\n",
       "2409  South Sudan  2015  Developing             57.3            332.0   \n",
       "2410  South Sudan  2014  Developing             56.6            343.0   \n",
       "2411  South Sudan  2013  Developing             56.4            345.0   \n",
       "2412  South Sudan  2012  Developing             56.0            347.0   \n",
       "2413  South Sudan  2011  Developing             55.4            355.0   \n",
       "\n",
       "      infant_deaths  alcohol  percentage_expenditure  hepatitis_b  measles  \\\n",
       "2409             26      NaN                0.000000         31.0      878   \n",
       "2410             26      NaN               46.074469          NaN      441   \n",
       "2411             26      NaN               47.444530          NaN      525   \n",
       "2412             26      NaN               38.338232          NaN     1952   \n",
       "2413             27      NaN                0.000000          NaN     1256   \n",
       "\n",
       "      ...  polio  total_expenditure  diphtheria  hiv/aids          gdp  \\\n",
       "2409  ...   41.0                NaN        31.0       3.4   758.725782   \n",
       "2410  ...   44.0               2.74        39.0       3.5  1151.861715   \n",
       "2411  ...    5.0               2.62        45.0       3.6  1186.113250   \n",
       "2412  ...   64.0               2.77        59.0       3.8   958.455810   \n",
       "2413  ...   66.0                NaN        61.0       3.9   176.971300   \n",
       "\n",
       "      population  thinness_10-19_years  thinness_5-9_years  \\\n",
       "2409  11882136.0                   NaN                 NaN   \n",
       "2410   1153971.0                   NaN                 NaN   \n",
       "2411   1117749.0                   NaN                 NaN   \n",
       "2412   1818258.0                   NaN                 NaN   \n",
       "2413   1448857.0                   NaN                 NaN   \n",
       "\n",
       "      income_composition_of_resources  schooling  \n",
       "2409                            0.421        4.9  \n",
       "2410                            0.421        4.9  \n",
       "2411                            0.417        4.9  \n",
       "2412                            0.419        4.9  \n",
       "2413                            0.429        4.9  \n",
       "\n",
       "[5 rows x 22 columns]"
      ]
     },
     "execution_count": 25,
     "metadata": {},
     "output_type": "execute_result"
    }
   ],
   "source": [
    "## for bmi\n",
    "\n",
    "bmi = df[df['bmi'].isnull()]\n",
    "bmi.head()"
   ]
  },
  {
   "cell_type": "code",
   "execution_count": 26,
   "metadata": {},
   "outputs": [
    {
     "data": {
      "text/plain": [
       "array(['Developing'], dtype=object)"
      ]
     },
     "execution_count": 26,
     "metadata": {},
     "output_type": "execute_result"
    }
   ],
   "source": [
    "## check status of countries having missing values for bmi\n",
    "\n",
    "bmi['status'].unique()"
   ]
  },
  {
   "cell_type": "code",
   "execution_count": 27,
   "metadata": {},
   "outputs": [
    {
     "data": {
      "text/plain": [
       "array(['South Sudan', 'Sudan'], dtype=object)"
      ]
     },
     "execution_count": 27,
     "metadata": {},
     "output_type": "execute_result"
    }
   ],
   "source": [
    "## check countries having missing values for bmi\n",
    "\n",
    "bmi['country'].unique()"
   ]
  },
  {
   "cell_type": "code",
   "execution_count": 28,
   "metadata": {},
   "outputs": [
    {
     "data": {
      "text/plain": [
       "count    2392.000000\n",
       "mean       35.435326\n",
       "std        19.425091\n",
       "min         1.000000\n",
       "25%        18.300000\n",
       "50%        35.200000\n",
       "75%        53.200000\n",
       "max        87.300000\n",
       "Name: bmi, dtype: float64"
      ]
     },
     "execution_count": 28,
     "metadata": {},
     "output_type": "execute_result"
    }
   ],
   "source": [
    "developing['bmi'].describe()"
   ]
  },
  {
   "cell_type": "code",
   "execution_count": 29,
   "metadata": {},
   "outputs": [],
   "source": [
    "## now imputing the values of South Sudan with mean bmi of developing countries\n",
    "df.loc[df['country']=='South Sudan','bmi'] = developing['bmi'].mean()"
   ]
  },
  {
   "cell_type": "code",
   "execution_count": 30,
   "metadata": {},
   "outputs": [],
   "source": [
    "## now imputing the values of Sudan with mean bmi of developing countries\n",
    "df.loc[df['country']=='Sudan','bmi'] = developing['bmi'].mean()"
   ]
  },
  {
   "cell_type": "code",
   "execution_count": 31,
   "metadata": {},
   "outputs": [
    {
     "data": {
      "text/html": [
       "<div>\n",
       "<style scoped>\n",
       "    .dataframe tbody tr th:only-of-type {\n",
       "        vertical-align: middle;\n",
       "    }\n",
       "\n",
       "    .dataframe tbody tr th {\n",
       "        vertical-align: top;\n",
       "    }\n",
       "\n",
       "    .dataframe thead th {\n",
       "        text-align: right;\n",
       "    }\n",
       "</style>\n",
       "<table border=\"1\" class=\"dataframe\">\n",
       "  <thead>\n",
       "    <tr style=\"text-align: right;\">\n",
       "      <th></th>\n",
       "      <th>country</th>\n",
       "      <th>year</th>\n",
       "      <th>status</th>\n",
       "      <th>life_expectancy</th>\n",
       "      <th>adult_mortality</th>\n",
       "      <th>infant_deaths</th>\n",
       "      <th>alcohol</th>\n",
       "      <th>percentage_expenditure</th>\n",
       "      <th>hepatitis_b</th>\n",
       "      <th>measles</th>\n",
       "      <th>...</th>\n",
       "      <th>polio</th>\n",
       "      <th>total_expenditure</th>\n",
       "      <th>diphtheria</th>\n",
       "      <th>hiv/aids</th>\n",
       "      <th>gdp</th>\n",
       "      <th>population</th>\n",
       "      <th>thinness_10-19_years</th>\n",
       "      <th>thinness_5-9_years</th>\n",
       "      <th>income_composition_of_resources</th>\n",
       "      <th>schooling</th>\n",
       "    </tr>\n",
       "  </thead>\n",
       "  <tbody>\n",
       "  </tbody>\n",
       "</table>\n",
       "<p>0 rows × 22 columns</p>\n",
       "</div>"
      ],
      "text/plain": [
       "Empty DataFrame\n",
       "Columns: [country, year, status, life_expectancy, adult_mortality, infant_deaths, alcohol, percentage_expenditure, hepatitis_b, measles, bmi, under_five_deaths, polio, total_expenditure, diphtheria, hiv/aids, gdp, population, thinness_10-19_years, thinness_5-9_years, income_composition_of_resources, schooling]\n",
       "Index: []\n",
       "\n",
       "[0 rows x 22 columns]"
      ]
     },
     "execution_count": 31,
     "metadata": {},
     "output_type": "execute_result"
    }
   ],
   "source": [
    "df[df['bmi'].isnull()]"
   ]
  },
  {
   "cell_type": "code",
   "execution_count": null,
   "metadata": {},
   "outputs": [],
   "source": []
  },
  {
   "cell_type": "code",
   "execution_count": 32,
   "metadata": {},
   "outputs": [
    {
     "data": {
      "text/plain": [
       "alcohol                            193\n",
       "hepatitis_b                        553\n",
       "polio                               19\n",
       "total_expenditure                  226\n",
       "diphtheria                          19\n",
       "gdp                                443\n",
       "population                         644\n",
       "thinness_10-19_years                32\n",
       "thinness_5-9_years                  32\n",
       "income_composition_of_resources    160\n",
       "schooling                          160\n",
       "dtype: int64"
      ]
     },
     "execution_count": 32,
     "metadata": {},
     "output_type": "execute_result"
    }
   ],
   "source": [
    "## check for remaining missing values\n",
    "\n",
    "df.isnull().sum()[df.isnull().sum() > 0]"
   ]
  },
  {
   "cell_type": "code",
   "execution_count": 33,
   "metadata": {},
   "outputs": [
    {
     "data": {
      "text/html": [
       "<div>\n",
       "<style scoped>\n",
       "    .dataframe tbody tr th:only-of-type {\n",
       "        vertical-align: middle;\n",
       "    }\n",
       "\n",
       "    .dataframe tbody tr th {\n",
       "        vertical-align: top;\n",
       "    }\n",
       "\n",
       "    .dataframe thead th {\n",
       "        text-align: right;\n",
       "    }\n",
       "</style>\n",
       "<table border=\"1\" class=\"dataframe\">\n",
       "  <thead>\n",
       "    <tr style=\"text-align: right;\">\n",
       "      <th></th>\n",
       "      <th>country</th>\n",
       "      <th>year</th>\n",
       "      <th>status</th>\n",
       "      <th>life_expectancy</th>\n",
       "      <th>adult_mortality</th>\n",
       "      <th>infant_deaths</th>\n",
       "      <th>alcohol</th>\n",
       "      <th>percentage_expenditure</th>\n",
       "      <th>hepatitis_b</th>\n",
       "      <th>measles</th>\n",
       "      <th>...</th>\n",
       "      <th>polio</th>\n",
       "      <th>total_expenditure</th>\n",
       "      <th>diphtheria</th>\n",
       "      <th>hiv/aids</th>\n",
       "      <th>gdp</th>\n",
       "      <th>population</th>\n",
       "      <th>thinness_10-19_years</th>\n",
       "      <th>thinness_5-9_years</th>\n",
       "      <th>income_composition_of_resources</th>\n",
       "      <th>schooling</th>\n",
       "    </tr>\n",
       "  </thead>\n",
       "  <tbody>\n",
       "    <tr>\n",
       "      <td>1742</td>\n",
       "      <td>Montenegro</td>\n",
       "      <td>2005</td>\n",
       "      <td>Developing</td>\n",
       "      <td>73.6</td>\n",
       "      <td>133.0</td>\n",
       "      <td>0</td>\n",
       "      <td>NaN</td>\n",
       "      <td>527.307672</td>\n",
       "      <td>NaN</td>\n",
       "      <td>0</td>\n",
       "      <td>...</td>\n",
       "      <td>NaN</td>\n",
       "      <td>8.46</td>\n",
       "      <td>NaN</td>\n",
       "      <td>0.1</td>\n",
       "      <td>3674.617924</td>\n",
       "      <td>614261.0</td>\n",
       "      <td>2.3</td>\n",
       "      <td>2.3</td>\n",
       "      <td>0.746</td>\n",
       "      <td>12.8</td>\n",
       "    </tr>\n",
       "    <tr>\n",
       "      <td>1743</td>\n",
       "      <td>Montenegro</td>\n",
       "      <td>2004</td>\n",
       "      <td>Developing</td>\n",
       "      <td>73.5</td>\n",
       "      <td>134.0</td>\n",
       "      <td>0</td>\n",
       "      <td>0.01</td>\n",
       "      <td>57.121901</td>\n",
       "      <td>NaN</td>\n",
       "      <td>0</td>\n",
       "      <td>...</td>\n",
       "      <td>NaN</td>\n",
       "      <td>8.45</td>\n",
       "      <td>NaN</td>\n",
       "      <td>0.1</td>\n",
       "      <td>338.199535</td>\n",
       "      <td>613353.0</td>\n",
       "      <td>2.3</td>\n",
       "      <td>2.4</td>\n",
       "      <td>0.740</td>\n",
       "      <td>12.6</td>\n",
       "    </tr>\n",
       "    <tr>\n",
       "      <td>1744</td>\n",
       "      <td>Montenegro</td>\n",
       "      <td>2003</td>\n",
       "      <td>Developing</td>\n",
       "      <td>73.5</td>\n",
       "      <td>134.0</td>\n",
       "      <td>0</td>\n",
       "      <td>0.01</td>\n",
       "      <td>495.078296</td>\n",
       "      <td>NaN</td>\n",
       "      <td>0</td>\n",
       "      <td>...</td>\n",
       "      <td>NaN</td>\n",
       "      <td>8.91</td>\n",
       "      <td>NaN</td>\n",
       "      <td>0.1</td>\n",
       "      <td>2789.173500</td>\n",
       "      <td>612267.0</td>\n",
       "      <td>2.4</td>\n",
       "      <td>2.4</td>\n",
       "      <td>0.000</td>\n",
       "      <td>0.0</td>\n",
       "    </tr>\n",
       "    <tr>\n",
       "      <td>1745</td>\n",
       "      <td>Montenegro</td>\n",
       "      <td>2002</td>\n",
       "      <td>Developing</td>\n",
       "      <td>73.4</td>\n",
       "      <td>136.0</td>\n",
       "      <td>0</td>\n",
       "      <td>0.01</td>\n",
       "      <td>36.480240</td>\n",
       "      <td>NaN</td>\n",
       "      <td>0</td>\n",
       "      <td>...</td>\n",
       "      <td>NaN</td>\n",
       "      <td>8.33</td>\n",
       "      <td>NaN</td>\n",
       "      <td>0.1</td>\n",
       "      <td>216.243274</td>\n",
       "      <td>69828.0</td>\n",
       "      <td>2.5</td>\n",
       "      <td>2.5</td>\n",
       "      <td>0.000</td>\n",
       "      <td>0.0</td>\n",
       "    </tr>\n",
       "    <tr>\n",
       "      <td>1746</td>\n",
       "      <td>Montenegro</td>\n",
       "      <td>2001</td>\n",
       "      <td>Developing</td>\n",
       "      <td>73.3</td>\n",
       "      <td>136.0</td>\n",
       "      <td>0</td>\n",
       "      <td>0.01</td>\n",
       "      <td>33.669814</td>\n",
       "      <td>NaN</td>\n",
       "      <td>0</td>\n",
       "      <td>...</td>\n",
       "      <td>NaN</td>\n",
       "      <td>8.23</td>\n",
       "      <td>NaN</td>\n",
       "      <td>0.1</td>\n",
       "      <td>199.583957</td>\n",
       "      <td>67389.0</td>\n",
       "      <td>2.5</td>\n",
       "      <td>2.6</td>\n",
       "      <td>0.000</td>\n",
       "      <td>0.0</td>\n",
       "    </tr>\n",
       "  </tbody>\n",
       "</table>\n",
       "<p>5 rows × 22 columns</p>\n",
       "</div>"
      ],
      "text/plain": [
       "         country  year      status  life_expectancy  adult_mortality  \\\n",
       "1742  Montenegro  2005  Developing             73.6            133.0   \n",
       "1743  Montenegro  2004  Developing             73.5            134.0   \n",
       "1744  Montenegro  2003  Developing             73.5            134.0   \n",
       "1745  Montenegro  2002  Developing             73.4            136.0   \n",
       "1746  Montenegro  2001  Developing             73.3            136.0   \n",
       "\n",
       "      infant_deaths  alcohol  percentage_expenditure  hepatitis_b  measles  \\\n",
       "1742              0      NaN              527.307672          NaN        0   \n",
       "1743              0     0.01               57.121901          NaN        0   \n",
       "1744              0     0.01              495.078296          NaN        0   \n",
       "1745              0     0.01               36.480240          NaN        0   \n",
       "1746              0     0.01               33.669814          NaN        0   \n",
       "\n",
       "      ...  polio  total_expenditure  diphtheria  hiv/aids          gdp  \\\n",
       "1742  ...    NaN               8.46         NaN       0.1  3674.617924   \n",
       "1743  ...    NaN               8.45         NaN       0.1   338.199535   \n",
       "1744  ...    NaN               8.91         NaN       0.1  2789.173500   \n",
       "1745  ...    NaN               8.33         NaN       0.1   216.243274   \n",
       "1746  ...    NaN               8.23         NaN       0.1   199.583957   \n",
       "\n",
       "      population  thinness_10-19_years  thinness_5-9_years  \\\n",
       "1742    614261.0                   2.3                 2.3   \n",
       "1743    613353.0                   2.3                 2.4   \n",
       "1744    612267.0                   2.4                 2.4   \n",
       "1745     69828.0                   2.5                 2.5   \n",
       "1746     67389.0                   2.5                 2.6   \n",
       "\n",
       "      income_composition_of_resources  schooling  \n",
       "1742                            0.746       12.8  \n",
       "1743                            0.740       12.6  \n",
       "1744                            0.000        0.0  \n",
       "1745                            0.000        0.0  \n",
       "1746                            0.000        0.0  \n",
       "\n",
       "[5 rows x 22 columns]"
      ]
     },
     "execution_count": 33,
     "metadata": {},
     "output_type": "execute_result"
    }
   ],
   "source": [
    "## for diphtheria\n",
    "dip = df[df['diphtheria'].isnull()]\n",
    "dip.head()"
   ]
  },
  {
   "cell_type": "code",
   "execution_count": 34,
   "metadata": {},
   "outputs": [
    {
     "data": {
      "text/plain": [
       "array(['Montenegro', 'South Sudan', 'Timor-Leste'], dtype=object)"
      ]
     },
     "execution_count": 34,
     "metadata": {},
     "output_type": "execute_result"
    }
   ],
   "source": [
    "dip['country'].unique()"
   ]
  },
  {
   "cell_type": "code",
   "execution_count": 35,
   "metadata": {},
   "outputs": [
    {
     "data": {
      "text/plain": [
       "array([2005, 2004, 2003, 2002, 2001, 2000, 2010, 2009, 2008, 2007, 2006],\n",
       "      dtype=int64)"
      ]
     },
     "execution_count": 35,
     "metadata": {},
     "output_type": "execute_result"
    }
   ],
   "source": [
    "dip['year'].unique()"
   ]
  },
  {
   "cell_type": "code",
   "execution_count": 36,
   "metadata": {},
   "outputs": [
    {
     "data": {
      "text/plain": [
       "array(['Developing'], dtype=object)"
      ]
     },
     "execution_count": 36,
     "metadata": {},
     "output_type": "execute_result"
    }
   ],
   "source": [
    "dip['status'].unique()"
   ]
  },
  {
   "cell_type": "code",
   "execution_count": 37,
   "metadata": {},
   "outputs": [
    {
     "name": "stdout",
     "output_type": "stream",
     "text": [
      "Montenegro [2005 2004 2003 2002 2001 2000]\n",
      "South Sudan [2010 2009 2008 2007 2006 2005 2004 2003 2002 2001 2000]\n",
      "Timor-Leste [2001 2000]\n"
     ]
    }
   ],
   "source": [
    "## years for which the countries have missing values\n",
    "for i in dip['country'].unique():\n",
    "    print(i, dip[dip['country'] == i]['year'].unique())"
   ]
  },
  {
   "cell_type": "code",
   "execution_count": 38,
   "metadata": {},
   "outputs": [
    {
     "data": {
      "text/plain": [
       "count    2407.000000\n",
       "mean       79.951807\n",
       "std        24.834300\n",
       "min         2.000000\n",
       "25%        75.000000\n",
       "50%        91.000000\n",
       "75%        96.500000\n",
       "max        99.000000\n",
       "Name: diphtheria, dtype: float64"
      ]
     },
     "execution_count": 38,
     "metadata": {},
     "output_type": "execute_result"
    }
   ],
   "source": [
    "developing['diphtheria'].describe()"
   ]
  },
  {
   "cell_type": "markdown",
   "metadata": {},
   "source": [
    "##### It has been observed that the developing countries initially had low % of immumnization coverages which gradually increased over the years\n",
    "\n",
    "##### The missing values are for the initial years of these countries 'Montenegro', 'South Sudan', 'Timor-Leste'\n",
    "\n",
    "##### So, can be imputed by min value of specific country as they are developing countries "
   ]
  },
  {
   "cell_type": "code",
   "execution_count": 39,
   "metadata": {},
   "outputs": [
    {
     "name": "stdout",
     "output_type": "stream",
     "text": [
      "Int64Index([2414, 2415, 2416, 2417, 2418, 2419, 2420, 2421, 2422, 2423, 2424], dtype='int64')\n"
     ]
    }
   ],
   "source": [
    "## imputing the data for the above countries - South Sudan\n",
    "    \n",
    "dip_id = dip[dip['country']== 'South Sudan'].index\n",
    "print(dip_id)\n",
    "    \n",
    "for i in dip_id:\n",
    "    df.loc[i,'diphtheria'] = df[df['country'] == 'South Sudan']['diphtheria'].min()\n",
    "    #print(df.loc[i,'diphtheria'])"
   ]
  },
  {
   "cell_type": "code",
   "execution_count": 40,
   "metadata": {},
   "outputs": [],
   "source": [
    "## imputing the data for the above countries - Montenegro\n",
    "\n",
    "dip_id = dip[dip['country']== 'Montenegro'].index\n",
    "#print(dip_id)\n",
    "    \n",
    "for i in dip_id:\n",
    "    df.loc[i,'diphtheria'] = df[df['country'] == 'Montenegro']['diphtheria'].min()\n",
    "    #print(df.loc[i,'diphtheria'])"
   ]
  },
  {
   "cell_type": "code",
   "execution_count": 41,
   "metadata": {},
   "outputs": [],
   "source": [
    "## imputing the data for the above countries - Timor-Leste\n",
    "\n",
    "dip_id = dip[dip['country']== 'Timor-Leste'].index\n",
    "#print(dip_id)\n",
    "    \n",
    "for i in dip_id:\n",
    "    df.loc[i,'diphtheria'] = df[df['country'] == 'Timor-Leste']['diphtheria'].min()\n",
    "    #print(df.loc[i,'diphtheria'])"
   ]
  },
  {
   "cell_type": "code",
   "execution_count": 42,
   "metadata": {},
   "outputs": [
    {
     "data": {
      "text/html": [
       "<div>\n",
       "<style scoped>\n",
       "    .dataframe tbody tr th:only-of-type {\n",
       "        vertical-align: middle;\n",
       "    }\n",
       "\n",
       "    .dataframe tbody tr th {\n",
       "        vertical-align: top;\n",
       "    }\n",
       "\n",
       "    .dataframe thead th {\n",
       "        text-align: right;\n",
       "    }\n",
       "</style>\n",
       "<table border=\"1\" class=\"dataframe\">\n",
       "  <thead>\n",
       "    <tr style=\"text-align: right;\">\n",
       "      <th></th>\n",
       "      <th>country</th>\n",
       "      <th>year</th>\n",
       "      <th>status</th>\n",
       "      <th>life_expectancy</th>\n",
       "      <th>adult_mortality</th>\n",
       "      <th>infant_deaths</th>\n",
       "      <th>alcohol</th>\n",
       "      <th>percentage_expenditure</th>\n",
       "      <th>hepatitis_b</th>\n",
       "      <th>measles</th>\n",
       "      <th>...</th>\n",
       "      <th>polio</th>\n",
       "      <th>total_expenditure</th>\n",
       "      <th>diphtheria</th>\n",
       "      <th>hiv/aids</th>\n",
       "      <th>gdp</th>\n",
       "      <th>population</th>\n",
       "      <th>thinness_10-19_years</th>\n",
       "      <th>thinness_5-9_years</th>\n",
       "      <th>income_composition_of_resources</th>\n",
       "      <th>schooling</th>\n",
       "    </tr>\n",
       "  </thead>\n",
       "  <tbody>\n",
       "  </tbody>\n",
       "</table>\n",
       "<p>0 rows × 22 columns</p>\n",
       "</div>"
      ],
      "text/plain": [
       "Empty DataFrame\n",
       "Columns: [country, year, status, life_expectancy, adult_mortality, infant_deaths, alcohol, percentage_expenditure, hepatitis_b, measles, bmi, under_five_deaths, polio, total_expenditure, diphtheria, hiv/aids, gdp, population, thinness_10-19_years, thinness_5-9_years, income_composition_of_resources, schooling]\n",
       "Index: []\n",
       "\n",
       "[0 rows x 22 columns]"
      ]
     },
     "execution_count": 42,
     "metadata": {},
     "output_type": "execute_result"
    }
   ],
   "source": [
    "## check if all the missing values are imputed\n",
    "\n",
    "df[df['diphtheria'].isnull()]"
   ]
  },
  {
   "cell_type": "code",
   "execution_count": null,
   "metadata": {},
   "outputs": [],
   "source": []
  },
  {
   "cell_type": "code",
   "execution_count": 43,
   "metadata": {},
   "outputs": [
    {
     "data": {
      "text/plain": [
       "alcohol                            193\n",
       "hepatitis_b                        553\n",
       "polio                               19\n",
       "total_expenditure                  226\n",
       "gdp                                443\n",
       "population                         644\n",
       "thinness_10-19_years                32\n",
       "thinness_5-9_years                  32\n",
       "income_composition_of_resources    160\n",
       "schooling                          160\n",
       "dtype: int64"
      ]
     },
     "execution_count": 43,
     "metadata": {},
     "output_type": "execute_result"
    }
   ],
   "source": [
    "## check for remaining missing values\n",
    "\n",
    "df.isnull().sum()[df.isnull().sum() > 0]"
   ]
  },
  {
   "cell_type": "code",
   "execution_count": 44,
   "metadata": {},
   "outputs": [
    {
     "data": {
      "text/html": [
       "<div>\n",
       "<style scoped>\n",
       "    .dataframe tbody tr th:only-of-type {\n",
       "        vertical-align: middle;\n",
       "    }\n",
       "\n",
       "    .dataframe tbody tr th {\n",
       "        vertical-align: top;\n",
       "    }\n",
       "\n",
       "    .dataframe thead th {\n",
       "        text-align: right;\n",
       "    }\n",
       "</style>\n",
       "<table border=\"1\" class=\"dataframe\">\n",
       "  <thead>\n",
       "    <tr style=\"text-align: right;\">\n",
       "      <th></th>\n",
       "      <th>country</th>\n",
       "      <th>year</th>\n",
       "      <th>status</th>\n",
       "      <th>life_expectancy</th>\n",
       "      <th>adult_mortality</th>\n",
       "      <th>infant_deaths</th>\n",
       "      <th>alcohol</th>\n",
       "      <th>percentage_expenditure</th>\n",
       "      <th>hepatitis_b</th>\n",
       "      <th>measles</th>\n",
       "      <th>...</th>\n",
       "      <th>polio</th>\n",
       "      <th>total_expenditure</th>\n",
       "      <th>diphtheria</th>\n",
       "      <th>hiv/aids</th>\n",
       "      <th>gdp</th>\n",
       "      <th>population</th>\n",
       "      <th>thinness_10-19_years</th>\n",
       "      <th>thinness_5-9_years</th>\n",
       "      <th>income_composition_of_resources</th>\n",
       "      <th>schooling</th>\n",
       "    </tr>\n",
       "  </thead>\n",
       "  <tbody>\n",
       "    <tr>\n",
       "      <td>2409</td>\n",
       "      <td>South Sudan</td>\n",
       "      <td>2015</td>\n",
       "      <td>Developing</td>\n",
       "      <td>57.3</td>\n",
       "      <td>332.0</td>\n",
       "      <td>26</td>\n",
       "      <td>NaN</td>\n",
       "      <td>0.000000</td>\n",
       "      <td>31.0</td>\n",
       "      <td>878</td>\n",
       "      <td>...</td>\n",
       "      <td>41.0</td>\n",
       "      <td>NaN</td>\n",
       "      <td>31.0</td>\n",
       "      <td>3.4</td>\n",
       "      <td>758.725782</td>\n",
       "      <td>11882136.0</td>\n",
       "      <td>NaN</td>\n",
       "      <td>NaN</td>\n",
       "      <td>0.421</td>\n",
       "      <td>4.9</td>\n",
       "    </tr>\n",
       "    <tr>\n",
       "      <td>2410</td>\n",
       "      <td>South Sudan</td>\n",
       "      <td>2014</td>\n",
       "      <td>Developing</td>\n",
       "      <td>56.6</td>\n",
       "      <td>343.0</td>\n",
       "      <td>26</td>\n",
       "      <td>NaN</td>\n",
       "      <td>46.074469</td>\n",
       "      <td>NaN</td>\n",
       "      <td>441</td>\n",
       "      <td>...</td>\n",
       "      <td>44.0</td>\n",
       "      <td>2.74</td>\n",
       "      <td>39.0</td>\n",
       "      <td>3.5</td>\n",
       "      <td>1151.861715</td>\n",
       "      <td>1153971.0</td>\n",
       "      <td>NaN</td>\n",
       "      <td>NaN</td>\n",
       "      <td>0.421</td>\n",
       "      <td>4.9</td>\n",
       "    </tr>\n",
       "    <tr>\n",
       "      <td>2411</td>\n",
       "      <td>South Sudan</td>\n",
       "      <td>2013</td>\n",
       "      <td>Developing</td>\n",
       "      <td>56.4</td>\n",
       "      <td>345.0</td>\n",
       "      <td>26</td>\n",
       "      <td>NaN</td>\n",
       "      <td>47.444530</td>\n",
       "      <td>NaN</td>\n",
       "      <td>525</td>\n",
       "      <td>...</td>\n",
       "      <td>5.0</td>\n",
       "      <td>2.62</td>\n",
       "      <td>45.0</td>\n",
       "      <td>3.6</td>\n",
       "      <td>1186.113250</td>\n",
       "      <td>1117749.0</td>\n",
       "      <td>NaN</td>\n",
       "      <td>NaN</td>\n",
       "      <td>0.417</td>\n",
       "      <td>4.9</td>\n",
       "    </tr>\n",
       "    <tr>\n",
       "      <td>2412</td>\n",
       "      <td>South Sudan</td>\n",
       "      <td>2012</td>\n",
       "      <td>Developing</td>\n",
       "      <td>56.0</td>\n",
       "      <td>347.0</td>\n",
       "      <td>26</td>\n",
       "      <td>NaN</td>\n",
       "      <td>38.338232</td>\n",
       "      <td>NaN</td>\n",
       "      <td>1952</td>\n",
       "      <td>...</td>\n",
       "      <td>64.0</td>\n",
       "      <td>2.77</td>\n",
       "      <td>59.0</td>\n",
       "      <td>3.8</td>\n",
       "      <td>958.455810</td>\n",
       "      <td>1818258.0</td>\n",
       "      <td>NaN</td>\n",
       "      <td>NaN</td>\n",
       "      <td>0.419</td>\n",
       "      <td>4.9</td>\n",
       "    </tr>\n",
       "    <tr>\n",
       "      <td>2413</td>\n",
       "      <td>South Sudan</td>\n",
       "      <td>2011</td>\n",
       "      <td>Developing</td>\n",
       "      <td>55.4</td>\n",
       "      <td>355.0</td>\n",
       "      <td>27</td>\n",
       "      <td>NaN</td>\n",
       "      <td>0.000000</td>\n",
       "      <td>NaN</td>\n",
       "      <td>1256</td>\n",
       "      <td>...</td>\n",
       "      <td>66.0</td>\n",
       "      <td>NaN</td>\n",
       "      <td>61.0</td>\n",
       "      <td>3.9</td>\n",
       "      <td>176.971300</td>\n",
       "      <td>1448857.0</td>\n",
       "      <td>NaN</td>\n",
       "      <td>NaN</td>\n",
       "      <td>0.429</td>\n",
       "      <td>4.9</td>\n",
       "    </tr>\n",
       "  </tbody>\n",
       "</table>\n",
       "<p>5 rows × 22 columns</p>\n",
       "</div>"
      ],
      "text/plain": [
       "          country  year      status  life_expectancy  adult_mortality  \\\n",
       "2409  South Sudan  2015  Developing             57.3            332.0   \n",
       "2410  South Sudan  2014  Developing             56.6            343.0   \n",
       "2411  South Sudan  2013  Developing             56.4            345.0   \n",
       "2412  South Sudan  2012  Developing             56.0            347.0   \n",
       "2413  South Sudan  2011  Developing             55.4            355.0   \n",
       "\n",
       "      infant_deaths  alcohol  percentage_expenditure  hepatitis_b  measles  \\\n",
       "2409             26      NaN                0.000000         31.0      878   \n",
       "2410             26      NaN               46.074469          NaN      441   \n",
       "2411             26      NaN               47.444530          NaN      525   \n",
       "2412             26      NaN               38.338232          NaN     1952   \n",
       "2413             27      NaN                0.000000          NaN     1256   \n",
       "\n",
       "      ...  polio  total_expenditure  diphtheria  hiv/aids          gdp  \\\n",
       "2409  ...   41.0                NaN        31.0       3.4   758.725782   \n",
       "2410  ...   44.0               2.74        39.0       3.5  1151.861715   \n",
       "2411  ...    5.0               2.62        45.0       3.6  1186.113250   \n",
       "2412  ...   64.0               2.77        59.0       3.8   958.455810   \n",
       "2413  ...   66.0                NaN        61.0       3.9   176.971300   \n",
       "\n",
       "      population  thinness_10-19_years  thinness_5-9_years  \\\n",
       "2409  11882136.0                   NaN                 NaN   \n",
       "2410   1153971.0                   NaN                 NaN   \n",
       "2411   1117749.0                   NaN                 NaN   \n",
       "2412   1818258.0                   NaN                 NaN   \n",
       "2413   1448857.0                   NaN                 NaN   \n",
       "\n",
       "      income_composition_of_resources  schooling  \n",
       "2409                            0.421        4.9  \n",
       "2410                            0.421        4.9  \n",
       "2411                            0.417        4.9  \n",
       "2412                            0.419        4.9  \n",
       "2413                            0.429        4.9  \n",
       "\n",
       "[5 rows x 22 columns]"
      ]
     },
     "execution_count": 44,
     "metadata": {},
     "output_type": "execute_result"
    }
   ],
   "source": [
    "## for thinness_10-19_years\n",
    "\n",
    "thin1 = df[df['thinness_10-19_years'].isnull()]\n",
    "thin1.head()"
   ]
  },
  {
   "cell_type": "code",
   "execution_count": 45,
   "metadata": {},
   "outputs": [
    {
     "data": {
      "text/plain": [
       "array(['South Sudan', 'Sudan'], dtype=object)"
      ]
     },
     "execution_count": 45,
     "metadata": {},
     "output_type": "execute_result"
    }
   ],
   "source": [
    "thin1['country'].unique()"
   ]
  },
  {
   "cell_type": "code",
   "execution_count": 46,
   "metadata": {},
   "outputs": [
    {
     "data": {
      "text/plain": [
       "array([2015, 2014, 2013, 2012, 2011, 2010, 2009, 2008, 2007, 2006, 2005,\n",
       "       2004, 2003, 2002, 2001, 2000], dtype=int64)"
      ]
     },
     "execution_count": 46,
     "metadata": {},
     "output_type": "execute_result"
    }
   ],
   "source": [
    "thin1['year'].unique()"
   ]
  },
  {
   "cell_type": "code",
   "execution_count": 47,
   "metadata": {},
   "outputs": [
    {
     "data": {
      "text/plain": [
       "array(['Developing'], dtype=object)"
      ]
     },
     "execution_count": 47,
     "metadata": {},
     "output_type": "execute_result"
    }
   ],
   "source": [
    "thin1['status'].unique()"
   ]
  },
  {
   "cell_type": "code",
   "execution_count": 48,
   "metadata": {},
   "outputs": [
    {
     "data": {
      "text/plain": [
       "count    2392.000000\n",
       "mean        5.592935\n",
       "std         4.514453\n",
       "min         0.100000\n",
       "25%         2.100000\n",
       "50%         4.500000\n",
       "75%         7.725000\n",
       "max        27.700000\n",
       "Name: thinness_10-19_years, dtype: float64"
      ]
     },
     "execution_count": 48,
     "metadata": {},
     "output_type": "execute_result"
    }
   ],
   "source": [
    "developing['thinness_10-19_years'].describe()"
   ]
  },
  {
   "cell_type": "code",
   "execution_count": 49,
   "metadata": {},
   "outputs": [
    {
     "name": "stdout",
     "output_type": "stream",
     "text": [
      "South Sudan [2015 2014 2013 2012 2011 2010 2009 2008 2007 2006 2005 2004 2003 2002\n",
      " 2001 2000]\n",
      "Sudan [2015 2014 2013 2012 2011 2010 2009 2008 2007 2006 2005 2004 2003 2002\n",
      " 2001 2000]\n"
     ]
    }
   ],
   "source": [
    "## years for which the countries have missing values\n",
    "for i in thin1['country'].unique():\n",
    "    print(i, thin1[thin1['country'] == i]['year'].unique())"
   ]
  },
  {
   "cell_type": "code",
   "execution_count": 50,
   "metadata": {},
   "outputs": [],
   "source": [
    "## now imputing the values of South Sudan with median thinness_10-19_years of developing countries\n",
    "df.loc[df['country']=='South Sudan','thinness_10-19_years'] = developing['thinness_10-19_years'].median()\n"
   ]
  },
  {
   "cell_type": "code",
   "execution_count": 51,
   "metadata": {},
   "outputs": [],
   "source": [
    "## now imputing the values of Sudan with median thinness_10-19_years of developing countries\n",
    "df.loc[df['country']=='Sudan','thinness_10-19_years'] = developing['thinness_10-19_years'].median()"
   ]
  },
  {
   "cell_type": "code",
   "execution_count": 52,
   "metadata": {},
   "outputs": [
    {
     "data": {
      "text/html": [
       "<div>\n",
       "<style scoped>\n",
       "    .dataframe tbody tr th:only-of-type {\n",
       "        vertical-align: middle;\n",
       "    }\n",
       "\n",
       "    .dataframe tbody tr th {\n",
       "        vertical-align: top;\n",
       "    }\n",
       "\n",
       "    .dataframe thead th {\n",
       "        text-align: right;\n",
       "    }\n",
       "</style>\n",
       "<table border=\"1\" class=\"dataframe\">\n",
       "  <thead>\n",
       "    <tr style=\"text-align: right;\">\n",
       "      <th></th>\n",
       "      <th>country</th>\n",
       "      <th>year</th>\n",
       "      <th>status</th>\n",
       "      <th>life_expectancy</th>\n",
       "      <th>adult_mortality</th>\n",
       "      <th>infant_deaths</th>\n",
       "      <th>alcohol</th>\n",
       "      <th>percentage_expenditure</th>\n",
       "      <th>hepatitis_b</th>\n",
       "      <th>measles</th>\n",
       "      <th>...</th>\n",
       "      <th>polio</th>\n",
       "      <th>total_expenditure</th>\n",
       "      <th>diphtheria</th>\n",
       "      <th>hiv/aids</th>\n",
       "      <th>gdp</th>\n",
       "      <th>population</th>\n",
       "      <th>thinness_10-19_years</th>\n",
       "      <th>thinness_5-9_years</th>\n",
       "      <th>income_composition_of_resources</th>\n",
       "      <th>schooling</th>\n",
       "    </tr>\n",
       "  </thead>\n",
       "  <tbody>\n",
       "  </tbody>\n",
       "</table>\n",
       "<p>0 rows × 22 columns</p>\n",
       "</div>"
      ],
      "text/plain": [
       "Empty DataFrame\n",
       "Columns: [country, year, status, life_expectancy, adult_mortality, infant_deaths, alcohol, percentage_expenditure, hepatitis_b, measles, bmi, under_five_deaths, polio, total_expenditure, diphtheria, hiv/aids, gdp, population, thinness_10-19_years, thinness_5-9_years, income_composition_of_resources, schooling]\n",
       "Index: []\n",
       "\n",
       "[0 rows x 22 columns]"
      ]
     },
     "execution_count": 52,
     "metadata": {},
     "output_type": "execute_result"
    }
   ],
   "source": [
    "## check if all missing values are imputed or not \n",
    "df[df['thinness_10-19_years'].isnull()]"
   ]
  },
  {
   "cell_type": "code",
   "execution_count": null,
   "metadata": {},
   "outputs": [],
   "source": []
  },
  {
   "cell_type": "code",
   "execution_count": 53,
   "metadata": {},
   "outputs": [
    {
     "data": {
      "text/html": [
       "<div>\n",
       "<style scoped>\n",
       "    .dataframe tbody tr th:only-of-type {\n",
       "        vertical-align: middle;\n",
       "    }\n",
       "\n",
       "    .dataframe tbody tr th {\n",
       "        vertical-align: top;\n",
       "    }\n",
       "\n",
       "    .dataframe thead th {\n",
       "        text-align: right;\n",
       "    }\n",
       "</style>\n",
       "<table border=\"1\" class=\"dataframe\">\n",
       "  <thead>\n",
       "    <tr style=\"text-align: right;\">\n",
       "      <th></th>\n",
       "      <th>country</th>\n",
       "      <th>year</th>\n",
       "      <th>status</th>\n",
       "      <th>life_expectancy</th>\n",
       "      <th>adult_mortality</th>\n",
       "      <th>infant_deaths</th>\n",
       "      <th>alcohol</th>\n",
       "      <th>percentage_expenditure</th>\n",
       "      <th>hepatitis_b</th>\n",
       "      <th>measles</th>\n",
       "      <th>...</th>\n",
       "      <th>polio</th>\n",
       "      <th>total_expenditure</th>\n",
       "      <th>diphtheria</th>\n",
       "      <th>hiv/aids</th>\n",
       "      <th>gdp</th>\n",
       "      <th>population</th>\n",
       "      <th>thinness_10-19_years</th>\n",
       "      <th>thinness_5-9_years</th>\n",
       "      <th>income_composition_of_resources</th>\n",
       "      <th>schooling</th>\n",
       "    </tr>\n",
       "  </thead>\n",
       "  <tbody>\n",
       "    <tr>\n",
       "      <td>2409</td>\n",
       "      <td>South Sudan</td>\n",
       "      <td>2015</td>\n",
       "      <td>Developing</td>\n",
       "      <td>57.3</td>\n",
       "      <td>332.0</td>\n",
       "      <td>26</td>\n",
       "      <td>NaN</td>\n",
       "      <td>0.000000</td>\n",
       "      <td>31.0</td>\n",
       "      <td>878</td>\n",
       "      <td>...</td>\n",
       "      <td>41.0</td>\n",
       "      <td>NaN</td>\n",
       "      <td>31.0</td>\n",
       "      <td>3.4</td>\n",
       "      <td>758.725782</td>\n",
       "      <td>11882136.0</td>\n",
       "      <td>4.5</td>\n",
       "      <td>NaN</td>\n",
       "      <td>0.421</td>\n",
       "      <td>4.9</td>\n",
       "    </tr>\n",
       "    <tr>\n",
       "      <td>2410</td>\n",
       "      <td>South Sudan</td>\n",
       "      <td>2014</td>\n",
       "      <td>Developing</td>\n",
       "      <td>56.6</td>\n",
       "      <td>343.0</td>\n",
       "      <td>26</td>\n",
       "      <td>NaN</td>\n",
       "      <td>46.074469</td>\n",
       "      <td>NaN</td>\n",
       "      <td>441</td>\n",
       "      <td>...</td>\n",
       "      <td>44.0</td>\n",
       "      <td>2.74</td>\n",
       "      <td>39.0</td>\n",
       "      <td>3.5</td>\n",
       "      <td>1151.861715</td>\n",
       "      <td>1153971.0</td>\n",
       "      <td>4.5</td>\n",
       "      <td>NaN</td>\n",
       "      <td>0.421</td>\n",
       "      <td>4.9</td>\n",
       "    </tr>\n",
       "    <tr>\n",
       "      <td>2411</td>\n",
       "      <td>South Sudan</td>\n",
       "      <td>2013</td>\n",
       "      <td>Developing</td>\n",
       "      <td>56.4</td>\n",
       "      <td>345.0</td>\n",
       "      <td>26</td>\n",
       "      <td>NaN</td>\n",
       "      <td>47.444530</td>\n",
       "      <td>NaN</td>\n",
       "      <td>525</td>\n",
       "      <td>...</td>\n",
       "      <td>5.0</td>\n",
       "      <td>2.62</td>\n",
       "      <td>45.0</td>\n",
       "      <td>3.6</td>\n",
       "      <td>1186.113250</td>\n",
       "      <td>1117749.0</td>\n",
       "      <td>4.5</td>\n",
       "      <td>NaN</td>\n",
       "      <td>0.417</td>\n",
       "      <td>4.9</td>\n",
       "    </tr>\n",
       "    <tr>\n",
       "      <td>2412</td>\n",
       "      <td>South Sudan</td>\n",
       "      <td>2012</td>\n",
       "      <td>Developing</td>\n",
       "      <td>56.0</td>\n",
       "      <td>347.0</td>\n",
       "      <td>26</td>\n",
       "      <td>NaN</td>\n",
       "      <td>38.338232</td>\n",
       "      <td>NaN</td>\n",
       "      <td>1952</td>\n",
       "      <td>...</td>\n",
       "      <td>64.0</td>\n",
       "      <td>2.77</td>\n",
       "      <td>59.0</td>\n",
       "      <td>3.8</td>\n",
       "      <td>958.455810</td>\n",
       "      <td>1818258.0</td>\n",
       "      <td>4.5</td>\n",
       "      <td>NaN</td>\n",
       "      <td>0.419</td>\n",
       "      <td>4.9</td>\n",
       "    </tr>\n",
       "    <tr>\n",
       "      <td>2413</td>\n",
       "      <td>South Sudan</td>\n",
       "      <td>2011</td>\n",
       "      <td>Developing</td>\n",
       "      <td>55.4</td>\n",
       "      <td>355.0</td>\n",
       "      <td>27</td>\n",
       "      <td>NaN</td>\n",
       "      <td>0.000000</td>\n",
       "      <td>NaN</td>\n",
       "      <td>1256</td>\n",
       "      <td>...</td>\n",
       "      <td>66.0</td>\n",
       "      <td>NaN</td>\n",
       "      <td>61.0</td>\n",
       "      <td>3.9</td>\n",
       "      <td>176.971300</td>\n",
       "      <td>1448857.0</td>\n",
       "      <td>4.5</td>\n",
       "      <td>NaN</td>\n",
       "      <td>0.429</td>\n",
       "      <td>4.9</td>\n",
       "    </tr>\n",
       "  </tbody>\n",
       "</table>\n",
       "<p>5 rows × 22 columns</p>\n",
       "</div>"
      ],
      "text/plain": [
       "          country  year      status  life_expectancy  adult_mortality  \\\n",
       "2409  South Sudan  2015  Developing             57.3            332.0   \n",
       "2410  South Sudan  2014  Developing             56.6            343.0   \n",
       "2411  South Sudan  2013  Developing             56.4            345.0   \n",
       "2412  South Sudan  2012  Developing             56.0            347.0   \n",
       "2413  South Sudan  2011  Developing             55.4            355.0   \n",
       "\n",
       "      infant_deaths  alcohol  percentage_expenditure  hepatitis_b  measles  \\\n",
       "2409             26      NaN                0.000000         31.0      878   \n",
       "2410             26      NaN               46.074469          NaN      441   \n",
       "2411             26      NaN               47.444530          NaN      525   \n",
       "2412             26      NaN               38.338232          NaN     1952   \n",
       "2413             27      NaN                0.000000          NaN     1256   \n",
       "\n",
       "      ...  polio  total_expenditure  diphtheria  hiv/aids          gdp  \\\n",
       "2409  ...   41.0                NaN        31.0       3.4   758.725782   \n",
       "2410  ...   44.0               2.74        39.0       3.5  1151.861715   \n",
       "2411  ...    5.0               2.62        45.0       3.6  1186.113250   \n",
       "2412  ...   64.0               2.77        59.0       3.8   958.455810   \n",
       "2413  ...   66.0                NaN        61.0       3.9   176.971300   \n",
       "\n",
       "      population  thinness_10-19_years  thinness_5-9_years  \\\n",
       "2409  11882136.0                   4.5                 NaN   \n",
       "2410   1153971.0                   4.5                 NaN   \n",
       "2411   1117749.0                   4.5                 NaN   \n",
       "2412   1818258.0                   4.5                 NaN   \n",
       "2413   1448857.0                   4.5                 NaN   \n",
       "\n",
       "      income_composition_of_resources  schooling  \n",
       "2409                            0.421        4.9  \n",
       "2410                            0.421        4.9  \n",
       "2411                            0.417        4.9  \n",
       "2412                            0.419        4.9  \n",
       "2413                            0.429        4.9  \n",
       "\n",
       "[5 rows x 22 columns]"
      ]
     },
     "execution_count": 53,
     "metadata": {},
     "output_type": "execute_result"
    }
   ],
   "source": [
    "## for thinness_5-9_years\n",
    "\n",
    "thin2 = df[df['thinness_5-9_years'].isnull()]\n",
    "thin2.head()"
   ]
  },
  {
   "cell_type": "code",
   "execution_count": 54,
   "metadata": {},
   "outputs": [
    {
     "data": {
      "text/plain": [
       "array(['South Sudan', 'Sudan'], dtype=object)"
      ]
     },
     "execution_count": 54,
     "metadata": {},
     "output_type": "execute_result"
    }
   ],
   "source": [
    "thin2['country'].unique()"
   ]
  },
  {
   "cell_type": "code",
   "execution_count": 55,
   "metadata": {},
   "outputs": [
    {
     "data": {
      "text/plain": [
       "array([2015, 2014, 2013, 2012, 2011, 2010, 2009, 2008, 2007, 2006, 2005,\n",
       "       2004, 2003, 2002, 2001, 2000], dtype=int64)"
      ]
     },
     "execution_count": 55,
     "metadata": {},
     "output_type": "execute_result"
    }
   ],
   "source": [
    "thin2['year'].unique()"
   ]
  },
  {
   "cell_type": "code",
   "execution_count": 56,
   "metadata": {},
   "outputs": [
    {
     "data": {
      "text/plain": [
       "array(['Developing'], dtype=object)"
      ]
     },
     "execution_count": 56,
     "metadata": {},
     "output_type": "execute_result"
    }
   ],
   "source": [
    "thin2['status'].unique()"
   ]
  },
  {
   "cell_type": "code",
   "execution_count": 57,
   "metadata": {},
   "outputs": [
    {
     "data": {
      "text/plain": [
       "count    2392.000000\n",
       "mean        5.635242\n",
       "std         4.606130\n",
       "min         0.100000\n",
       "25%         2.100000\n",
       "50%         4.600000\n",
       "75%         7.800000\n",
       "max        28.600000\n",
       "Name: thinness_5-9_years, dtype: float64"
      ]
     },
     "execution_count": 57,
     "metadata": {},
     "output_type": "execute_result"
    }
   ],
   "source": [
    "developing['thinness_5-9_years'].describe()"
   ]
  },
  {
   "cell_type": "code",
   "execution_count": 58,
   "metadata": {},
   "outputs": [
    {
     "name": "stdout",
     "output_type": "stream",
     "text": [
      "South Sudan [2015 2014 2013 2012 2011 2010 2009 2008 2007 2006 2005 2004 2003 2002\n",
      " 2001 2000]\n",
      "Sudan [2015 2014 2013 2012 2011 2010 2009 2008 2007 2006 2005 2004 2003 2002\n",
      " 2001 2000]\n"
     ]
    }
   ],
   "source": [
    "## years for which the countries have missing values\n",
    "for i in thin2['country'].unique():\n",
    "    print(i, thin2[thin1['country'] == i]['year'].unique())"
   ]
  },
  {
   "cell_type": "code",
   "execution_count": 59,
   "metadata": {},
   "outputs": [],
   "source": [
    "## now imputing the values of South Sudan with median thinness_5-9_years of developing countries\n",
    "df.loc[df['country']=='South Sudan','thinness_5-9_years'] = developing['thinness_5-9_years'].median()"
   ]
  },
  {
   "cell_type": "code",
   "execution_count": 60,
   "metadata": {},
   "outputs": [],
   "source": [
    "## now imputing the values of Sudan with median thinness_5-9_years of developing countries\n",
    "df.loc[df['country']=='Sudan','thinness_5-9_years'] = developing['thinness_5-9_years'].median()\n"
   ]
  },
  {
   "cell_type": "code",
   "execution_count": 61,
   "metadata": {},
   "outputs": [
    {
     "data": {
      "text/html": [
       "<div>\n",
       "<style scoped>\n",
       "    .dataframe tbody tr th:only-of-type {\n",
       "        vertical-align: middle;\n",
       "    }\n",
       "\n",
       "    .dataframe tbody tr th {\n",
       "        vertical-align: top;\n",
       "    }\n",
       "\n",
       "    .dataframe thead th {\n",
       "        text-align: right;\n",
       "    }\n",
       "</style>\n",
       "<table border=\"1\" class=\"dataframe\">\n",
       "  <thead>\n",
       "    <tr style=\"text-align: right;\">\n",
       "      <th></th>\n",
       "      <th>country</th>\n",
       "      <th>year</th>\n",
       "      <th>status</th>\n",
       "      <th>life_expectancy</th>\n",
       "      <th>adult_mortality</th>\n",
       "      <th>infant_deaths</th>\n",
       "      <th>alcohol</th>\n",
       "      <th>percentage_expenditure</th>\n",
       "      <th>hepatitis_b</th>\n",
       "      <th>measles</th>\n",
       "      <th>...</th>\n",
       "      <th>polio</th>\n",
       "      <th>total_expenditure</th>\n",
       "      <th>diphtheria</th>\n",
       "      <th>hiv/aids</th>\n",
       "      <th>gdp</th>\n",
       "      <th>population</th>\n",
       "      <th>thinness_10-19_years</th>\n",
       "      <th>thinness_5-9_years</th>\n",
       "      <th>income_composition_of_resources</th>\n",
       "      <th>schooling</th>\n",
       "    </tr>\n",
       "  </thead>\n",
       "  <tbody>\n",
       "  </tbody>\n",
       "</table>\n",
       "<p>0 rows × 22 columns</p>\n",
       "</div>"
      ],
      "text/plain": [
       "Empty DataFrame\n",
       "Columns: [country, year, status, life_expectancy, adult_mortality, infant_deaths, alcohol, percentage_expenditure, hepatitis_b, measles, bmi, under_five_deaths, polio, total_expenditure, diphtheria, hiv/aids, gdp, population, thinness_10-19_years, thinness_5-9_years, income_composition_of_resources, schooling]\n",
       "Index: []\n",
       "\n",
       "[0 rows x 22 columns]"
      ]
     },
     "execution_count": 61,
     "metadata": {},
     "output_type": "execute_result"
    }
   ],
   "source": [
    "## check if all missing values are imputed or not \n",
    "df[df['thinness_5-9_years'].isnull()]"
   ]
  },
  {
   "cell_type": "code",
   "execution_count": null,
   "metadata": {},
   "outputs": [],
   "source": []
  },
  {
   "cell_type": "code",
   "execution_count": 62,
   "metadata": {},
   "outputs": [
    {
     "data": {
      "text/plain": [
       "alcohol                            193\n",
       "hepatitis_b                        553\n",
       "polio                               19\n",
       "total_expenditure                  226\n",
       "gdp                                443\n",
       "population                         644\n",
       "income_composition_of_resources    160\n",
       "schooling                          160\n",
       "dtype: int64"
      ]
     },
     "execution_count": 62,
     "metadata": {},
     "output_type": "execute_result"
    }
   ],
   "source": [
    "## check for remaining missing values\n",
    "\n",
    "df.isnull().sum()[df.isnull().sum() > 0]"
   ]
  },
  {
   "cell_type": "code",
   "execution_count": null,
   "metadata": {},
   "outputs": [],
   "source": []
  },
  {
   "cell_type": "code",
   "execution_count": 63,
   "metadata": {},
   "outputs": [
    {
     "data": {
      "text/html": [
       "<div>\n",
       "<style scoped>\n",
       "    .dataframe tbody tr th:only-of-type {\n",
       "        vertical-align: middle;\n",
       "    }\n",
       "\n",
       "    .dataframe tbody tr th {\n",
       "        vertical-align: top;\n",
       "    }\n",
       "\n",
       "    .dataframe thead th {\n",
       "        text-align: right;\n",
       "    }\n",
       "</style>\n",
       "<table border=\"1\" class=\"dataframe\">\n",
       "  <thead>\n",
       "    <tr style=\"text-align: right;\">\n",
       "      <th></th>\n",
       "      <th>country</th>\n",
       "      <th>year</th>\n",
       "      <th>status</th>\n",
       "      <th>life_expectancy</th>\n",
       "      <th>adult_mortality</th>\n",
       "      <th>infant_deaths</th>\n",
       "      <th>alcohol</th>\n",
       "      <th>percentage_expenditure</th>\n",
       "      <th>hepatitis_b</th>\n",
       "      <th>measles</th>\n",
       "      <th>...</th>\n",
       "      <th>polio</th>\n",
       "      <th>total_expenditure</th>\n",
       "      <th>diphtheria</th>\n",
       "      <th>hiv/aids</th>\n",
       "      <th>gdp</th>\n",
       "      <th>population</th>\n",
       "      <th>thinness_10-19_years</th>\n",
       "      <th>thinness_5-9_years</th>\n",
       "      <th>income_composition_of_resources</th>\n",
       "      <th>schooling</th>\n",
       "    </tr>\n",
       "  </thead>\n",
       "  <tbody>\n",
       "    <tr>\n",
       "      <td>1742</td>\n",
       "      <td>Montenegro</td>\n",
       "      <td>2005</td>\n",
       "      <td>Developing</td>\n",
       "      <td>73.6</td>\n",
       "      <td>133.0</td>\n",
       "      <td>0</td>\n",
       "      <td>NaN</td>\n",
       "      <td>527.307672</td>\n",
       "      <td>NaN</td>\n",
       "      <td>0</td>\n",
       "      <td>...</td>\n",
       "      <td>NaN</td>\n",
       "      <td>8.46</td>\n",
       "      <td>9.0</td>\n",
       "      <td>0.1</td>\n",
       "      <td>3674.617924</td>\n",
       "      <td>614261.0</td>\n",
       "      <td>2.3</td>\n",
       "      <td>2.3</td>\n",
       "      <td>0.746</td>\n",
       "      <td>12.8</td>\n",
       "    </tr>\n",
       "    <tr>\n",
       "      <td>1743</td>\n",
       "      <td>Montenegro</td>\n",
       "      <td>2004</td>\n",
       "      <td>Developing</td>\n",
       "      <td>73.5</td>\n",
       "      <td>134.0</td>\n",
       "      <td>0</td>\n",
       "      <td>0.01</td>\n",
       "      <td>57.121901</td>\n",
       "      <td>NaN</td>\n",
       "      <td>0</td>\n",
       "      <td>...</td>\n",
       "      <td>NaN</td>\n",
       "      <td>8.45</td>\n",
       "      <td>9.0</td>\n",
       "      <td>0.1</td>\n",
       "      <td>338.199535</td>\n",
       "      <td>613353.0</td>\n",
       "      <td>2.3</td>\n",
       "      <td>2.4</td>\n",
       "      <td>0.740</td>\n",
       "      <td>12.6</td>\n",
       "    </tr>\n",
       "    <tr>\n",
       "      <td>1744</td>\n",
       "      <td>Montenegro</td>\n",
       "      <td>2003</td>\n",
       "      <td>Developing</td>\n",
       "      <td>73.5</td>\n",
       "      <td>134.0</td>\n",
       "      <td>0</td>\n",
       "      <td>0.01</td>\n",
       "      <td>495.078296</td>\n",
       "      <td>NaN</td>\n",
       "      <td>0</td>\n",
       "      <td>...</td>\n",
       "      <td>NaN</td>\n",
       "      <td>8.91</td>\n",
       "      <td>9.0</td>\n",
       "      <td>0.1</td>\n",
       "      <td>2789.173500</td>\n",
       "      <td>612267.0</td>\n",
       "      <td>2.4</td>\n",
       "      <td>2.4</td>\n",
       "      <td>0.000</td>\n",
       "      <td>0.0</td>\n",
       "    </tr>\n",
       "    <tr>\n",
       "      <td>1745</td>\n",
       "      <td>Montenegro</td>\n",
       "      <td>2002</td>\n",
       "      <td>Developing</td>\n",
       "      <td>73.4</td>\n",
       "      <td>136.0</td>\n",
       "      <td>0</td>\n",
       "      <td>0.01</td>\n",
       "      <td>36.480240</td>\n",
       "      <td>NaN</td>\n",
       "      <td>0</td>\n",
       "      <td>...</td>\n",
       "      <td>NaN</td>\n",
       "      <td>8.33</td>\n",
       "      <td>9.0</td>\n",
       "      <td>0.1</td>\n",
       "      <td>216.243274</td>\n",
       "      <td>69828.0</td>\n",
       "      <td>2.5</td>\n",
       "      <td>2.5</td>\n",
       "      <td>0.000</td>\n",
       "      <td>0.0</td>\n",
       "    </tr>\n",
       "    <tr>\n",
       "      <td>1746</td>\n",
       "      <td>Montenegro</td>\n",
       "      <td>2001</td>\n",
       "      <td>Developing</td>\n",
       "      <td>73.3</td>\n",
       "      <td>136.0</td>\n",
       "      <td>0</td>\n",
       "      <td>0.01</td>\n",
       "      <td>33.669814</td>\n",
       "      <td>NaN</td>\n",
       "      <td>0</td>\n",
       "      <td>...</td>\n",
       "      <td>NaN</td>\n",
       "      <td>8.23</td>\n",
       "      <td>9.0</td>\n",
       "      <td>0.1</td>\n",
       "      <td>199.583957</td>\n",
       "      <td>67389.0</td>\n",
       "      <td>2.5</td>\n",
       "      <td>2.6</td>\n",
       "      <td>0.000</td>\n",
       "      <td>0.0</td>\n",
       "    </tr>\n",
       "  </tbody>\n",
       "</table>\n",
       "<p>5 rows × 22 columns</p>\n",
       "</div>"
      ],
      "text/plain": [
       "         country  year      status  life_expectancy  adult_mortality  \\\n",
       "1742  Montenegro  2005  Developing             73.6            133.0   \n",
       "1743  Montenegro  2004  Developing             73.5            134.0   \n",
       "1744  Montenegro  2003  Developing             73.5            134.0   \n",
       "1745  Montenegro  2002  Developing             73.4            136.0   \n",
       "1746  Montenegro  2001  Developing             73.3            136.0   \n",
       "\n",
       "      infant_deaths  alcohol  percentage_expenditure  hepatitis_b  measles  \\\n",
       "1742              0      NaN              527.307672          NaN        0   \n",
       "1743              0     0.01               57.121901          NaN        0   \n",
       "1744              0     0.01              495.078296          NaN        0   \n",
       "1745              0     0.01               36.480240          NaN        0   \n",
       "1746              0     0.01               33.669814          NaN        0   \n",
       "\n",
       "      ...  polio  total_expenditure  diphtheria  hiv/aids          gdp  \\\n",
       "1742  ...    NaN               8.46         9.0       0.1  3674.617924   \n",
       "1743  ...    NaN               8.45         9.0       0.1   338.199535   \n",
       "1744  ...    NaN               8.91         9.0       0.1  2789.173500   \n",
       "1745  ...    NaN               8.33         9.0       0.1   216.243274   \n",
       "1746  ...    NaN               8.23         9.0       0.1   199.583957   \n",
       "\n",
       "      population  thinness_10-19_years  thinness_5-9_years  \\\n",
       "1742    614261.0                   2.3                 2.3   \n",
       "1743    613353.0                   2.3                 2.4   \n",
       "1744    612267.0                   2.4                 2.4   \n",
       "1745     69828.0                   2.5                 2.5   \n",
       "1746     67389.0                   2.5                 2.6   \n",
       "\n",
       "      income_composition_of_resources  schooling  \n",
       "1742                            0.746       12.8  \n",
       "1743                            0.740       12.6  \n",
       "1744                            0.000        0.0  \n",
       "1745                            0.000        0.0  \n",
       "1746                            0.000        0.0  \n",
       "\n",
       "[5 rows x 22 columns]"
      ]
     },
     "execution_count": 63,
     "metadata": {},
     "output_type": "execute_result"
    }
   ],
   "source": [
    "## for polio\n",
    "pdf = df[df['polio'].isnull()]\n",
    "pdf.head()"
   ]
  },
  {
   "cell_type": "code",
   "execution_count": 64,
   "metadata": {},
   "outputs": [
    {
     "data": {
      "text/plain": [
       "array(['Montenegro', 'South Sudan', 'Timor-Leste'], dtype=object)"
      ]
     },
     "execution_count": 64,
     "metadata": {},
     "output_type": "execute_result"
    }
   ],
   "source": [
    "pdf['country'].unique()"
   ]
  },
  {
   "cell_type": "code",
   "execution_count": 65,
   "metadata": {},
   "outputs": [
    {
     "data": {
      "text/plain": [
       "array([2005, 2004, 2003, 2002, 2001, 2000, 2010, 2009, 2008, 2007, 2006],\n",
       "      dtype=int64)"
      ]
     },
     "execution_count": 65,
     "metadata": {},
     "output_type": "execute_result"
    }
   ],
   "source": [
    "pdf['year'].unique()"
   ]
  },
  {
   "cell_type": "code",
   "execution_count": 66,
   "metadata": {},
   "outputs": [
    {
     "data": {
      "text/plain": [
       "array(['Developing'], dtype=object)"
      ]
     },
     "execution_count": 66,
     "metadata": {},
     "output_type": "execute_result"
    }
   ],
   "source": [
    "pdf['status'].unique()"
   ]
  },
  {
   "cell_type": "code",
   "execution_count": 67,
   "metadata": {},
   "outputs": [
    {
     "name": "stdout",
     "output_type": "stream",
     "text": [
      "Montenegro [2005 2004 2003 2002 2001 2000]\n",
      "South Sudan [2010 2009 2008 2007 2006 2005 2004 2003 2002 2001 2000]\n",
      "Timor-Leste [2001 2000]\n"
     ]
    }
   ],
   "source": [
    "## years for which the countries have missing values\n",
    "for i in pdf['country'].unique():\n",
    "    print(i, pdf[pdf['country'] == i]['year'].unique())\n"
   ]
  },
  {
   "cell_type": "code",
   "execution_count": 68,
   "metadata": {},
   "outputs": [
    {
     "data": {
      "text/plain": [
       "count    2407.000000\n",
       "mean       80.170752\n",
       "std        24.671531\n",
       "min         3.000000\n",
       "25%        74.000000\n",
       "50%        91.000000\n",
       "75%        97.000000\n",
       "max        99.000000\n",
       "Name: polio, dtype: float64"
      ]
     },
     "execution_count": 68,
     "metadata": {},
     "output_type": "execute_result"
    }
   ],
   "source": [
    "developing['polio'].describe()"
   ]
  },
  {
   "cell_type": "code",
   "execution_count": 69,
   "metadata": {},
   "outputs": [
    {
     "name": "stdout",
     "output_type": "stream",
     "text": [
      "Int64Index([2414, 2415, 2416, 2417, 2418, 2419, 2420, 2421, 2422, 2423, 2424], dtype='int64')\n"
     ]
    }
   ],
   "source": [
    "## imputing the data for the above countries - South Sudan\n",
    "    \n",
    "pid = pdf[pdf['country']== 'South Sudan'].index\n",
    "print(pid)\n",
    "    \n",
    "for i in pid:\n",
    "    df.loc[i,'polio'] = df[df['country'] == 'South Sudan']['polio'].min()\n",
    "    #print(df.loc[i,'diphtheria'])\n",
    "\n"
   ]
  },
  {
   "cell_type": "code",
   "execution_count": 70,
   "metadata": {},
   "outputs": [],
   "source": [
    "## imputing the data for the above countries - Montenegro\n",
    "\n",
    "pid = pdf[pdf['country']== 'Montenegro'].index\n",
    "#print(pid)\n",
    "    \n",
    "for i in pid:\n",
    "    df.loc[i,'polio'] = df[df['country'] == 'Montenegro']['polio'].min()\n",
    "    #print(df.loc[i,'diphtheria'])\n",
    "\n"
   ]
  },
  {
   "cell_type": "code",
   "execution_count": 71,
   "metadata": {},
   "outputs": [],
   "source": [
    "## imputing the data for the above countries - Timor-Leste\n",
    "\n",
    "pid = pdf[pdf['country']== 'Timor-Leste'].index\n",
    "#print(pid)\n",
    "    \n",
    "for i in pid:\n",
    "    df.loc[i,'polio'] = df[df['country'] == 'Timor-Leste']['polio'].min()\n",
    "    #print(df.loc[i,'diphtheria'])\n",
    "\n"
   ]
  },
  {
   "cell_type": "code",
   "execution_count": 72,
   "metadata": {},
   "outputs": [
    {
     "data": {
      "text/html": [
       "<div>\n",
       "<style scoped>\n",
       "    .dataframe tbody tr th:only-of-type {\n",
       "        vertical-align: middle;\n",
       "    }\n",
       "\n",
       "    .dataframe tbody tr th {\n",
       "        vertical-align: top;\n",
       "    }\n",
       "\n",
       "    .dataframe thead th {\n",
       "        text-align: right;\n",
       "    }\n",
       "</style>\n",
       "<table border=\"1\" class=\"dataframe\">\n",
       "  <thead>\n",
       "    <tr style=\"text-align: right;\">\n",
       "      <th></th>\n",
       "      <th>country</th>\n",
       "      <th>year</th>\n",
       "      <th>status</th>\n",
       "      <th>life_expectancy</th>\n",
       "      <th>adult_mortality</th>\n",
       "      <th>infant_deaths</th>\n",
       "      <th>alcohol</th>\n",
       "      <th>percentage_expenditure</th>\n",
       "      <th>hepatitis_b</th>\n",
       "      <th>measles</th>\n",
       "      <th>...</th>\n",
       "      <th>polio</th>\n",
       "      <th>total_expenditure</th>\n",
       "      <th>diphtheria</th>\n",
       "      <th>hiv/aids</th>\n",
       "      <th>gdp</th>\n",
       "      <th>population</th>\n",
       "      <th>thinness_10-19_years</th>\n",
       "      <th>thinness_5-9_years</th>\n",
       "      <th>income_composition_of_resources</th>\n",
       "      <th>schooling</th>\n",
       "    </tr>\n",
       "  </thead>\n",
       "  <tbody>\n",
       "  </tbody>\n",
       "</table>\n",
       "<p>0 rows × 22 columns</p>\n",
       "</div>"
      ],
      "text/plain": [
       "Empty DataFrame\n",
       "Columns: [country, year, status, life_expectancy, adult_mortality, infant_deaths, alcohol, percentage_expenditure, hepatitis_b, measles, bmi, under_five_deaths, polio, total_expenditure, diphtheria, hiv/aids, gdp, population, thinness_10-19_years, thinness_5-9_years, income_composition_of_resources, schooling]\n",
       "Index: []\n",
       "\n",
       "[0 rows x 22 columns]"
      ]
     },
     "execution_count": 72,
     "metadata": {},
     "output_type": "execute_result"
    }
   ],
   "source": [
    "## check if all the missing values are imputed\n",
    "\n",
    "df[df['polio'].isnull()]"
   ]
  },
  {
   "cell_type": "code",
   "execution_count": 73,
   "metadata": {},
   "outputs": [
    {
     "data": {
      "text/plain": [
       "alcohol                            193\n",
       "hepatitis_b                        553\n",
       "total_expenditure                  226\n",
       "gdp                                443\n",
       "population                         644\n",
       "income_composition_of_resources    160\n",
       "schooling                          160\n",
       "dtype: int64"
      ]
     },
     "execution_count": 73,
     "metadata": {},
     "output_type": "execute_result"
    }
   ],
   "source": [
    "## check for remaining missing values\n",
    "\n",
    "df.isnull().sum()[df.isnull().sum() > 0]"
   ]
  },
  {
   "cell_type": "code",
   "execution_count": 74,
   "metadata": {},
   "outputs": [
    {
     "data": {
      "text/html": [
       "<div>\n",
       "<style scoped>\n",
       "    .dataframe tbody tr th:only-of-type {\n",
       "        vertical-align: middle;\n",
       "    }\n",
       "\n",
       "    .dataframe tbody tr th {\n",
       "        vertical-align: top;\n",
       "    }\n",
       "\n",
       "    .dataframe thead th {\n",
       "        text-align: right;\n",
       "    }\n",
       "</style>\n",
       "<table border=\"1\" class=\"dataframe\">\n",
       "  <thead>\n",
       "    <tr style=\"text-align: right;\">\n",
       "      <th></th>\n",
       "      <th>country</th>\n",
       "      <th>year</th>\n",
       "      <th>status</th>\n",
       "      <th>life_expectancy</th>\n",
       "      <th>adult_mortality</th>\n",
       "      <th>infant_deaths</th>\n",
       "      <th>alcohol</th>\n",
       "      <th>percentage_expenditure</th>\n",
       "      <th>hepatitis_b</th>\n",
       "      <th>measles</th>\n",
       "      <th>...</th>\n",
       "      <th>polio</th>\n",
       "      <th>total_expenditure</th>\n",
       "      <th>diphtheria</th>\n",
       "      <th>hiv/aids</th>\n",
       "      <th>gdp</th>\n",
       "      <th>population</th>\n",
       "      <th>thinness_10-19_years</th>\n",
       "      <th>thinness_5-9_years</th>\n",
       "      <th>income_composition_of_resources</th>\n",
       "      <th>schooling</th>\n",
       "    </tr>\n",
       "  </thead>\n",
       "  <tbody>\n",
       "    <tr>\n",
       "      <td>44</td>\n",
       "      <td>Algeria</td>\n",
       "      <td>2003</td>\n",
       "      <td>Developing</td>\n",
       "      <td>71.7</td>\n",
       "      <td>146.0</td>\n",
       "      <td>20</td>\n",
       "      <td>0.34</td>\n",
       "      <td>25.018523</td>\n",
       "      <td>NaN</td>\n",
       "      <td>15374</td>\n",
       "      <td>...</td>\n",
       "      <td>87.0</td>\n",
       "      <td>3.60</td>\n",
       "      <td>87.0</td>\n",
       "      <td>0.1</td>\n",
       "      <td>294.335560</td>\n",
       "      <td>3243514.0</td>\n",
       "      <td>6.3</td>\n",
       "      <td>6.1</td>\n",
       "      <td>0.663</td>\n",
       "      <td>11.5</td>\n",
       "    </tr>\n",
       "    <tr>\n",
       "      <td>45</td>\n",
       "      <td>Algeria</td>\n",
       "      <td>2002</td>\n",
       "      <td>Developing</td>\n",
       "      <td>71.6</td>\n",
       "      <td>145.0</td>\n",
       "      <td>20</td>\n",
       "      <td>0.36</td>\n",
       "      <td>148.511984</td>\n",
       "      <td>NaN</td>\n",
       "      <td>5862</td>\n",
       "      <td>...</td>\n",
       "      <td>86.0</td>\n",
       "      <td>3.73</td>\n",
       "      <td>86.0</td>\n",
       "      <td>0.1</td>\n",
       "      <td>1774.336730</td>\n",
       "      <td>3199546.0</td>\n",
       "      <td>6.3</td>\n",
       "      <td>6.2</td>\n",
       "      <td>0.653</td>\n",
       "      <td>11.1</td>\n",
       "    </tr>\n",
       "    <tr>\n",
       "      <td>46</td>\n",
       "      <td>Algeria</td>\n",
       "      <td>2001</td>\n",
       "      <td>Developing</td>\n",
       "      <td>71.4</td>\n",
       "      <td>145.0</td>\n",
       "      <td>20</td>\n",
       "      <td>0.23</td>\n",
       "      <td>147.986071</td>\n",
       "      <td>NaN</td>\n",
       "      <td>2686</td>\n",
       "      <td>...</td>\n",
       "      <td>89.0</td>\n",
       "      <td>3.84</td>\n",
       "      <td>89.0</td>\n",
       "      <td>0.1</td>\n",
       "      <td>1732.857979</td>\n",
       "      <td>31592153.0</td>\n",
       "      <td>6.4</td>\n",
       "      <td>6.3</td>\n",
       "      <td>0.644</td>\n",
       "      <td>10.9</td>\n",
       "    </tr>\n",
       "    <tr>\n",
       "      <td>47</td>\n",
       "      <td>Algeria</td>\n",
       "      <td>2000</td>\n",
       "      <td>Developing</td>\n",
       "      <td>71.3</td>\n",
       "      <td>145.0</td>\n",
       "      <td>21</td>\n",
       "      <td>0.25</td>\n",
       "      <td>154.455944</td>\n",
       "      <td>NaN</td>\n",
       "      <td>0</td>\n",
       "      <td>...</td>\n",
       "      <td>86.0</td>\n",
       "      <td>3.49</td>\n",
       "      <td>86.0</td>\n",
       "      <td>0.1</td>\n",
       "      <td>1757.177970</td>\n",
       "      <td>3118366.0</td>\n",
       "      <td>6.5</td>\n",
       "      <td>6.4</td>\n",
       "      <td>0.636</td>\n",
       "      <td>10.7</td>\n",
       "    </tr>\n",
       "    <tr>\n",
       "      <td>57</td>\n",
       "      <td>Angola</td>\n",
       "      <td>2006</td>\n",
       "      <td>Developing</td>\n",
       "      <td>47.7</td>\n",
       "      <td>381.0</td>\n",
       "      <td>90</td>\n",
       "      <td>5.84</td>\n",
       "      <td>25.086888</td>\n",
       "      <td>NaN</td>\n",
       "      <td>765</td>\n",
       "      <td>...</td>\n",
       "      <td>36.0</td>\n",
       "      <td>4.54</td>\n",
       "      <td>34.0</td>\n",
       "      <td>2.5</td>\n",
       "      <td>262.415149</td>\n",
       "      <td>2262399.0</td>\n",
       "      <td>9.8</td>\n",
       "      <td>9.7</td>\n",
       "      <td>0.439</td>\n",
       "      <td>7.2</td>\n",
       "    </tr>\n",
       "  </tbody>\n",
       "</table>\n",
       "<p>5 rows × 22 columns</p>\n",
       "</div>"
      ],
      "text/plain": [
       "    country  year      status  life_expectancy  adult_mortality  \\\n",
       "44  Algeria  2003  Developing             71.7            146.0   \n",
       "45  Algeria  2002  Developing             71.6            145.0   \n",
       "46  Algeria  2001  Developing             71.4            145.0   \n",
       "47  Algeria  2000  Developing             71.3            145.0   \n",
       "57   Angola  2006  Developing             47.7            381.0   \n",
       "\n",
       "    infant_deaths  alcohol  percentage_expenditure  hepatitis_b  measles  ...  \\\n",
       "44             20     0.34               25.018523          NaN    15374  ...   \n",
       "45             20     0.36              148.511984          NaN     5862  ...   \n",
       "46             20     0.23              147.986071          NaN     2686  ...   \n",
       "47             21     0.25              154.455944          NaN        0  ...   \n",
       "57             90     5.84               25.086888          NaN      765  ...   \n",
       "\n",
       "    polio  total_expenditure  diphtheria  hiv/aids          gdp  population  \\\n",
       "44   87.0               3.60        87.0       0.1   294.335560   3243514.0   \n",
       "45   86.0               3.73        86.0       0.1  1774.336730   3199546.0   \n",
       "46   89.0               3.84        89.0       0.1  1732.857979  31592153.0   \n",
       "47   86.0               3.49        86.0       0.1  1757.177970   3118366.0   \n",
       "57   36.0               4.54        34.0       2.5   262.415149   2262399.0   \n",
       "\n",
       "    thinness_10-19_years  thinness_5-9_years  income_composition_of_resources  \\\n",
       "44                   6.3                 6.1                            0.663   \n",
       "45                   6.3                 6.2                            0.653   \n",
       "46                   6.4                 6.3                            0.644   \n",
       "47                   6.5                 6.4                            0.636   \n",
       "57                   9.8                 9.7                            0.439   \n",
       "\n",
       "    schooling  \n",
       "44       11.5  \n",
       "45       11.1  \n",
       "46       10.9  \n",
       "47       10.7  \n",
       "57        7.2  \n",
       "\n",
       "[5 rows x 22 columns]"
      ]
     },
     "execution_count": 74,
     "metadata": {},
     "output_type": "execute_result"
    }
   ],
   "source": [
    "## for hepatitis_b\n",
    "hb = df[df['hepatitis_b'].isnull()]\n",
    "hb.head()\n",
    "\n"
   ]
  },
  {
   "cell_type": "code",
   "execution_count": 75,
   "metadata": {},
   "outputs": [
    {
     "data": {
      "text/plain": [
       "array(['Algeria', 'Angola', 'Antigua and Barbuda', 'Argentina',\n",
       "       'Australia', 'Azerbaijan', 'Bahamas', 'Bangladesh', 'Barbados',\n",
       "       'Benin', 'Bosnia and Herzegovina', 'Burkina Faso', 'Burundi',\n",
       "       \"Côte d'Ivoire\", 'Cabo Verde', 'Cambodia', 'Cameroon', 'Canada',\n",
       "       'Central African Republic', 'Chad', 'Chile', 'Comoros', 'Congo',\n",
       "       'Croatia', 'Czechia', \"Democratic People's Republic of Korea\",\n",
       "       'Democratic Republic of the Congo', 'Denmark', 'Djibouti',\n",
       "       'Equatorial Guinea', 'Eritrea', 'Estonia', 'Ethiopia', 'Finland',\n",
       "       'Gabon', 'Ghana', 'Grenada', 'Guatemala', 'Guinea',\n",
       "       'Guinea-Bissau', 'Guyana', 'Haiti', 'Hungary', 'Iceland', 'India',\n",
       "       'Ireland', 'Jamaica', 'Japan', 'Kenya',\n",
       "       \"Lao People's Democratic Republic\", 'Lesotho', 'Liberia',\n",
       "       'Madagascar', 'Malawi', 'Mali', 'Malta', 'Mauritania',\n",
       "       'Montenegro', 'Mozambique', 'Myanmar', 'Namibia', 'Nepal',\n",
       "       'Netherlands', 'Niger', 'Nigeria', 'Norway', 'Pakistan', 'Panama',\n",
       "       'Paraguay', 'Peru', 'Russian Federation', 'Rwanda', 'Saint Lucia',\n",
       "       'Saint Vincent and the Grenadines', 'Sao Tome and Principe',\n",
       "       'Senegal', 'Serbia', 'Sierra Leone', 'Slovenia', 'Somalia',\n",
       "       'South Sudan', 'Sri Lanka', 'Sudan', 'Suriname', 'Sweden',\n",
       "       'Switzerland', 'Tajikistan',\n",
       "       'The former Yugoslav republic of Macedonia', 'Timor-Leste', 'Togo',\n",
       "       'Trinidad and Tobago', 'Turkmenistan', 'Uganda',\n",
       "       'United Kingdom of Great Britain and Northern Ireland',\n",
       "       'United Republic of Tanzania', 'Uzbekistan', 'Viet Nam', 'Zambia'],\n",
       "      dtype=object)"
      ]
     },
     "execution_count": 75,
     "metadata": {},
     "output_type": "execute_result"
    }
   ],
   "source": [
    "hb['country'].unique()\n",
    "\n"
   ]
  },
  {
   "cell_type": "code",
   "execution_count": 76,
   "metadata": {},
   "outputs": [
    {
     "data": {
      "text/plain": [
       "array([2003, 2002, 2001, 2000, 2006, 2005, 2004, 2008, 2007, 2015, 2014,\n",
       "       2013, 2012, 2011, 2010, 2009], dtype=int64)"
      ]
     },
     "execution_count": 76,
     "metadata": {},
     "output_type": "execute_result"
    }
   ],
   "source": [
    "hb['year'].unique()\n"
   ]
  },
  {
   "cell_type": "code",
   "execution_count": 77,
   "metadata": {},
   "outputs": [
    {
     "data": {
      "text/plain": [
       "array(['Developing', 'Developed'], dtype=object)"
      ]
     },
     "execution_count": 77,
     "metadata": {},
     "output_type": "execute_result"
    }
   ],
   "source": [
    "\n",
    "hb['status'].unique()\n"
   ]
  },
  {
   "cell_type": "code",
   "execution_count": 78,
   "metadata": {},
   "outputs": [
    {
     "name": "stdout",
     "output_type": "stream",
     "text": [
      "Algeria [2003 2002 2001 2000]\n",
      "Angola [2006 2005 2004 2003 2002 2001 2000]\n",
      "Antigua and Barbuda [2000]\n",
      "Argentina [2001 2000]\n",
      "Australia [2000]\n",
      "Azerbaijan [2001 2000]\n",
      "Bahamas [2000]\n",
      "Bangladesh [2002 2001 2000]\n",
      "Barbados [2000]\n",
      "Benin [2001 2000]\n",
      "Bosnia and Herzegovina [2003 2002 2001 2000]\n",
      "Burkina Faso [2005 2004 2003 2002 2001 2000]\n",
      "Burundi [2003 2002 2001 2000]\n",
      "Côte d'Ivoire [2000]\n",
      "Cabo Verde [2001 2000]\n",
      "Cambodia [2005 2004 2003 2002 2001 2000]\n",
      "Cameroon [2004 2003 2002 2001 2000]\n",
      "Canada [2002 2001 2000]\n",
      "Central African Republic [2008 2007 2006 2005 2004 2003 2002 2001 2000]\n",
      "Chad [2007 2006 2005 2004 2003 2002 2001 2000]\n",
      "Chile [2005 2004 2003 2002 2001 2000]\n",
      "Comoros [2002 2001 2000]\n",
      "Congo [2006 2005 2004 2003 2002 2001 2000]\n",
      "Croatia [2006 2005 2004 2003 2002 2001 2000]\n",
      "Czechia [2001 2000]\n",
      "Democratic People's Republic of Korea [2002 2001 2000]\n",
      "Democratic Republic of the Congo [2006 2005 2004 2003 2002 2001 2000]\n",
      "Denmark [2015 2014 2013 2012 2011 2010 2009 2008 2007 2006 2005 2004 2003 2002\n",
      " 2001 2000]\n",
      "Djibouti [2006 2005 2004 2003 2002 2001 2000]\n",
      "Equatorial Guinea [2013 2012 2011 2010 2009 2008 2007 2006 2005 2004 2003 2002 2001 2000]\n",
      "Eritrea [2001 2000]\n",
      "Estonia [2003 2002 2001 2000]\n",
      "Ethiopia [2006 2005 2004 2003 2002 2001 2000]\n",
      "Finland [2015 2014 2013 2012 2011 2010 2009 2008 2007 2006 2005 2004 2003 2002\n",
      " 2001 2000]\n",
      "Gabon [2004 2003 2002 2001 2000]\n",
      "Ghana [2001 2000]\n",
      "Grenada [2000]\n",
      "Guatemala [2004 2003 2002 2001 2000]\n",
      "Guinea [2006 2005 2004 2003 2002 2001 2000]\n",
      "Guinea-Bissau [2008 2007 2006 2005 2004 2003 2002 2001 2000]\n",
      "Guyana [2000]\n",
      "Haiti [2012 2011 2010 2009 2008 2007 2006 2005 2004 2003 2002 2001 2000]\n",
      "Hungary [2015 2014 2013 2012 2011 2010 2009 2008 2007 2006 2005 2004 2003 2002\n",
      " 2001 2000]\n",
      "Iceland [2015 2014 2013 2012 2011 2010 2009 2008 2007 2006 2005 2004 2003 2002\n",
      " 2001 2000]\n",
      "India [2003 2002 2001 2000]\n",
      "Ireland [2009 2008 2007 2006 2005 2004 2003 2002 2001 2000]\n",
      "Jamaica [2002 2001 2000]\n",
      "Japan [2015 2014 2013 2012 2011 2010 2009 2008 2007 2006 2005 2004 2003 2002\n",
      " 2001 2000]\n",
      "Kenya [2001 2000]\n",
      "Lao People's Democratic Republic [2002 2001 2000]\n",
      "Lesotho [2002 2001 2000]\n",
      "Liberia [2007 2006 2005 2004 2003 2002 2001 2000]\n",
      "Madagascar [2001 2000]\n",
      "Malawi [2001 2000]\n",
      "Mali [2002 2001 2000]\n",
      "Malta [2002 2001 2000]\n",
      "Mauritania [2004 2003 2002 2001 2000]\n",
      "Montenegro [2005 2004 2003 2002 2001 2000]\n",
      "Mozambique [2000]\n",
      "Myanmar [2002 2001 2000]\n",
      "Namibia [2009 2008 2007 2006 2005 2004 2003 2002 2001 2000]\n",
      "Nepal [2002 2001 2000]\n",
      "Netherlands [2010 2009 2008 2007 2006 2005 2004 2003 2002 2001 2000]\n",
      "Niger [2008 2007 2006 2005 2004 2003 2002 2001 2000]\n",
      "Nigeria [2004 2003 2002 2001 2000]\n",
      "Norway [2015 2014 2013 2012 2011 2010 2009 2008 2007 2006 2005 2004 2003 2002\n",
      " 2001 2000]\n",
      "Pakistan [2002 2001 2000]\n",
      "Panama [2000]\n",
      "Paraguay [2002 2001 2000]\n",
      "Peru [2002 2001 2000]\n",
      "Russian Federation [2000]\n",
      "Rwanda [2001 2000]\n",
      "Saint Lucia [2001 2000]\n",
      "Saint Vincent and the Grenadines [2002 2001 2000]\n",
      "Sao Tome and Principe [2002 2001 2000]\n",
      "Senegal [2003 2002 2001 2000]\n",
      "Serbia [2003 2002 2001 2000]\n",
      "Sierra Leone [2006 2005 2004 2003 2002 2001 2000]\n",
      "Slovenia [2015 2014 2013 2012 2011 2010 2009 2008 2007 2006 2005 2004 2003 2002\n",
      " 2001 2000]\n",
      "Somalia [2012 2011 2010 2009 2008 2007 2006 2005 2004 2003 2002 2001 2000]\n",
      "South Sudan [2014 2013 2012 2011 2010 2009 2008 2007 2006 2005 2004 2003 2002 2001\n",
      " 2000]\n",
      "Sri Lanka [2002 2001 2000]\n",
      "Sudan [2004 2003 2002 2001 2000]\n",
      "Suriname [2004 2003 2002 2001 2000]\n",
      "Sweden [2010 2009 2008 2007 2006 2005 2004 2003 2002 2001 2000]\n",
      "Switzerland [2015 2014 2013 2012 2011 2010 2009 2008 2007 2006 2005 2004 2003 2002\n",
      " 2001 2000]\n",
      "Tajikistan [2001 2000]\n",
      "The former Yugoslav republic of Macedonia [2004 2003 2002 2001 2000]\n",
      "Timor-Leste [2007 2006 2005 2004 2003 2002 2001 2000]\n",
      "Togo [2007 2006 2005 2004 2003 2002 2001 2000]\n",
      "Trinidad and Tobago [2001 2000]\n",
      "Turkmenistan [2001 2000]\n",
      "Uganda [2001 2000]\n",
      "United Kingdom of Great Britain and Northern Ireland [2015 2014 2013 2012 2011 2010 2009 2008 2007 2006 2005 2004 2003 2002\n",
      " 2001 2000]\n",
      "United Republic of Tanzania [2001 2000]\n",
      "Uzbekistan [2001 2000]\n",
      "Viet Nam [2002 2001 2000]\n",
      "Zambia [2004 2003 2002 2001 2000]\n"
     ]
    }
   ],
   "source": [
    "## years for which the countries have missing values\n",
    "for i in hb['country'].unique():\n",
    "    print(i, hb[hb['country'] == i]['year'].unique())"
   ]
  },
  {
   "cell_type": "code",
   "execution_count": 79,
   "metadata": {},
   "outputs": [
    {
     "data": {
      "text/plain": [
       "count    2046.000000\n",
       "mean       79.763930\n",
       "std        25.564884\n",
       "min         1.000000\n",
       "25%        75.000000\n",
       "50%        91.000000\n",
       "75%        97.000000\n",
       "max        99.000000\n",
       "Name: hepatitis_b, dtype: float64"
      ]
     },
     "execution_count": 79,
     "metadata": {},
     "output_type": "execute_result"
    }
   ],
   "source": [
    "developing['hepatitis_b'].describe()"
   ]
  },
  {
   "cell_type": "code",
   "execution_count": 80,
   "metadata": {},
   "outputs": [
    {
     "data": {
      "text/plain": [
       "count    339.000000\n",
       "mean      88.041298\n",
       "std       20.489240\n",
       "min        2.000000\n",
       "25%       89.000000\n",
       "50%       95.000000\n",
       "75%       97.000000\n",
       "max       99.000000\n",
       "Name: hepatitis_b, dtype: float64"
      ]
     },
     "execution_count": 80,
     "metadata": {},
     "output_type": "execute_result"
    }
   ],
   "source": [
    "developed['hepatitis_b'].describe()"
   ]
  },
  {
   "cell_type": "code",
   "execution_count": 81,
   "metadata": {},
   "outputs": [
    {
     "data": {
      "text/plain": [
       "array(['Australia', 'Croatia', 'Czechia', 'Denmark', 'Hungary', 'Iceland',\n",
       "       'Ireland', 'Japan', 'Malta', 'Netherlands', 'Norway', 'Slovenia',\n",
       "       'Sweden', 'Switzerland',\n",
       "       'United Kingdom of Great Britain and Northern Ireland'],\n",
       "      dtype=object)"
      ]
     },
     "execution_count": 81,
     "metadata": {},
     "output_type": "execute_result"
    }
   ],
   "source": [
    "hb[hb['status']=='Developed']['country'].unique()"
   ]
  },
  {
   "cell_type": "code",
   "execution_count": 82,
   "metadata": {},
   "outputs": [
    {
     "data": {
      "text/plain": [
       "array(['Algeria', 'Angola', 'Antigua and Barbuda', 'Argentina',\n",
       "       'Azerbaijan', 'Bahamas', 'Bangladesh', 'Barbados', 'Benin',\n",
       "       'Bosnia and Herzegovina', 'Burkina Faso', 'Burundi',\n",
       "       \"Côte d'Ivoire\", 'Cabo Verde', 'Cambodia', 'Cameroon', 'Canada',\n",
       "       'Central African Republic', 'Chad', 'Chile', 'Comoros', 'Congo',\n",
       "       \"Democratic People's Republic of Korea\",\n",
       "       'Democratic Republic of the Congo', 'Djibouti',\n",
       "       'Equatorial Guinea', 'Eritrea', 'Estonia', 'Ethiopia', 'Finland',\n",
       "       'Gabon', 'Ghana', 'Grenada', 'Guatemala', 'Guinea',\n",
       "       'Guinea-Bissau', 'Guyana', 'Haiti', 'India', 'Jamaica', 'Kenya',\n",
       "       \"Lao People's Democratic Republic\", 'Lesotho', 'Liberia',\n",
       "       'Madagascar', 'Malawi', 'Mali', 'Mauritania', 'Montenegro',\n",
       "       'Mozambique', 'Myanmar', 'Namibia', 'Nepal', 'Niger', 'Nigeria',\n",
       "       'Pakistan', 'Panama', 'Paraguay', 'Peru', 'Russian Federation',\n",
       "       'Rwanda', 'Saint Lucia', 'Saint Vincent and the Grenadines',\n",
       "       'Sao Tome and Principe', 'Senegal', 'Serbia', 'Sierra Leone',\n",
       "       'Somalia', 'South Sudan', 'Sri Lanka', 'Sudan', 'Suriname',\n",
       "       'Tajikistan', 'The former Yugoslav republic of Macedonia',\n",
       "       'Timor-Leste', 'Togo', 'Trinidad and Tobago', 'Turkmenistan',\n",
       "       'Uganda', 'United Republic of Tanzania', 'Uzbekistan', 'Viet Nam',\n",
       "       'Zambia'], dtype=object)"
      ]
     },
     "execution_count": 82,
     "metadata": {},
     "output_type": "execute_result"
    }
   ],
   "source": [
    "hb[hb['status']=='Developing']['country'].unique()"
   ]
  },
  {
   "cell_type": "code",
   "execution_count": 83,
   "metadata": {},
   "outputs": [],
   "source": [
    "## imputing the data for the developed countries\n",
    "\n",
    "for i in hb[hb['status']=='Developed']['country'].unique():\n",
    "\n",
    "    pid = hb[hb['country']== i].index\n",
    "    ##print(pid)\n",
    "    \n",
    "    for j in pid:\n",
    "        df.loc[j,'hepatitis_b'] = df[df['country'] == i]['hepatitis_b'].median()\n",
    "        #print(df.loc[i,'diphtheria'])"
   ]
  },
  {
   "cell_type": "code",
   "execution_count": 84,
   "metadata": {},
   "outputs": [],
   "source": [
    "## imputing the data for the developing countries\n",
    "\n",
    "for i in hb[hb['status']=='Developing']['country'].unique():\n",
    "\n",
    "    pid = hb[hb['country']== i].index\n",
    "    ##print(pid)\n",
    "    \n",
    "    for j in pid:\n",
    "        df.loc[j,'hepatitis_b'] = df[df['country'] == i]['hepatitis_b'].median()\n",
    "        #print(df.loc[i,'diphtheria'])"
   ]
  },
  {
   "cell_type": "code",
   "execution_count": null,
   "metadata": {},
   "outputs": [],
   "source": []
  },
  {
   "cell_type": "code",
   "execution_count": 85,
   "metadata": {},
   "outputs": [
    {
     "data": {
      "text/html": [
       "<div>\n",
       "<style scoped>\n",
       "    .dataframe tbody tr th:only-of-type {\n",
       "        vertical-align: middle;\n",
       "    }\n",
       "\n",
       "    .dataframe tbody tr th {\n",
       "        vertical-align: top;\n",
       "    }\n",
       "\n",
       "    .dataframe thead th {\n",
       "        text-align: right;\n",
       "    }\n",
       "</style>\n",
       "<table border=\"1\" class=\"dataframe\">\n",
       "  <thead>\n",
       "    <tr style=\"text-align: right;\">\n",
       "      <th></th>\n",
       "      <th>country</th>\n",
       "      <th>year</th>\n",
       "      <th>status</th>\n",
       "      <th>life_expectancy</th>\n",
       "      <th>adult_mortality</th>\n",
       "      <th>infant_deaths</th>\n",
       "      <th>alcohol</th>\n",
       "      <th>percentage_expenditure</th>\n",
       "      <th>hepatitis_b</th>\n",
       "      <th>measles</th>\n",
       "      <th>...</th>\n",
       "      <th>polio</th>\n",
       "      <th>total_expenditure</th>\n",
       "      <th>diphtheria</th>\n",
       "      <th>hiv/aids</th>\n",
       "      <th>gdp</th>\n",
       "      <th>population</th>\n",
       "      <th>thinness_10-19_years</th>\n",
       "      <th>thinness_5-9_years</th>\n",
       "      <th>income_composition_of_resources</th>\n",
       "      <th>schooling</th>\n",
       "    </tr>\n",
       "  </thead>\n",
       "  <tbody>\n",
       "    <tr>\n",
       "      <td>737</td>\n",
       "      <td>Denmark</td>\n",
       "      <td>2015</td>\n",
       "      <td>Developed</td>\n",
       "      <td>86.0</td>\n",
       "      <td>71.0</td>\n",
       "      <td>0</td>\n",
       "      <td>NaN</td>\n",
       "      <td>0.000000</td>\n",
       "      <td>NaN</td>\n",
       "      <td>9</td>\n",
       "      <td>...</td>\n",
       "      <td>93.0</td>\n",
       "      <td>NaN</td>\n",
       "      <td>93.0</td>\n",
       "      <td>0.1</td>\n",
       "      <td>5314.64416</td>\n",
       "      <td>5683483.0</td>\n",
       "      <td>1.1</td>\n",
       "      <td>0.9</td>\n",
       "      <td>0.923</td>\n",
       "      <td>19.2</td>\n",
       "    </tr>\n",
       "    <tr>\n",
       "      <td>738</td>\n",
       "      <td>Denmark</td>\n",
       "      <td>2014</td>\n",
       "      <td>Developed</td>\n",
       "      <td>84.0</td>\n",
       "      <td>73.0</td>\n",
       "      <td>0</td>\n",
       "      <td>9.64</td>\n",
       "      <td>10468.762920</td>\n",
       "      <td>NaN</td>\n",
       "      <td>27</td>\n",
       "      <td>...</td>\n",
       "      <td>94.0</td>\n",
       "      <td>1.80</td>\n",
       "      <td>94.0</td>\n",
       "      <td>0.1</td>\n",
       "      <td>62425.53920</td>\n",
       "      <td>5643475.0</td>\n",
       "      <td>1.1</td>\n",
       "      <td>0.9</td>\n",
       "      <td>0.926</td>\n",
       "      <td>19.2</td>\n",
       "    </tr>\n",
       "    <tr>\n",
       "      <td>739</td>\n",
       "      <td>Denmark</td>\n",
       "      <td>2013</td>\n",
       "      <td>Developed</td>\n",
       "      <td>81.0</td>\n",
       "      <td>75.0</td>\n",
       "      <td>0</td>\n",
       "      <td>9.50</td>\n",
       "      <td>10261.763000</td>\n",
       "      <td>NaN</td>\n",
       "      <td>17</td>\n",
       "      <td>...</td>\n",
       "      <td>94.0</td>\n",
       "      <td>11.25</td>\n",
       "      <td>94.0</td>\n",
       "      <td>0.1</td>\n",
       "      <td>61191.19263</td>\n",
       "      <td>5614932.0</td>\n",
       "      <td>1.1</td>\n",
       "      <td>0.9</td>\n",
       "      <td>0.924</td>\n",
       "      <td>18.7</td>\n",
       "    </tr>\n",
       "    <tr>\n",
       "      <td>740</td>\n",
       "      <td>Denmark</td>\n",
       "      <td>2012</td>\n",
       "      <td>Developed</td>\n",
       "      <td>80.0</td>\n",
       "      <td>76.0</td>\n",
       "      <td>0</td>\n",
       "      <td>9.26</td>\n",
       "      <td>928.417079</td>\n",
       "      <td>NaN</td>\n",
       "      <td>2</td>\n",
       "      <td>...</td>\n",
       "      <td>94.0</td>\n",
       "      <td>1.98</td>\n",
       "      <td>94.0</td>\n",
       "      <td>0.1</td>\n",
       "      <td>5857.52100</td>\n",
       "      <td>5591572.0</td>\n",
       "      <td>1.1</td>\n",
       "      <td>0.9</td>\n",
       "      <td>0.922</td>\n",
       "      <td>18.4</td>\n",
       "    </tr>\n",
       "    <tr>\n",
       "      <td>741</td>\n",
       "      <td>Denmark</td>\n",
       "      <td>2011</td>\n",
       "      <td>Developed</td>\n",
       "      <td>79.7</td>\n",
       "      <td>79.0</td>\n",
       "      <td>0</td>\n",
       "      <td>10.47</td>\n",
       "      <td>10251.108720</td>\n",
       "      <td>NaN</td>\n",
       "      <td>84</td>\n",
       "      <td>...</td>\n",
       "      <td>91.0</td>\n",
       "      <td>1.87</td>\n",
       "      <td>91.0</td>\n",
       "      <td>0.1</td>\n",
       "      <td>61753.66700</td>\n",
       "      <td>557572.0</td>\n",
       "      <td>1.1</td>\n",
       "      <td>0.9</td>\n",
       "      <td>0.910</td>\n",
       "      <td>16.9</td>\n",
       "    </tr>\n",
       "  </tbody>\n",
       "</table>\n",
       "<p>5 rows × 22 columns</p>\n",
       "</div>"
      ],
      "text/plain": [
       "     country  year     status  life_expectancy  adult_mortality  \\\n",
       "737  Denmark  2015  Developed             86.0             71.0   \n",
       "738  Denmark  2014  Developed             84.0             73.0   \n",
       "739  Denmark  2013  Developed             81.0             75.0   \n",
       "740  Denmark  2012  Developed             80.0             76.0   \n",
       "741  Denmark  2011  Developed             79.7             79.0   \n",
       "\n",
       "     infant_deaths  alcohol  percentage_expenditure  hepatitis_b  measles  \\\n",
       "737              0      NaN                0.000000          NaN        9   \n",
       "738              0     9.64            10468.762920          NaN       27   \n",
       "739              0     9.50            10261.763000          NaN       17   \n",
       "740              0     9.26              928.417079          NaN        2   \n",
       "741              0    10.47            10251.108720          NaN       84   \n",
       "\n",
       "     ...  polio  total_expenditure  diphtheria  hiv/aids          gdp  \\\n",
       "737  ...   93.0                NaN        93.0       0.1   5314.64416   \n",
       "738  ...   94.0               1.80        94.0       0.1  62425.53920   \n",
       "739  ...   94.0              11.25        94.0       0.1  61191.19263   \n",
       "740  ...   94.0               1.98        94.0       0.1   5857.52100   \n",
       "741  ...   91.0               1.87        91.0       0.1  61753.66700   \n",
       "\n",
       "     population  thinness_10-19_years  thinness_5-9_years  \\\n",
       "737   5683483.0                   1.1                 0.9   \n",
       "738   5643475.0                   1.1                 0.9   \n",
       "739   5614932.0                   1.1                 0.9   \n",
       "740   5591572.0                   1.1                 0.9   \n",
       "741    557572.0                   1.1                 0.9   \n",
       "\n",
       "     income_composition_of_resources  schooling  \n",
       "737                            0.923       19.2  \n",
       "738                            0.926       19.2  \n",
       "739                            0.924       18.7  \n",
       "740                            0.922       18.4  \n",
       "741                            0.910       16.9  \n",
       "\n",
       "[5 rows x 22 columns]"
      ]
     },
     "execution_count": 85,
     "metadata": {},
     "output_type": "execute_result"
    }
   ],
   "source": [
    "## check if all the missing values are imputed\n",
    "\n",
    "hb1 = df[df['hepatitis_b'].isnull()]\n",
    "hb1.head()"
   ]
  },
  {
   "cell_type": "code",
   "execution_count": 86,
   "metadata": {},
   "outputs": [
    {
     "data": {
      "text/plain": [
       "array(['Denmark', 'Finland', 'Hungary', 'Iceland', 'Japan', 'Norway',\n",
       "       'Slovenia', 'Switzerland',\n",
       "       'United Kingdom of Great Britain and Northern Ireland'],\n",
       "      dtype=object)"
      ]
     },
     "execution_count": 86,
     "metadata": {},
     "output_type": "execute_result"
    }
   ],
   "source": [
    "hb1['country'].unique()"
   ]
  },
  {
   "cell_type": "code",
   "execution_count": 87,
   "metadata": {},
   "outputs": [
    {
     "data": {
      "text/plain": [
       "array(['Developed', 'Developing'], dtype=object)"
      ]
     },
     "execution_count": 87,
     "metadata": {},
     "output_type": "execute_result"
    }
   ],
   "source": [
    "hb1['status'].unique()"
   ]
  },
  {
   "cell_type": "code",
   "execution_count": 88,
   "metadata": {},
   "outputs": [
    {
     "data": {
      "text/plain": [
       "array([2015, 2014, 2013, 2012, 2011, 2010, 2009, 2008, 2007, 2006, 2005,\n",
       "       2004, 2003, 2002, 2001, 2000], dtype=int64)"
      ]
     },
     "execution_count": 88,
     "metadata": {},
     "output_type": "execute_result"
    }
   ],
   "source": [
    "hb1['year'].unique()"
   ]
  },
  {
   "cell_type": "markdown",
   "metadata": {},
   "source": [
    "##### The  developing and developed countries that have no data for any of the years are remaining\n",
    "\n",
    "##### so can be imputed by median of developing and developed countries respectively"
   ]
  },
  {
   "cell_type": "code",
   "execution_count": 89,
   "metadata": {},
   "outputs": [],
   "source": [
    "## imputing the data for the developed countries\n",
    "\n",
    "for i in hb1[hb1['status']=='Developed']['country'].unique():\n",
    "\n",
    "    pid = hb1[hb1['country']== i].index\n",
    "    ##print(pid)\n",
    "    \n",
    "    for j in pid:\n",
    "        df.loc[j,'hepatitis_b'] = developed['hepatitis_b'].median()\n",
    "        #print(df.loc[i,'diphtheria'])"
   ]
  },
  {
   "cell_type": "code",
   "execution_count": 90,
   "metadata": {},
   "outputs": [],
   "source": [
    "## imputing the data for the developing countries\n",
    "\n",
    "for i in hb1[hb1['status'] == 'Developing']['country'].unique():\n",
    "\n",
    "    pid = hb1[hb1['country'] == i].index\n",
    "    ##print(pid)\n",
    "    \n",
    "    for j in pid:\n",
    "        df.loc[j,'hepatitis_b'] = developing['hepatitis_b'].median()\n",
    "        #print(df.loc[i,'diphtheria'])"
   ]
  },
  {
   "cell_type": "code",
   "execution_count": 91,
   "metadata": {},
   "outputs": [
    {
     "data": {
      "text/plain": [
       "alcohol                            193\n",
       "total_expenditure                  226\n",
       "gdp                                443\n",
       "population                         644\n",
       "income_composition_of_resources    160\n",
       "schooling                          160\n",
       "dtype: int64"
      ]
     },
     "execution_count": 91,
     "metadata": {},
     "output_type": "execute_result"
    }
   ],
   "source": [
    "## check for remaining missing values\n",
    "\n",
    "df.isnull().sum()[df.isnull().sum() > 0]"
   ]
  },
  {
   "cell_type": "code",
   "execution_count": null,
   "metadata": {},
   "outputs": [],
   "source": []
  },
  {
   "cell_type": "code",
   "execution_count": 93,
   "metadata": {},
   "outputs": [
    {
     "data": {
      "text/html": [
       "<div>\n",
       "<style scoped>\n",
       "    .dataframe tbody tr th:only-of-type {\n",
       "        vertical-align: middle;\n",
       "    }\n",
       "\n",
       "    .dataframe tbody tr th {\n",
       "        vertical-align: top;\n",
       "    }\n",
       "\n",
       "    .dataframe thead th {\n",
       "        text-align: right;\n",
       "    }\n",
       "</style>\n",
       "<table border=\"1\" class=\"dataframe\">\n",
       "  <thead>\n",
       "    <tr style=\"text-align: right;\">\n",
       "      <th></th>\n",
       "      <th>country</th>\n",
       "      <th>year</th>\n",
       "      <th>status</th>\n",
       "      <th>life_expectancy</th>\n",
       "      <th>adult_mortality</th>\n",
       "      <th>infant_deaths</th>\n",
       "      <th>alcohol</th>\n",
       "      <th>percentage_expenditure</th>\n",
       "      <th>hepatitis_b</th>\n",
       "      <th>measles</th>\n",
       "      <th>...</th>\n",
       "      <th>polio</th>\n",
       "      <th>total_expenditure</th>\n",
       "      <th>diphtheria</th>\n",
       "      <th>hiv/aids</th>\n",
       "      <th>gdp</th>\n",
       "      <th>population</th>\n",
       "      <th>thinness_10-19_years</th>\n",
       "      <th>thinness_5-9_years</th>\n",
       "      <th>income_composition_of_resources</th>\n",
       "      <th>schooling</th>\n",
       "    </tr>\n",
       "  </thead>\n",
       "  <tbody>\n",
       "    <tr>\n",
       "      <td>432</td>\n",
       "      <td>Côte d'Ivoire</td>\n",
       "      <td>2015</td>\n",
       "      <td>Developing</td>\n",
       "      <td>53.3</td>\n",
       "      <td>397.0</td>\n",
       "      <td>57</td>\n",
       "      <td>NaN</td>\n",
       "      <td>0.0</td>\n",
       "      <td>83.0</td>\n",
       "      <td>65</td>\n",
       "      <td>...</td>\n",
       "      <td>81.0</td>\n",
       "      <td>NaN</td>\n",
       "      <td>83.0</td>\n",
       "      <td>1.9</td>\n",
       "      <td>NaN</td>\n",
       "      <td>NaN</td>\n",
       "      <td>5.5</td>\n",
       "      <td>5.5</td>\n",
       "      <td>NaN</td>\n",
       "      <td>NaN</td>\n",
       "    </tr>\n",
       "    <tr>\n",
       "      <td>433</td>\n",
       "      <td>Côte d'Ivoire</td>\n",
       "      <td>2014</td>\n",
       "      <td>Developing</td>\n",
       "      <td>52.8</td>\n",
       "      <td>47.0</td>\n",
       "      <td>58</td>\n",
       "      <td>0.01</td>\n",
       "      <td>0.0</td>\n",
       "      <td>76.0</td>\n",
       "      <td>50</td>\n",
       "      <td>...</td>\n",
       "      <td>76.0</td>\n",
       "      <td>5.72</td>\n",
       "      <td>76.0</td>\n",
       "      <td>2.0</td>\n",
       "      <td>NaN</td>\n",
       "      <td>NaN</td>\n",
       "      <td>5.6</td>\n",
       "      <td>5.6</td>\n",
       "      <td>NaN</td>\n",
       "      <td>NaN</td>\n",
       "    </tr>\n",
       "    <tr>\n",
       "      <td>434</td>\n",
       "      <td>Côte d'Ivoire</td>\n",
       "      <td>2013</td>\n",
       "      <td>Developing</td>\n",
       "      <td>52.3</td>\n",
       "      <td>412.0</td>\n",
       "      <td>59</td>\n",
       "      <td>3.15</td>\n",
       "      <td>0.0</td>\n",
       "      <td>8.0</td>\n",
       "      <td>48</td>\n",
       "      <td>...</td>\n",
       "      <td>79.0</td>\n",
       "      <td>5.81</td>\n",
       "      <td>8.0</td>\n",
       "      <td>2.4</td>\n",
       "      <td>NaN</td>\n",
       "      <td>NaN</td>\n",
       "      <td>5.8</td>\n",
       "      <td>5.7</td>\n",
       "      <td>NaN</td>\n",
       "      <td>NaN</td>\n",
       "    </tr>\n",
       "    <tr>\n",
       "      <td>435</td>\n",
       "      <td>Côte d'Ivoire</td>\n",
       "      <td>2012</td>\n",
       "      <td>Developing</td>\n",
       "      <td>52.0</td>\n",
       "      <td>415.0</td>\n",
       "      <td>59</td>\n",
       "      <td>3.24</td>\n",
       "      <td>0.0</td>\n",
       "      <td>82.0</td>\n",
       "      <td>137</td>\n",
       "      <td>...</td>\n",
       "      <td>83.0</td>\n",
       "      <td>6.14</td>\n",
       "      <td>82.0</td>\n",
       "      <td>2.9</td>\n",
       "      <td>NaN</td>\n",
       "      <td>NaN</td>\n",
       "      <td>5.9</td>\n",
       "      <td>5.9</td>\n",
       "      <td>NaN</td>\n",
       "      <td>NaN</td>\n",
       "    </tr>\n",
       "    <tr>\n",
       "      <td>436</td>\n",
       "      <td>Côte d'Ivoire</td>\n",
       "      <td>2011</td>\n",
       "      <td>Developing</td>\n",
       "      <td>51.7</td>\n",
       "      <td>419.0</td>\n",
       "      <td>60</td>\n",
       "      <td>3.13</td>\n",
       "      <td>0.0</td>\n",
       "      <td>62.0</td>\n",
       "      <td>628</td>\n",
       "      <td>...</td>\n",
       "      <td>58.0</td>\n",
       "      <td>6.42</td>\n",
       "      <td>62.0</td>\n",
       "      <td>3.3</td>\n",
       "      <td>NaN</td>\n",
       "      <td>NaN</td>\n",
       "      <td>6.1</td>\n",
       "      <td>6.0</td>\n",
       "      <td>NaN</td>\n",
       "      <td>NaN</td>\n",
       "    </tr>\n",
       "  </tbody>\n",
       "</table>\n",
       "<p>5 rows × 22 columns</p>\n",
       "</div>"
      ],
      "text/plain": [
       "           country  year      status  life_expectancy  adult_mortality  \\\n",
       "432  Côte d'Ivoire  2015  Developing             53.3            397.0   \n",
       "433  Côte d'Ivoire  2014  Developing             52.8             47.0   \n",
       "434  Côte d'Ivoire  2013  Developing             52.3            412.0   \n",
       "435  Côte d'Ivoire  2012  Developing             52.0            415.0   \n",
       "436  Côte d'Ivoire  2011  Developing             51.7            419.0   \n",
       "\n",
       "     infant_deaths  alcohol  percentage_expenditure  hepatitis_b  measles  \\\n",
       "432             57      NaN                     0.0         83.0       65   \n",
       "433             58     0.01                     0.0         76.0       50   \n",
       "434             59     3.15                     0.0          8.0       48   \n",
       "435             59     3.24                     0.0         82.0      137   \n",
       "436             60     3.13                     0.0         62.0      628   \n",
       "\n",
       "     ...  polio  total_expenditure  diphtheria  hiv/aids  gdp  population  \\\n",
       "432  ...   81.0                NaN        83.0       1.9  NaN         NaN   \n",
       "433  ...   76.0               5.72        76.0       2.0  NaN         NaN   \n",
       "434  ...   79.0               5.81         8.0       2.4  NaN         NaN   \n",
       "435  ...   83.0               6.14        82.0       2.9  NaN         NaN   \n",
       "436  ...   58.0               6.42        62.0       3.3  NaN         NaN   \n",
       "\n",
       "     thinness_10-19_years  thinness_5-9_years  \\\n",
       "432                   5.5                 5.5   \n",
       "433                   5.6                 5.6   \n",
       "434                   5.8                 5.7   \n",
       "435                   5.9                 5.9   \n",
       "436                   6.1                 6.0   \n",
       "\n",
       "     income_composition_of_resources  schooling  \n",
       "432                              NaN        NaN  \n",
       "433                              NaN        NaN  \n",
       "434                              NaN        NaN  \n",
       "435                              NaN        NaN  \n",
       "436                              NaN        NaN  \n",
       "\n",
       "[5 rows x 22 columns]"
      ]
     },
     "execution_count": 93,
     "metadata": {},
     "output_type": "execute_result"
    }
   ],
   "source": [
    "## for schooling\n",
    "sch = df[df['schooling'].isnull()]\n",
    "sch.head()"
   ]
  },
  {
   "cell_type": "code",
   "execution_count": 94,
   "metadata": {},
   "outputs": [
    {
     "data": {
      "text/plain": [
       "array([\"Côte d'Ivoire\", 'Czechia',\n",
       "       \"Democratic People's Republic of Korea\",\n",
       "       'Democratic Republic of the Congo', 'Republic of Korea',\n",
       "       'Republic of Moldova', 'Somalia',\n",
       "       'United Kingdom of Great Britain and Northern Ireland',\n",
       "       'United Republic of Tanzania', 'United States of America'],\n",
       "      dtype=object)"
      ]
     },
     "execution_count": 94,
     "metadata": {},
     "output_type": "execute_result"
    }
   ],
   "source": [
    "sch['country'].unique()"
   ]
  },
  {
   "cell_type": "code",
   "execution_count": 95,
   "metadata": {},
   "outputs": [
    {
     "data": {
      "text/plain": [
       "array(['Developing', 'Developed'], dtype=object)"
      ]
     },
     "execution_count": 95,
     "metadata": {},
     "output_type": "execute_result"
    }
   ],
   "source": [
    "sch['status'].unique()"
   ]
  },
  {
   "cell_type": "code",
   "execution_count": 96,
   "metadata": {},
   "outputs": [
    {
     "data": {
      "text/plain": [
       "array([2015, 2014, 2013, 2012, 2011, 2010, 2009, 2008, 2007, 2006, 2005,\n",
       "       2004, 2003, 2002, 2001, 2000], dtype=int64)"
      ]
     },
     "execution_count": 96,
     "metadata": {},
     "output_type": "execute_result"
    }
   ],
   "source": [
    "sch['year'].unique()"
   ]
  },
  {
   "cell_type": "code",
   "execution_count": 97,
   "metadata": {},
   "outputs": [
    {
     "name": "stdout",
     "output_type": "stream",
     "text": [
      "Côte d'Ivoire [2015 2014 2013 2012 2011 2010 2009 2008 2007 2006 2005 2004 2003 2002\n",
      " 2001 2000]\n",
      "Czechia [2015 2014 2013 2012 2011 2010 2009 2008 2007 2006 2005 2004 2003 2002\n",
      " 2001 2000]\n",
      "Democratic People's Republic of Korea [2015 2014 2013 2012 2011 2010 2009 2008 2007 2006 2005 2004 2003 2002\n",
      " 2001 2000]\n",
      "Democratic Republic of the Congo [2015 2014 2013 2012 2011 2010 2009 2008 2007 2006 2005 2004 2003 2002\n",
      " 2001 2000]\n",
      "Republic of Korea [2015 2014 2013 2012 2011 2010 2009 2008 2007 2006 2005 2004 2003 2002\n",
      " 2001 2000]\n",
      "Republic of Moldova [2015 2014 2013 2012 2011 2010 2009 2008 2007 2006 2005 2004 2003 2002\n",
      " 2001 2000]\n",
      "Somalia [2015 2014 2013 2012 2011 2010 2009 2008 2007 2006 2005 2004 2003 2002\n",
      " 2001 2000]\n",
      "United Kingdom of Great Britain and Northern Ireland [2015 2014 2013 2012 2011 2010 2009 2008 2007 2006 2005 2004 2003 2002\n",
      " 2001 2000]\n",
      "United Republic of Tanzania [2015 2014 2013 2012 2011 2010 2009 2008 2007 2006 2005 2004 2003 2002\n",
      " 2001 2000]\n",
      "United States of America [2015 2014 2013 2012 2011 2010 2009 2008 2007 2006 2005 2004 2003 2002\n",
      " 2001 2000]\n"
     ]
    }
   ],
   "source": [
    "## years for which the countries have missing values\n",
    "for i in sch['country'].unique():\n",
    "    print(i, sch[sch['country'] == i]['year'].unique())"
   ]
  },
  {
   "cell_type": "code",
   "execution_count": 99,
   "metadata": {},
   "outputs": [
    {
     "data": {
      "text/plain": [
       "array(['Czechia', 'United Kingdom of Great Britain and Northern Ireland',\n",
       "       'United States of America'], dtype=object)"
      ]
     },
     "execution_count": 99,
     "metadata": {},
     "output_type": "execute_result"
    }
   ],
   "source": [
    "sch[sch['status'] == 'Developed']['country'].unique()"
   ]
  },
  {
   "cell_type": "code",
   "execution_count": 100,
   "metadata": {},
   "outputs": [
    {
     "data": {
      "text/plain": [
       "array([\"Côte d'Ivoire\", \"Democratic People's Republic of Korea\",\n",
       "       'Democratic Republic of the Congo', 'Republic of Korea',\n",
       "       'Republic of Moldova', 'Somalia', 'United Republic of Tanzania'],\n",
       "      dtype=object)"
      ]
     },
     "execution_count": 100,
     "metadata": {},
     "output_type": "execute_result"
    }
   ],
   "source": [
    "sch[sch['status'] == 'Developing']['country'].unique()"
   ]
  },
  {
   "cell_type": "code",
   "execution_count": 101,
   "metadata": {},
   "outputs": [
    {
     "data": {
      "text/plain": [
       "count    464.000000\n",
       "mean      15.845474\n",
       "std        1.766799\n",
       "min       11.500000\n",
       "25%       14.700000\n",
       "50%       15.800000\n",
       "75%       16.800000\n",
       "max       20.700000\n",
       "Name: schooling, dtype: float64"
      ]
     },
     "execution_count": 101,
     "metadata": {},
     "output_type": "execute_result"
    }
   ],
   "source": [
    "developed['schooling'].describe()"
   ]
  },
  {
   "cell_type": "code",
   "execution_count": 102,
   "metadata": {},
   "outputs": [
    {
     "data": {
      "text/plain": [
       "count    2311.000000\n",
       "mean       11.219256\n",
       "std         3.056601\n",
       "min         0.000000\n",
       "25%         9.600000\n",
       "50%        11.700000\n",
       "75%        13.200000\n",
       "max        18.300000\n",
       "Name: schooling, dtype: float64"
      ]
     },
     "execution_count": 102,
     "metadata": {},
     "output_type": "execute_result"
    }
   ],
   "source": [
    "developing['schooling'].describe()"
   ]
  },
  {
   "cell_type": "markdown",
   "metadata": {},
   "source": [
    "##### The schooling values for both developed and developing countries can be imputed by median"
   ]
  },
  {
   "cell_type": "code",
   "execution_count": 105,
   "metadata": {},
   "outputs": [],
   "source": [
    "## imputing the data for the developed countries\n",
    "\n",
    "for i in sch[sch['status']=='Developed']['country'].unique():\n",
    "\n",
    "    pid = sch[sch['country']== i].index\n",
    "    ##print(pid)\n",
    "    \n",
    "    for j in pid:\n",
    "        df.loc[j,'schooling'] = developed['schooling'].median()\n",
    "        #print(df.loc[i,'schooling'])\n"
   ]
  },
  {
   "cell_type": "code",
   "execution_count": 106,
   "metadata": {},
   "outputs": [],
   "source": [
    "\n",
    "## imputing the data for the developing countries\n",
    "\n",
    "for i in sch[sch['status']=='Developing']['country'].unique():\n",
    "\n",
    "    pid = sch[sch['country']== i].index\n",
    "    ##print(pid)\n",
    "    \n",
    "    for j in pid:\n",
    "        df.loc[j,'schooling'] = developing['schooling'].median()\n",
    "        #print(df.loc[i,'schooling'])\n"
   ]
  },
  {
   "cell_type": "code",
   "execution_count": 107,
   "metadata": {},
   "outputs": [
    {
     "data": {
      "text/html": [
       "<div>\n",
       "<style scoped>\n",
       "    .dataframe tbody tr th:only-of-type {\n",
       "        vertical-align: middle;\n",
       "    }\n",
       "\n",
       "    .dataframe tbody tr th {\n",
       "        vertical-align: top;\n",
       "    }\n",
       "\n",
       "    .dataframe thead th {\n",
       "        text-align: right;\n",
       "    }\n",
       "</style>\n",
       "<table border=\"1\" class=\"dataframe\">\n",
       "  <thead>\n",
       "    <tr style=\"text-align: right;\">\n",
       "      <th></th>\n",
       "      <th>country</th>\n",
       "      <th>year</th>\n",
       "      <th>status</th>\n",
       "      <th>life_expectancy</th>\n",
       "      <th>adult_mortality</th>\n",
       "      <th>infant_deaths</th>\n",
       "      <th>alcohol</th>\n",
       "      <th>percentage_expenditure</th>\n",
       "      <th>hepatitis_b</th>\n",
       "      <th>measles</th>\n",
       "      <th>...</th>\n",
       "      <th>polio</th>\n",
       "      <th>total_expenditure</th>\n",
       "      <th>diphtheria</th>\n",
       "      <th>hiv/aids</th>\n",
       "      <th>gdp</th>\n",
       "      <th>population</th>\n",
       "      <th>thinness_10-19_years</th>\n",
       "      <th>thinness_5-9_years</th>\n",
       "      <th>income_composition_of_resources</th>\n",
       "      <th>schooling</th>\n",
       "    </tr>\n",
       "  </thead>\n",
       "  <tbody>\n",
       "  </tbody>\n",
       "</table>\n",
       "<p>0 rows × 22 columns</p>\n",
       "</div>"
      ],
      "text/plain": [
       "Empty DataFrame\n",
       "Columns: [country, year, status, life_expectancy, adult_mortality, infant_deaths, alcohol, percentage_expenditure, hepatitis_b, measles, bmi, under_five_deaths, polio, total_expenditure, diphtheria, hiv/aids, gdp, population, thinness_10-19_years, thinness_5-9_years, income_composition_of_resources, schooling]\n",
       "Index: []\n",
       "\n",
       "[0 rows x 22 columns]"
      ]
     },
     "execution_count": 107,
     "metadata": {},
     "output_type": "execute_result"
    }
   ],
   "source": [
    "df[df['schooling'].isnull()]"
   ]
  },
  {
   "cell_type": "code",
   "execution_count": null,
   "metadata": {},
   "outputs": [],
   "source": []
  },
  {
   "cell_type": "code",
   "execution_count": 118,
   "metadata": {},
   "outputs": [
    {
     "data": {
      "text/plain": [
       "alcohol                            193\n",
       "total_expenditure                  226\n",
       "gdp                                443\n",
       "population                         644\n",
       "income_composition_of_resources    160\n",
       "dtype: int64"
      ]
     },
     "execution_count": 118,
     "metadata": {},
     "output_type": "execute_result"
    }
   ],
   "source": [
    "df.isnull().sum()[df.isnull().sum()>0]"
   ]
  },
  {
   "cell_type": "code",
   "execution_count": null,
   "metadata": {},
   "outputs": [],
   "source": []
  },
  {
   "cell_type": "code",
   "execution_count": 120,
   "metadata": {},
   "outputs": [
    {
     "data": {
      "text/html": [
       "<div>\n",
       "<style scoped>\n",
       "    .dataframe tbody tr th:only-of-type {\n",
       "        vertical-align: middle;\n",
       "    }\n",
       "\n",
       "    .dataframe tbody tr th {\n",
       "        vertical-align: top;\n",
       "    }\n",
       "\n",
       "    .dataframe thead th {\n",
       "        text-align: right;\n",
       "    }\n",
       "</style>\n",
       "<table border=\"1\" class=\"dataframe\">\n",
       "  <thead>\n",
       "    <tr style=\"text-align: right;\">\n",
       "      <th></th>\n",
       "      <th>country</th>\n",
       "      <th>year</th>\n",
       "      <th>status</th>\n",
       "      <th>life_expectancy</th>\n",
       "      <th>adult_mortality</th>\n",
       "      <th>infant_deaths</th>\n",
       "      <th>alcohol</th>\n",
       "      <th>percentage_expenditure</th>\n",
       "      <th>hepatitis_b</th>\n",
       "      <th>measles</th>\n",
       "      <th>...</th>\n",
       "      <th>polio</th>\n",
       "      <th>total_expenditure</th>\n",
       "      <th>diphtheria</th>\n",
       "      <th>hiv/aids</th>\n",
       "      <th>gdp</th>\n",
       "      <th>population</th>\n",
       "      <th>thinness_10-19_years</th>\n",
       "      <th>thinness_5-9_years</th>\n",
       "      <th>income_composition_of_resources</th>\n",
       "      <th>schooling</th>\n",
       "    </tr>\n",
       "  </thead>\n",
       "  <tbody>\n",
       "    <tr>\n",
       "      <td>432</td>\n",
       "      <td>Côte d'Ivoire</td>\n",
       "      <td>2015</td>\n",
       "      <td>Developing</td>\n",
       "      <td>53.3</td>\n",
       "      <td>397.0</td>\n",
       "      <td>57</td>\n",
       "      <td>NaN</td>\n",
       "      <td>0.0</td>\n",
       "      <td>83.0</td>\n",
       "      <td>65</td>\n",
       "      <td>...</td>\n",
       "      <td>81.0</td>\n",
       "      <td>NaN</td>\n",
       "      <td>83.0</td>\n",
       "      <td>1.9</td>\n",
       "      <td>NaN</td>\n",
       "      <td>NaN</td>\n",
       "      <td>5.5</td>\n",
       "      <td>5.5</td>\n",
       "      <td>NaN</td>\n",
       "      <td>11.7</td>\n",
       "    </tr>\n",
       "    <tr>\n",
       "      <td>433</td>\n",
       "      <td>Côte d'Ivoire</td>\n",
       "      <td>2014</td>\n",
       "      <td>Developing</td>\n",
       "      <td>52.8</td>\n",
       "      <td>47.0</td>\n",
       "      <td>58</td>\n",
       "      <td>0.01</td>\n",
       "      <td>0.0</td>\n",
       "      <td>76.0</td>\n",
       "      <td>50</td>\n",
       "      <td>...</td>\n",
       "      <td>76.0</td>\n",
       "      <td>5.72</td>\n",
       "      <td>76.0</td>\n",
       "      <td>2.0</td>\n",
       "      <td>NaN</td>\n",
       "      <td>NaN</td>\n",
       "      <td>5.6</td>\n",
       "      <td>5.6</td>\n",
       "      <td>NaN</td>\n",
       "      <td>11.7</td>\n",
       "    </tr>\n",
       "    <tr>\n",
       "      <td>434</td>\n",
       "      <td>Côte d'Ivoire</td>\n",
       "      <td>2013</td>\n",
       "      <td>Developing</td>\n",
       "      <td>52.3</td>\n",
       "      <td>412.0</td>\n",
       "      <td>59</td>\n",
       "      <td>3.15</td>\n",
       "      <td>0.0</td>\n",
       "      <td>8.0</td>\n",
       "      <td>48</td>\n",
       "      <td>...</td>\n",
       "      <td>79.0</td>\n",
       "      <td>5.81</td>\n",
       "      <td>8.0</td>\n",
       "      <td>2.4</td>\n",
       "      <td>NaN</td>\n",
       "      <td>NaN</td>\n",
       "      <td>5.8</td>\n",
       "      <td>5.7</td>\n",
       "      <td>NaN</td>\n",
       "      <td>11.7</td>\n",
       "    </tr>\n",
       "    <tr>\n",
       "      <td>435</td>\n",
       "      <td>Côte d'Ivoire</td>\n",
       "      <td>2012</td>\n",
       "      <td>Developing</td>\n",
       "      <td>52.0</td>\n",
       "      <td>415.0</td>\n",
       "      <td>59</td>\n",
       "      <td>3.24</td>\n",
       "      <td>0.0</td>\n",
       "      <td>82.0</td>\n",
       "      <td>137</td>\n",
       "      <td>...</td>\n",
       "      <td>83.0</td>\n",
       "      <td>6.14</td>\n",
       "      <td>82.0</td>\n",
       "      <td>2.9</td>\n",
       "      <td>NaN</td>\n",
       "      <td>NaN</td>\n",
       "      <td>5.9</td>\n",
       "      <td>5.9</td>\n",
       "      <td>NaN</td>\n",
       "      <td>11.7</td>\n",
       "    </tr>\n",
       "    <tr>\n",
       "      <td>436</td>\n",
       "      <td>Côte d'Ivoire</td>\n",
       "      <td>2011</td>\n",
       "      <td>Developing</td>\n",
       "      <td>51.7</td>\n",
       "      <td>419.0</td>\n",
       "      <td>60</td>\n",
       "      <td>3.13</td>\n",
       "      <td>0.0</td>\n",
       "      <td>62.0</td>\n",
       "      <td>628</td>\n",
       "      <td>...</td>\n",
       "      <td>58.0</td>\n",
       "      <td>6.42</td>\n",
       "      <td>62.0</td>\n",
       "      <td>3.3</td>\n",
       "      <td>NaN</td>\n",
       "      <td>NaN</td>\n",
       "      <td>6.1</td>\n",
       "      <td>6.0</td>\n",
       "      <td>NaN</td>\n",
       "      <td>11.7</td>\n",
       "    </tr>\n",
       "  </tbody>\n",
       "</table>\n",
       "<p>5 rows × 22 columns</p>\n",
       "</div>"
      ],
      "text/plain": [
       "           country  year      status  life_expectancy  adult_mortality  \\\n",
       "432  Côte d'Ivoire  2015  Developing             53.3            397.0   \n",
       "433  Côte d'Ivoire  2014  Developing             52.8             47.0   \n",
       "434  Côte d'Ivoire  2013  Developing             52.3            412.0   \n",
       "435  Côte d'Ivoire  2012  Developing             52.0            415.0   \n",
       "436  Côte d'Ivoire  2011  Developing             51.7            419.0   \n",
       "\n",
       "     infant_deaths  alcohol  percentage_expenditure  hepatitis_b  measles  \\\n",
       "432             57      NaN                     0.0         83.0       65   \n",
       "433             58     0.01                     0.0         76.0       50   \n",
       "434             59     3.15                     0.0          8.0       48   \n",
       "435             59     3.24                     0.0         82.0      137   \n",
       "436             60     3.13                     0.0         62.0      628   \n",
       "\n",
       "     ...  polio  total_expenditure  diphtheria  hiv/aids  gdp  population  \\\n",
       "432  ...   81.0                NaN        83.0       1.9  NaN         NaN   \n",
       "433  ...   76.0               5.72        76.0       2.0  NaN         NaN   \n",
       "434  ...   79.0               5.81         8.0       2.4  NaN         NaN   \n",
       "435  ...   83.0               6.14        82.0       2.9  NaN         NaN   \n",
       "436  ...   58.0               6.42        62.0       3.3  NaN         NaN   \n",
       "\n",
       "     thinness_10-19_years  thinness_5-9_years  \\\n",
       "432                   5.5                 5.5   \n",
       "433                   5.6                 5.6   \n",
       "434                   5.8                 5.7   \n",
       "435                   5.9                 5.9   \n",
       "436                   6.1                 6.0   \n",
       "\n",
       "     income_composition_of_resources  schooling  \n",
       "432                              NaN       11.7  \n",
       "433                              NaN       11.7  \n",
       "434                              NaN       11.7  \n",
       "435                              NaN       11.7  \n",
       "436                              NaN       11.7  \n",
       "\n",
       "[5 rows x 22 columns]"
      ]
     },
     "execution_count": 120,
     "metadata": {},
     "output_type": "execute_result"
    }
   ],
   "source": [
    "## for income_composition_of_resources\n",
    "hdi = df[df['income_composition_of_resources'].isnull()]\n",
    "hdi.head()"
   ]
  },
  {
   "cell_type": "code",
   "execution_count": 121,
   "metadata": {},
   "outputs": [
    {
     "data": {
      "text/plain": [
       "array(['Developing', 'Developed'], dtype=object)"
      ]
     },
     "execution_count": 121,
     "metadata": {},
     "output_type": "execute_result"
    }
   ],
   "source": [
    "hdi['status'].unique()"
   ]
  },
  {
   "cell_type": "code",
   "execution_count": 122,
   "metadata": {},
   "outputs": [
    {
     "name": "stdout",
     "output_type": "stream",
     "text": [
      "Côte d'Ivoire [2015 2014 2013 2012 2011 2010 2009 2008 2007 2006 2005 2004 2003 2002\n",
      " 2001 2000]\n",
      "Czechia [2015 2014 2013 2012 2011 2010 2009 2008 2007 2006 2005 2004 2003 2002\n",
      " 2001 2000]\n",
      "Democratic People's Republic of Korea [2015 2014 2013 2012 2011 2010 2009 2008 2007 2006 2005 2004 2003 2002\n",
      " 2001 2000]\n",
      "Democratic Republic of the Congo [2015 2014 2013 2012 2011 2010 2009 2008 2007 2006 2005 2004 2003 2002\n",
      " 2001 2000]\n",
      "Republic of Korea [2015 2014 2013 2012 2011 2010 2009 2008 2007 2006 2005 2004 2003 2002\n",
      " 2001 2000]\n",
      "Republic of Moldova [2015 2014 2013 2012 2011 2010 2009 2008 2007 2006 2005 2004 2003 2002\n",
      " 2001 2000]\n",
      "Somalia [2015 2014 2013 2012 2011 2010 2009 2008 2007 2006 2005 2004 2003 2002\n",
      " 2001 2000]\n",
      "United Kingdom of Great Britain and Northern Ireland [2015 2014 2013 2012 2011 2010 2009 2008 2007 2006 2005 2004 2003 2002\n",
      " 2001 2000]\n",
      "United Republic of Tanzania [2015 2014 2013 2012 2011 2010 2009 2008 2007 2006 2005 2004 2003 2002\n",
      " 2001 2000]\n",
      "United States of America [2015 2014 2013 2012 2011 2010 2009 2008 2007 2006 2005 2004 2003 2002\n",
      " 2001 2000]\n"
     ]
    }
   ],
   "source": [
    "## years for which the countries have missing values\n",
    "for i in hdi['country'].unique():\n",
    "    print(i, hdi[hdi['country'] == i]['year'].unique())"
   ]
  },
  {
   "cell_type": "markdown",
   "metadata": {},
   "source": [
    "##### The countries have missing data for all the years. Cannot impute any random value as that would lead to wrong information. So, not imputing the remaining values"
   ]
  },
  {
   "cell_type": "code",
   "execution_count": null,
   "metadata": {},
   "outputs": [],
   "source": []
  },
  {
   "cell_type": "markdown",
   "metadata": {},
   "source": [
    "### 6. Check Statistical Significance"
   ]
  },
  {
   "cell_type": "markdown",
   "metadata": {},
   "source": [
    "#### Tests that can be perfromed are:\n",
    "1. Numerical vs Numerical - ttest \n",
    "2. Categorical vs Numerical - anova (more than 2 categories) | independent ttest (2 categories)\n",
    "3. Categorical vs Categorical - chi-square\n",
    "\n",
    "\n",
    "#### Hypothesis Statements\n",
    "\n",
    "##### For ttest\n",
    "H0: The mean values for the numerical variables are same.\n",
    "\n",
    "H1: The mean values for the numerical variables are different.\n",
    "\n",
    "##### For independent ttest\n",
    "H0: The mean value of both categories is same.\n",
    "\n",
    "H1: The mean value of both categories is different.\n",
    "\n",
    "##### For ANOVA\n",
    "H0: The mean value of all categories is same.\n",
    "\n",
    "H1: The mean value of atleast one category is different.\n",
    "\n",
    "##### For Chi-Square\n",
    "H0: There is a relation between the categorical variables.\n",
    "\n",
    "H1: There is no relation between the categorical variables.\n",
    "\n",
    "\n",
    "##### All these tests return a pvalue which helps to decide which variables are significant w.r.t the target variable\n",
    "- If pvalue < 0.05, reject null hypothesis and conclude that the variable is significant\n",
    "- If pvalue > 0.05, fail to reject null hypothesis and conclude that variable is insignificant"
   ]
  },
  {
   "cell_type": "code",
   "execution_count": 127,
   "metadata": {},
   "outputs": [],
   "source": [
    "from scipy.stats import ttest_rel,ttest_ind,f_oneway,chi2_contingency"
   ]
  },
  {
   "cell_type": "code",
   "execution_count": 136,
   "metadata": {},
   "outputs": [
    {
     "name": "stdout",
     "output_type": "stream",
     "text": [
      "Index(['country', 'year', 'status', 'life_expectancy', 'adult_mortality',\n",
      "       'infant_deaths', 'alcohol', 'percentage_expenditure', 'hepatitis_b',\n",
      "       'measles', 'bmi', 'under_five_deaths', 'polio', 'total_expenditure',\n",
      "       'diphtheria', 'hiv/aids', 'gdp', 'population', 'thinness_10-19_years',\n",
      "       'thinness_5-9_years', 'income_composition_of_resources', 'schooling'],\n",
      "      dtype='object')\n"
     ]
    }
   ],
   "source": [
    "print(df.columns)"
   ]
  },
  {
   "cell_type": "code",
   "execution_count": 129,
   "metadata": {},
   "outputs": [],
   "source": [
    "## function for ttest\n",
    "def perform_ttest_rel(v1,v2):\n",
    "    tstat, pval = ttest_rel(v1,v2)\n",
    "    return pval"
   ]
  },
  {
   "cell_type": "code",
   "execution_count": 131,
   "metadata": {},
   "outputs": [
    {
     "data": {
      "text/plain": [
       "0.0"
      ]
     },
     "execution_count": 131,
     "metadata": {},
     "output_type": "execute_result"
    }
   ],
   "source": [
    "# life_expectancy,bmi \n",
    "perform_ttest_rel(df['life_expectancy'],df['bmi'] )"
   ]
  },
  {
   "cell_type": "code",
   "execution_count": 135,
   "metadata": {},
   "outputs": [
    {
     "data": {
      "text/plain": [
       "0.0"
      ]
     },
     "execution_count": 135,
     "metadata": {},
     "output_type": "execute_result"
    }
   ],
   "source": [
    "# life_expectancy,schooling \n",
    "perform_ttest_rel(df['life_expectancy'],df['schooling'] )"
   ]
  },
  {
   "cell_type": "code",
   "execution_count": 137,
   "metadata": {},
   "outputs": [
    {
     "data": {
      "text/plain": [
       "2.744737418411219e-273"
      ]
     },
     "execution_count": 137,
     "metadata": {},
     "output_type": "execute_result"
    }
   ],
   "source": [
    "# life_expectancy,adult_mortality\n",
    "perform_ttest_rel(df['life_expectancy'],df['adult_mortality'] )"
   ]
  },
  {
   "cell_type": "code",
   "execution_count": 138,
   "metadata": {},
   "outputs": [
    {
     "data": {
      "text/plain": [
       "5.699714765035447e-65"
      ]
     },
     "execution_count": 138,
     "metadata": {},
     "output_type": "execute_result"
    }
   ],
   "source": [
    "# life_expectancy,infant_deaths\n",
    "perform_ttest_rel(df['life_expectancy'],df['infant_deaths'] )"
   ]
  },
  {
   "cell_type": "code",
   "execution_count": 140,
   "metadata": {},
   "outputs": [
    {
     "data": {
      "text/plain": [
       "1.0087273336885506e-70"
      ]
     },
     "execution_count": 140,
     "metadata": {},
     "output_type": "execute_result"
    }
   ],
   "source": [
    "# life_expectancy, percentage_expenditure\n",
    "perform_ttest_rel(df['life_expectancy'],df['percentage_expenditure'] )"
   ]
  },
  {
   "cell_type": "code",
   "execution_count": 141,
   "metadata": {},
   "outputs": [
    {
     "data": {
      "text/plain": [
       "9.928207278502644e-130"
      ]
     },
     "execution_count": 141,
     "metadata": {},
     "output_type": "execute_result"
    }
   ],
   "source": [
    "# life_expectancy, hepatitis_b\n",
    "perform_ttest_rel(df['life_expectancy'],df['hepatitis_b'] )"
   ]
  },
  {
   "cell_type": "markdown",
   "metadata": {},
   "source": [
    "##### From the above pvalues, it is evident that bmi, schooling, adult_mortality, infant_deaths, percentage_expenditure, hepatitis_b are significant variables.\n",
    "\n",
    "##### As the pvalues for all are less than 0.05 so, reject null"
   ]
  },
  {
   "cell_type": "code",
   "execution_count": null,
   "metadata": {},
   "outputs": [],
   "source": []
  },
  {
   "cell_type": "code",
   "execution_count": 188,
   "metadata": {},
   "outputs": [],
   "source": [
    "## function for independent ttest \n",
    "pvalues = []\n",
    "\n",
    "def peform_ind_ttest(col,arr):\n",
    "        v1 = df[df[col] == arr[0] ]['life_expectancy']\n",
    "        v2 = df[df[col] == arr[1] ]['life_expectancy']\n",
    "        tstat, pval = ttest_ind(v1,v2)\n",
    "        pvalues.append(pval)"
   ]
  },
  {
   "cell_type": "code",
   "execution_count": 189,
   "metadata": {},
   "outputs": [],
   "source": [
    "unique_dict = {}\n",
    "for i in df.select_dtypes(include='object').columns.tolist():\n",
    "    unique_dict.update({i: df[i].unique()})"
   ]
  },
  {
   "cell_type": "code",
   "execution_count": 190,
   "metadata": {},
   "outputs": [
    {
     "name": "stdout",
     "output_type": "stream",
     "text": [
      "status ['Developing' 'Developed']\n",
      "[2.4650861700062064e-170]\n"
     ]
    }
   ],
   "source": [
    "for col,arr in unique_dict.items():\n",
    "    if len(arr) == 2:\n",
    "        print(col,arr)\n",
    "        peform_ind_ttest(col,arr)\n",
    "print(pvalues)"
   ]
  },
  {
   "cell_type": "markdown",
   "metadata": {},
   "source": [
    "##### From the above value calculated for status variable, it can be said that the variable is significant"
   ]
  },
  {
   "cell_type": "code",
   "execution_count": null,
   "metadata": {},
   "outputs": [],
   "source": []
  },
  {
   "cell_type": "code",
   "execution_count": null,
   "metadata": {},
   "outputs": [],
   "source": []
  },
  {
   "cell_type": "code",
   "execution_count": null,
   "metadata": {},
   "outputs": [],
   "source": []
  }
 ],
 "metadata": {
  "kernelspec": {
   "display_name": "Python 3",
   "language": "python",
   "name": "python3"
  },
  "language_info": {
   "codemirror_mode": {
    "name": "ipython",
    "version": 3
   },
   "file_extension": ".py",
   "mimetype": "text/x-python",
   "name": "python",
   "nbconvert_exporter": "python",
   "pygments_lexer": "ipython3",
   "version": "3.7.4"
  }
 },
 "nbformat": 4,
 "nbformat_minor": 2
}
