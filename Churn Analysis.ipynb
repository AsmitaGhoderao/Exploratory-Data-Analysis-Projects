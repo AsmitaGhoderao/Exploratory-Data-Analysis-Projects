{
  "nbformat": 4,
  "nbformat_minor": 0,
  "metadata": {
    "colab": {
      "provenance": [],
      "authorship_tag": "ABX9TyPRdoHdHrnuQbF+cjuYnFbK",
      "include_colab_link": true
    },
    "kernelspec": {
      "name": "python3",
      "display_name": "Python 3"
    },
    "language_info": {
      "name": "python"
    }
  },
  "cells": [
    {
      "cell_type": "markdown",
      "metadata": {
        "id": "view-in-github",
        "colab_type": "text"
      },
      "source": [
        "<a href=\"https://colab.research.google.com/github/AsmitaGhoderao/Exploratory-Data-Analysis-Projects/blob/master/Churn%20Analysis.ipynb\" target=\"_parent\"><img src=\"https://colab.research.google.com/assets/colab-badge.svg\" alt=\"Open In Colab\"/></a>"
      ]
    },
    {
      "cell_type": "code",
      "execution_count": 1,
      "metadata": {
        "id": "461Q2gYzgeXg"
      },
      "outputs": [],
      "source": [
        "!apt-get install openjdk-8-jdk-headless -qq > /dev/null\n",
        "!wget -q http://archive.apache.org/dist/spark/spark-3.1.1/spark-3.1.1-bin-hadoop3.2.tgz\n",
        "!tar xf spark-3.1.1-bin-hadoop3.2.tgz\n",
        "!pip install -q findspark\n",
        "\n",
        "import os\n",
        "os.environ[\"JAVA_HOME\"] = \"/usr/lib/jvm/java-8-openjdk-amd64\"\n",
        "os.environ[\"SPARK_HOME\"] = \"/content/spark-3.1.1-bin-hadoop3.2\""
      ]
    },
    {
      "cell_type": "code",
      "source": [
        "import warnings\n",
        "warnings.filterwarnings('ignore')\n",
        "\n",
        "import matplotlib.pyplot as plt\n",
        "%matplotlib inline\n",
        "\n",
        "import pandas as pd\n",
        "import numpy as np\n",
        "\n",
        "import findspark\n",
        "findspark.init()\n",
        "\n",
        "from pyspark.sql import SparkSession\n",
        "from pyspark.sql.types import *\n",
        "from pyspark.sql import Row\n",
        "import seaborn as sns\n",
        "from pyspark import SparkContext\n",
        "from pyspark import SQLContext"
      ],
      "metadata": {
        "id": "HVeXBU4yguTB"
      },
      "execution_count": 2,
      "outputs": []
    },
    {
      "cell_type": "markdown",
      "source": [
        "# Spark Configuration"
      ],
      "metadata": {
        "id": "n8CEosQ4n3SL"
      }
    },
    {
      "cell_type": "code",
      "source": [
        "spark = SparkSession.builder.master(\"local[*]\").getOrCreate()\n",
        "spark.conf.set(\"Spark.sql.repl.eagerEval.enabled\", True)"
      ],
      "metadata": {
        "id": "geeqV1FPhWdR"
      },
      "execution_count": 3,
      "outputs": []
    },
    {
      "cell_type": "markdown",
      "source": [
        "# Import CHURN Dataset"
      ],
      "metadata": {
        "id": "DAdSdPE1oGS_"
      }
    },
    {
      "cell_type": "code",
      "source": [
        "df = spark.read.csv('/content/Churn.csv', inferSchema = True, header = True)"
      ],
      "metadata": {
        "id": "qkzRLKlLnaY4"
      },
      "execution_count": 8,
      "outputs": []
    },
    {
      "cell_type": "code",
      "source": [
        "df.show()"
      ],
      "metadata": {
        "colab": {
          "base_uri": "https://localhost:8080/"
        },
        "id": "8EevUTe2oNfy",
        "outputId": "dae38c32-2f75-4984-8be0-b25978d1c150"
      },
      "execution_count": 9,
      "outputs": [
        {
          "output_type": "stream",
          "name": "stdout",
          "text": [
            "+-------------+------------+-------+-------+---------+--------+-------------+-----+--------+---------+--------+---------+--------+---------+----------+-----------+---------+----------+-----+--------+--------+\n",
            "|AccountLength|VMailMessage|DayMins|EveMins|NightMins|IntlMins|CustServCalls|Churn|IntlPlan|VMailPlan|DayCalls|DayCharge|EveCalls|EveCharge|NightCalls|NightCharge|IntlCalls|IntlCharge|State|AreaCode|   Phone|\n",
            "+-------------+------------+-------+-------+---------+--------+-------------+-----+--------+---------+--------+---------+--------+---------+----------+-----------+---------+----------+-----+--------+--------+\n",
            "|          128|          25|  265.1|  197.4|    244.7|    10.0|            1|    0|       0|        1|     110|    45.07|      99|    16.78|        91|      11.01|        3|       2.7|   KS|     415|382-4657|\n",
            "|          107|          26|  161.6|  195.5|    254.4|    13.7|            1|    0|       0|        1|     123|    27.47|     103|    16.62|       103|      11.45|        3|       3.7|   OH|     415|371-7191|\n",
            "|          137|           0|  243.4|  121.2|    162.6|    12.2|            0|    0|       0|        0|     114|    41.38|     110|     10.3|       104|       7.32|        5|      3.29|   NJ|     415|358-1921|\n",
            "|           84|           0|  299.4|   61.9|    196.9|     6.6|            2|    0|       1|        0|      71|     50.9|      88|     5.26|        89|       8.86|        7|      1.78|   OH|     408|375-9999|\n",
            "|           75|           0|  166.7|  148.3|    186.9|    10.1|            3|    0|       1|        0|     113|    28.34|     122|    12.61|       121|       8.41|        3|      2.73|   OK|     415|330-6626|\n",
            "|          118|           0|  223.4|  220.6|    203.9|     6.3|            0|    0|       1|        0|      98|    37.98|     101|    18.75|       118|       9.18|        6|       1.7|   AL|     510|391-8027|\n",
            "|          121|          24|  218.2|  348.5|    212.6|     7.5|            3|    0|       0|        1|      88|    37.09|     108|    29.62|       118|       9.57|        7|      2.03|   MA|     510|355-9993|\n",
            "|          147|           0|  157.0|  103.1|    211.8|     7.1|            0|    0|       1|        0|      79|    26.69|      94|     8.76|        96|       9.53|        6|      1.92|   MO|     415|329-9001|\n",
            "|          117|           0|  184.5|  351.6|    215.8|     8.7|            1|    0|       0|        0|      97|    31.37|      80|    29.89|        90|       9.71|        4|      2.35|   LA|     408|335-4719|\n",
            "|          141|          37|  258.6|  222.0|    326.4|    11.2|            0|    0|       1|        1|      84|    43.96|     111|    18.87|        97|      14.69|        5|      3.02|   WV|     415|330-8173|\n",
            "|           65|           0|  129.1|  228.5|    208.8|    12.7|            4|    1|       0|        0|     137|    21.95|      83|    19.42|       111|        9.4|        6|      3.43|   IN|     415|329-6603|\n",
            "|           74|           0|  187.7|  163.4|    196.0|     9.1|            0|    0|       0|        0|     127|    31.91|     148|    13.89|        94|       8.82|        5|      2.46|   RI|     415|344-9403|\n",
            "|          168|           0|  128.8|  104.9|    141.1|    11.2|            1|    0|       0|        0|      96|     21.9|      71|     8.92|       128|       6.35|        2|      3.02|   IA|     408|363-1107|\n",
            "|           95|           0|  156.6|  247.6|    192.3|    12.3|            3|    0|       0|        0|      88|    26.62|      75|    21.05|       115|       8.65|        5|      3.32|   MT|     510|394-8006|\n",
            "|           62|           0|  120.7|  307.2|    203.0|    13.1|            4|    0|       0|        0|      70|    20.52|      76|    26.11|        99|       9.14|        6|      3.54|   IA|     415|366-9238|\n",
            "|          161|           0|  332.9|  317.8|    160.6|     5.4|            4|    1|       0|        0|      67|    56.59|      97|    27.01|       128|       7.23|        9|      1.46|   NY|     415|351-7269|\n",
            "|           85|          27|  196.4|  280.9|     89.3|    13.8|            1|    0|       0|        1|     139|    33.39|      90|    23.88|        75|       4.02|        4|      3.73|   ID|     408|350-8884|\n",
            "|           93|           0|  190.7|  218.2|    129.6|     8.1|            3|    0|       0|        0|     114|    32.42|     111|    18.55|       121|       5.83|        3|      2.19|   VT|     510|386-2923|\n",
            "|           76|          33|  189.7|  212.8|    165.7|    10.0|            1|    0|       0|        1|      66|    32.25|      65|    18.09|       108|       7.46|        5|       2.7|   VA|     510|356-2992|\n",
            "|           73|           0|  224.4|  159.5|    192.8|    13.0|            1|    0|       0|        0|      90|    38.15|      88|    13.56|        74|       8.68|        2|      3.51|   TX|     415|373-2782|\n",
            "+-------------+------------+-------+-------+---------+--------+-------------+-----+--------+---------+--------+---------+--------+---------+----------+-----------+---------+----------+-----+--------+--------+\n",
            "only showing top 20 rows\n",
            "\n"
          ]
        }
      ]
    },
    {
      "cell_type": "code",
      "source": [
        "df.printSchema()"
      ],
      "metadata": {
        "colab": {
          "base_uri": "https://localhost:8080/"
        },
        "id": "JoWGtXsFoWQy",
        "outputId": "09a4350c-e98b-4b95-8b27-f34c82e32f3b"
      },
      "execution_count": 10,
      "outputs": [
        {
          "output_type": "stream",
          "name": "stdout",
          "text": [
            "root\n",
            " |-- AccountLength: integer (nullable = true)\n",
            " |-- VMailMessage: integer (nullable = true)\n",
            " |-- DayMins: double (nullable = true)\n",
            " |-- EveMins: double (nullable = true)\n",
            " |-- NightMins: double (nullable = true)\n",
            " |-- IntlMins: double (nullable = true)\n",
            " |-- CustServCalls: integer (nullable = true)\n",
            " |-- Churn: integer (nullable = true)\n",
            " |-- IntlPlan: integer (nullable = true)\n",
            " |-- VMailPlan: integer (nullable = true)\n",
            " |-- DayCalls: integer (nullable = true)\n",
            " |-- DayCharge: double (nullable = true)\n",
            " |-- EveCalls: integer (nullable = true)\n",
            " |-- EveCharge: double (nullable = true)\n",
            " |-- NightCalls: integer (nullable = true)\n",
            " |-- NightCharge: double (nullable = true)\n",
            " |-- IntlCalls: integer (nullable = true)\n",
            " |-- IntlCharge: double (nullable = true)\n",
            " |-- State: string (nullable = true)\n",
            " |-- AreaCode: integer (nullable = true)\n",
            " |-- Phone: string (nullable = true)\n",
            "\n"
          ]
        }
      ]
    },
    {
      "cell_type": "markdown",
      "source": [
        "# Data Pre-Processing"
      ],
      "metadata": {
        "id": "1U3cUTt7ot_A"
      }
    },
    {
      "cell_type": "code",
      "source": [
        "from pyspark.sql.functions import *\n",
        "\n",
        "df = df.withColumn(\"Churn\",col(\"Churn\").cast(StringType())) \\\n",
        ".withColumn(\"IntlPlan\",col(\"IntlPlan\").cast(StringType())) \\\n",
        ".withColumn(\"VmailPlan\",col(\"VmailPlan\").cast(StringType()))"
      ],
      "metadata": {
        "id": "eL6S6V3FozyQ"
      },
      "execution_count": 11,
      "outputs": []
    },
    {
      "cell_type": "code",
      "source": [
        "df.printSchema()"
      ],
      "metadata": {
        "colab": {
          "base_uri": "https://localhost:8080/"
        },
        "id": "_xXzJrlmo02U",
        "outputId": "d895dc78-8ab0-469d-ebcd-ef35285dc1f3"
      },
      "execution_count": 12,
      "outputs": [
        {
          "output_type": "stream",
          "name": "stdout",
          "text": [
            "root\n",
            " |-- AccountLength: integer (nullable = true)\n",
            " |-- VMailMessage: integer (nullable = true)\n",
            " |-- DayMins: double (nullable = true)\n",
            " |-- EveMins: double (nullable = true)\n",
            " |-- NightMins: double (nullable = true)\n",
            " |-- IntlMins: double (nullable = true)\n",
            " |-- CustServCalls: integer (nullable = true)\n",
            " |-- Churn: string (nullable = true)\n",
            " |-- IntlPlan: string (nullable = true)\n",
            " |-- VmailPlan: string (nullable = true)\n",
            " |-- DayCalls: integer (nullable = true)\n",
            " |-- DayCharge: double (nullable = true)\n",
            " |-- EveCalls: integer (nullable = true)\n",
            " |-- EveCharge: double (nullable = true)\n",
            " |-- NightCalls: integer (nullable = true)\n",
            " |-- NightCharge: double (nullable = true)\n",
            " |-- IntlCalls: integer (nullable = true)\n",
            " |-- IntlCharge: double (nullable = true)\n",
            " |-- State: string (nullable = true)\n",
            " |-- AreaCode: integer (nullable = true)\n",
            " |-- Phone: string (nullable = true)\n",
            "\n"
          ]
        }
      ]
    },
    {
      "cell_type": "code",
      "source": [
        "df.summary().show()"
      ],
      "metadata": {
        "colab": {
          "base_uri": "https://localhost:8080/"
        },
        "id": "CuPuvB6yo03t",
        "outputId": "e6277c7c-009c-4787-bc3a-3b9f895f291a"
      },
      "execution_count": 13,
      "outputs": [
        {
          "output_type": "stream",
          "name": "stdout",
          "text": [
            "+-------+------------------+------------------+------------------+------------------+------------------+------------------+------------------+-------------------+------------------+-------------------+------------------+------------------+------------------+------------------+------------------+-----------------+------------------+------------------+-----+------------------+--------+\n",
            "|summary|     AccountLength|      VMailMessage|           DayMins|           EveMins|         NightMins|          IntlMins|     CustServCalls|              Churn|          IntlPlan|          VmailPlan|          DayCalls|         DayCharge|          EveCalls|         EveCharge|        NightCalls|      NightCharge|         IntlCalls|        IntlCharge|State|          AreaCode|   Phone|\n",
            "+-------+------------------+------------------+------------------+------------------+------------------+------------------+------------------+-------------------+------------------+-------------------+------------------+------------------+------------------+------------------+------------------+-----------------+------------------+------------------+-----+------------------+--------+\n",
            "|  count|              3333|              3333|              3333|              3333|              3333|              3333|              3333|               3333|              3333|               3333|              3333|              3333|              3333|              3333|              3333|             3333|              3333|              3333| 3333|              3333|    3333|\n",
            "|   mean|101.06480648064806| 8.099009900990099|179.77509750975116|200.98034803480346|200.87203720372048|10.237293729372933|1.5628562856285628|0.14491449144914492|0.0969096909690969|0.27662766276627665|100.43564356435644|30.562307230723093|100.11431143114311|17.083540354035392|100.10771077107711|9.039324932493264|4.4794479447944795| 2.764581458145804| null|437.18241824182417|    null|\n",
            "| stddev|39.822105928595676|13.688365372038598| 54.46738920237146|50.713844425811985| 50.57384701365836| 2.791839548408416|1.3154910448664752|  0.352067423624126|0.2958791454844147| 0.4473978703800645|20.069084207300893| 9.259434553930495| 19.92262529394312| 4.310667643110347|19.568609346058544|2.275872837660027|2.4612142705460953|0.7537726126630451| null| 42.37129048560661|    null|\n",
            "|    min|                 1|                 0|               0.0|               0.0|              23.2|               0.0|                 0|                  0|                 0|                  0|                 0|               0.0|                 0|               0.0|                33|             1.04|                 0|               0.0|   AK|               408|327-1058|\n",
            "|    25%|                74|                 0|             143.7|             166.6|             167.0|               8.5|                 1|                0.0|               0.0|                0.0|                87|             24.43|                87|             14.16|                87|             7.52|                 3|               2.3| null|               408|    null|\n",
            "|    50%|               101|                 0|             179.4|             201.4|             201.2|              10.3|                 1|                0.0|               0.0|                0.0|               101|              30.5|               100|             17.12|               100|             9.05|                 4|              2.78| null|               415|    null|\n",
            "|    75%|               127|                20|             216.4|             235.3|             235.3|              12.1|                 2|                0.0|               0.0|                1.0|               114|             36.79|               114|              20.0|               113|            10.59|                 6|              3.27| null|               510|    null|\n",
            "|    max|               243|                51|             350.8|             363.7|             395.0|              20.0|                 9|                  1|                 1|                  1|               165|             59.64|               170|             30.91|               175|            17.77|                20|               5.4|   WY|               510|422-9964|\n",
            "+-------+------------------+------------------+------------------+------------------+------------------+------------------+------------------+-------------------+------------------+-------------------+------------------+------------------+------------------+------------------+------------------+-----------------+------------------+------------------+-----+------------------+--------+\n",
            "\n"
          ]
        }
      ]
    },
    {
      "cell_type": "code",
      "source": [
        "df.select('Churn','IntlPlan','VMailPlan').summary().show()"
      ],
      "metadata": {
        "colab": {
          "base_uri": "https://localhost:8080/"
        },
        "id": "TOkUXsYvo07X",
        "outputId": "5c032d3e-5c2c-4bf7-e538-f1a96ecdac6b"
      },
      "execution_count": null,
      "outputs": [
        {
          "output_type": "stream",
          "name": "stdout",
          "text": [
            "+-------+-------------------+------------------+-------------------+\n",
            "|summary|              Churn|          IntlPlan|          VMailPlan|\n",
            "+-------+-------------------+------------------+-------------------+\n",
            "|  count|               3333|              3333|               3333|\n",
            "|   mean|0.14491449144914492|0.0969096909690969|0.27662766276627665|\n",
            "| stddev|  0.352067423624126|0.2958791454844147| 0.4473978703800645|\n",
            "|    min|                  0|                 0|                  0|\n",
            "|    25%|                0.0|               0.0|                0.0|\n",
            "|    50%|                0.0|               0.0|                0.0|\n",
            "|    75%|                0.0|               0.0|                1.0|\n",
            "|    max|                  1|                 1|                  1|\n",
            "+-------+-------------------+------------------+-------------------+\n",
            "\n"
          ]
        }
      ]
    },
    {
      "cell_type": "code",
      "source": [
        "df.show()"
      ],
      "metadata": {
        "colab": {
          "base_uri": "https://localhost:8080/"
        },
        "id": "U86OVWTOo0-Z",
        "outputId": "86bff13e-67f8-4ab2-e727-5ad7351a3eb7"
      },
      "execution_count": null,
      "outputs": [
        {
          "output_type": "stream",
          "name": "stdout",
          "text": [
            "+-------------+------------+-------+-------+---------+--------+-------------+-----+--------+---------+--------+---------+--------+---------+----------+-----------+---------+----------+-----+--------+--------+\n",
            "|AccountLength|VMailMessage|DayMins|EveMins|NightMins|IntlMins|CustServCalls|Churn|IntlPlan|VmailPlan|DayCalls|DayCharge|EveCalls|EveCharge|NightCalls|NightCharge|IntlCalls|IntlCharge|State|AreaCode|   Phone|\n",
            "+-------------+------------+-------+-------+---------+--------+-------------+-----+--------+---------+--------+---------+--------+---------+----------+-----------+---------+----------+-----+--------+--------+\n",
            "|          128|          25|  265.1|  197.4|    244.7|    10.0|            1|    0|       0|        1|     110|    45.07|      99|    16.78|        91|      11.01|        3|       2.7|   KS|     415|382-4657|\n",
            "|          107|          26|  161.6|  195.5|    254.4|    13.7|            1|    0|       0|        1|     123|    27.47|     103|    16.62|       103|      11.45|        3|       3.7|   OH|     415|371-7191|\n",
            "|          137|           0|  243.4|  121.2|    162.6|    12.2|            0|    0|       0|        0|     114|    41.38|     110|     10.3|       104|       7.32|        5|      3.29|   NJ|     415|358-1921|\n",
            "|           84|           0|  299.4|   61.9|    196.9|     6.6|            2|    0|       1|        0|      71|     50.9|      88|     5.26|        89|       8.86|        7|      1.78|   OH|     408|375-9999|\n",
            "|           75|           0|  166.7|  148.3|    186.9|    10.1|            3|    0|       1|        0|     113|    28.34|     122|    12.61|       121|       8.41|        3|      2.73|   OK|     415|330-6626|\n",
            "|          118|           0|  223.4|  220.6|    203.9|     6.3|            0|    0|       1|        0|      98|    37.98|     101|    18.75|       118|       9.18|        6|       1.7|   AL|     510|391-8027|\n",
            "|          121|          24|  218.2|  348.5|    212.6|     7.5|            3|    0|       0|        1|      88|    37.09|     108|    29.62|       118|       9.57|        7|      2.03|   MA|     510|355-9993|\n",
            "|          147|           0|  157.0|  103.1|    211.8|     7.1|            0|    0|       1|        0|      79|    26.69|      94|     8.76|        96|       9.53|        6|      1.92|   MO|     415|329-9001|\n",
            "|          117|           0|  184.5|  351.6|    215.8|     8.7|            1|    0|       0|        0|      97|    31.37|      80|    29.89|        90|       9.71|        4|      2.35|   LA|     408|335-4719|\n",
            "|          141|          37|  258.6|  222.0|    326.4|    11.2|            0|    0|       1|        1|      84|    43.96|     111|    18.87|        97|      14.69|        5|      3.02|   WV|     415|330-8173|\n",
            "|           65|           0|  129.1|  228.5|    208.8|    12.7|            4|    1|       0|        0|     137|    21.95|      83|    19.42|       111|        9.4|        6|      3.43|   IN|     415|329-6603|\n",
            "|           74|           0|  187.7|  163.4|    196.0|     9.1|            0|    0|       0|        0|     127|    31.91|     148|    13.89|        94|       8.82|        5|      2.46|   RI|     415|344-9403|\n",
            "|          168|           0|  128.8|  104.9|    141.1|    11.2|            1|    0|       0|        0|      96|     21.9|      71|     8.92|       128|       6.35|        2|      3.02|   IA|     408|363-1107|\n",
            "|           95|           0|  156.6|  247.6|    192.3|    12.3|            3|    0|       0|        0|      88|    26.62|      75|    21.05|       115|       8.65|        5|      3.32|   MT|     510|394-8006|\n",
            "|           62|           0|  120.7|  307.2|    203.0|    13.1|            4|    0|       0|        0|      70|    20.52|      76|    26.11|        99|       9.14|        6|      3.54|   IA|     415|366-9238|\n",
            "|          161|           0|  332.9|  317.8|    160.6|     5.4|            4|    1|       0|        0|      67|    56.59|      97|    27.01|       128|       7.23|        9|      1.46|   NY|     415|351-7269|\n",
            "|           85|          27|  196.4|  280.9|     89.3|    13.8|            1|    0|       0|        1|     139|    33.39|      90|    23.88|        75|       4.02|        4|      3.73|   ID|     408|350-8884|\n",
            "|           93|           0|  190.7|  218.2|    129.6|     8.1|            3|    0|       0|        0|     114|    32.42|     111|    18.55|       121|       5.83|        3|      2.19|   VT|     510|386-2923|\n",
            "|           76|          33|  189.7|  212.8|    165.7|    10.0|            1|    0|       0|        1|      66|    32.25|      65|    18.09|       108|       7.46|        5|       2.7|   VA|     510|356-2992|\n",
            "|           73|           0|  224.4|  159.5|    192.8|    13.0|            1|    0|       0|        0|      90|    38.15|      88|    13.56|        74|       8.68|        2|      3.51|   TX|     415|373-2782|\n",
            "+-------------+------------+-------+-------+---------+--------+-------------+-----+--------+---------+--------+---------+--------+---------+----------+-----------+---------+----------+-----+--------+--------+\n",
            "only showing top 20 rows\n",
            "\n"
          ]
        }
      ]
    },
    {
      "cell_type": "markdown",
      "source": [
        "# Exploratory Data Analysis"
      ],
      "metadata": {
        "id": "oKuNLljwu4BS"
      }
    },
    {
      "cell_type": "code",
      "source": [
        "df1 = df.toPandas()\n",
        "df1.head()"
      ],
      "metadata": {
        "colab": {
          "base_uri": "https://localhost:8080/",
          "height": 386
        },
        "id": "hr8JZ3O8o1Cz",
        "outputId": "3218b933-8522-4a0b-fd3a-bbc8a3c4f10e"
      },
      "execution_count": 14,
      "outputs": [
        {
          "output_type": "execute_result",
          "data": {
            "text/plain": [
              "   AccountLength  VMailMessage  DayMins  EveMins  NightMins  IntlMins  \\\n",
              "0            128            25    265.1    197.4      244.7      10.0   \n",
              "1            107            26    161.6    195.5      254.4      13.7   \n",
              "2            137             0    243.4    121.2      162.6      12.2   \n",
              "3             84             0    299.4     61.9      196.9       6.6   \n",
              "4             75             0    166.7    148.3      186.9      10.1   \n",
              "\n",
              "   CustServCalls Churn IntlPlan VmailPlan  ...  DayCharge  EveCalls  \\\n",
              "0              1     0        0         1  ...      45.07        99   \n",
              "1              1     0        0         1  ...      27.47       103   \n",
              "2              0     0        0         0  ...      41.38       110   \n",
              "3              2     0        1         0  ...      50.90        88   \n",
              "4              3     0        1         0  ...      28.34       122   \n",
              "\n",
              "   EveCharge  NightCalls  NightCharge  IntlCalls  IntlCharge  State AreaCode  \\\n",
              "0      16.78          91        11.01          3        2.70     KS      415   \n",
              "1      16.62         103        11.45          3        3.70     OH      415   \n",
              "2      10.30         104         7.32          5        3.29     NJ      415   \n",
              "3       5.26          89         8.86          7        1.78     OH      408   \n",
              "4      12.61         121         8.41          3        2.73     OK      415   \n",
              "\n",
              "      Phone  \n",
              "0  382-4657  \n",
              "1  371-7191  \n",
              "2  358-1921  \n",
              "3  375-9999  \n",
              "4  330-6626  \n",
              "\n",
              "[5 rows x 21 columns]"
            ],
            "text/html": [
              "\n",
              "\n",
              "  <div id=\"df-cbbf4557-9fbb-4f14-b2cd-8b1492b64697\">\n",
              "    <div class=\"colab-df-container\">\n",
              "      <div>\n",
              "<style scoped>\n",
              "    .dataframe tbody tr th:only-of-type {\n",
              "        vertical-align: middle;\n",
              "    }\n",
              "\n",
              "    .dataframe tbody tr th {\n",
              "        vertical-align: top;\n",
              "    }\n",
              "\n",
              "    .dataframe thead th {\n",
              "        text-align: right;\n",
              "    }\n",
              "</style>\n",
              "<table border=\"1\" class=\"dataframe\">\n",
              "  <thead>\n",
              "    <tr style=\"text-align: right;\">\n",
              "      <th></th>\n",
              "      <th>AccountLength</th>\n",
              "      <th>VMailMessage</th>\n",
              "      <th>DayMins</th>\n",
              "      <th>EveMins</th>\n",
              "      <th>NightMins</th>\n",
              "      <th>IntlMins</th>\n",
              "      <th>CustServCalls</th>\n",
              "      <th>Churn</th>\n",
              "      <th>IntlPlan</th>\n",
              "      <th>VmailPlan</th>\n",
              "      <th>...</th>\n",
              "      <th>DayCharge</th>\n",
              "      <th>EveCalls</th>\n",
              "      <th>EveCharge</th>\n",
              "      <th>NightCalls</th>\n",
              "      <th>NightCharge</th>\n",
              "      <th>IntlCalls</th>\n",
              "      <th>IntlCharge</th>\n",
              "      <th>State</th>\n",
              "      <th>AreaCode</th>\n",
              "      <th>Phone</th>\n",
              "    </tr>\n",
              "  </thead>\n",
              "  <tbody>\n",
              "    <tr>\n",
              "      <th>0</th>\n",
              "      <td>128</td>\n",
              "      <td>25</td>\n",
              "      <td>265.1</td>\n",
              "      <td>197.4</td>\n",
              "      <td>244.7</td>\n",
              "      <td>10.0</td>\n",
              "      <td>1</td>\n",
              "      <td>0</td>\n",
              "      <td>0</td>\n",
              "      <td>1</td>\n",
              "      <td>...</td>\n",
              "      <td>45.07</td>\n",
              "      <td>99</td>\n",
              "      <td>16.78</td>\n",
              "      <td>91</td>\n",
              "      <td>11.01</td>\n",
              "      <td>3</td>\n",
              "      <td>2.70</td>\n",
              "      <td>KS</td>\n",
              "      <td>415</td>\n",
              "      <td>382-4657</td>\n",
              "    </tr>\n",
              "    <tr>\n",
              "      <th>1</th>\n",
              "      <td>107</td>\n",
              "      <td>26</td>\n",
              "      <td>161.6</td>\n",
              "      <td>195.5</td>\n",
              "      <td>254.4</td>\n",
              "      <td>13.7</td>\n",
              "      <td>1</td>\n",
              "      <td>0</td>\n",
              "      <td>0</td>\n",
              "      <td>1</td>\n",
              "      <td>...</td>\n",
              "      <td>27.47</td>\n",
              "      <td>103</td>\n",
              "      <td>16.62</td>\n",
              "      <td>103</td>\n",
              "      <td>11.45</td>\n",
              "      <td>3</td>\n",
              "      <td>3.70</td>\n",
              "      <td>OH</td>\n",
              "      <td>415</td>\n",
              "      <td>371-7191</td>\n",
              "    </tr>\n",
              "    <tr>\n",
              "      <th>2</th>\n",
              "      <td>137</td>\n",
              "      <td>0</td>\n",
              "      <td>243.4</td>\n",
              "      <td>121.2</td>\n",
              "      <td>162.6</td>\n",
              "      <td>12.2</td>\n",
              "      <td>0</td>\n",
              "      <td>0</td>\n",
              "      <td>0</td>\n",
              "      <td>0</td>\n",
              "      <td>...</td>\n",
              "      <td>41.38</td>\n",
              "      <td>110</td>\n",
              "      <td>10.30</td>\n",
              "      <td>104</td>\n",
              "      <td>7.32</td>\n",
              "      <td>5</td>\n",
              "      <td>3.29</td>\n",
              "      <td>NJ</td>\n",
              "      <td>415</td>\n",
              "      <td>358-1921</td>\n",
              "    </tr>\n",
              "    <tr>\n",
              "      <th>3</th>\n",
              "      <td>84</td>\n",
              "      <td>0</td>\n",
              "      <td>299.4</td>\n",
              "      <td>61.9</td>\n",
              "      <td>196.9</td>\n",
              "      <td>6.6</td>\n",
              "      <td>2</td>\n",
              "      <td>0</td>\n",
              "      <td>1</td>\n",
              "      <td>0</td>\n",
              "      <td>...</td>\n",
              "      <td>50.90</td>\n",
              "      <td>88</td>\n",
              "      <td>5.26</td>\n",
              "      <td>89</td>\n",
              "      <td>8.86</td>\n",
              "      <td>7</td>\n",
              "      <td>1.78</td>\n",
              "      <td>OH</td>\n",
              "      <td>408</td>\n",
              "      <td>375-9999</td>\n",
              "    </tr>\n",
              "    <tr>\n",
              "      <th>4</th>\n",
              "      <td>75</td>\n",
              "      <td>0</td>\n",
              "      <td>166.7</td>\n",
              "      <td>148.3</td>\n",
              "      <td>186.9</td>\n",
              "      <td>10.1</td>\n",
              "      <td>3</td>\n",
              "      <td>0</td>\n",
              "      <td>1</td>\n",
              "      <td>0</td>\n",
              "      <td>...</td>\n",
              "      <td>28.34</td>\n",
              "      <td>122</td>\n",
              "      <td>12.61</td>\n",
              "      <td>121</td>\n",
              "      <td>8.41</td>\n",
              "      <td>3</td>\n",
              "      <td>2.73</td>\n",
              "      <td>OK</td>\n",
              "      <td>415</td>\n",
              "      <td>330-6626</td>\n",
              "    </tr>\n",
              "  </tbody>\n",
              "</table>\n",
              "<p>5 rows × 21 columns</p>\n",
              "</div>\n",
              "      <button class=\"colab-df-convert\" onclick=\"convertToInteractive('df-cbbf4557-9fbb-4f14-b2cd-8b1492b64697')\"\n",
              "              title=\"Convert this dataframe to an interactive table.\"\n",
              "              style=\"display:none;\">\n",
              "\n",
              "  <svg xmlns=\"http://www.w3.org/2000/svg\" height=\"24px\"viewBox=\"0 0 24 24\"\n",
              "       width=\"24px\">\n",
              "    <path d=\"M0 0h24v24H0V0z\" fill=\"none\"/>\n",
              "    <path d=\"M18.56 5.44l.94 2.06.94-2.06 2.06-.94-2.06-.94-.94-2.06-.94 2.06-2.06.94zm-11 1L8.5 8.5l.94-2.06 2.06-.94-2.06-.94L8.5 2.5l-.94 2.06-2.06.94zm10 10l.94 2.06.94-2.06 2.06-.94-2.06-.94-.94-2.06-.94 2.06-2.06.94z\"/><path d=\"M17.41 7.96l-1.37-1.37c-.4-.4-.92-.59-1.43-.59-.52 0-1.04.2-1.43.59L10.3 9.45l-7.72 7.72c-.78.78-.78 2.05 0 2.83L4 21.41c.39.39.9.59 1.41.59.51 0 1.02-.2 1.41-.59l7.78-7.78 2.81-2.81c.8-.78.8-2.07 0-2.86zM5.41 20L4 18.59l7.72-7.72 1.47 1.35L5.41 20z\"/>\n",
              "  </svg>\n",
              "      </button>\n",
              "\n",
              "\n",
              "\n",
              "    <div id=\"df-25335fe4-9958-44be-baff-435d840a74e7\">\n",
              "      <button class=\"colab-df-quickchart\" onclick=\"quickchart('df-25335fe4-9958-44be-baff-435d840a74e7')\"\n",
              "              title=\"Suggest charts.\"\n",
              "              style=\"display:none;\">\n",
              "\n",
              "<svg xmlns=\"http://www.w3.org/2000/svg\" height=\"24px\"viewBox=\"0 0 24 24\"\n",
              "     width=\"24px\">\n",
              "    <g>\n",
              "        <path d=\"M19 3H5c-1.1 0-2 .9-2 2v14c0 1.1.9 2 2 2h14c1.1 0 2-.9 2-2V5c0-1.1-.9-2-2-2zM9 17H7v-7h2v7zm4 0h-2V7h2v10zm4 0h-2v-4h2v4z\"/>\n",
              "    </g>\n",
              "</svg>\n",
              "      </button>\n",
              "    </div>\n",
              "\n",
              "<style>\n",
              "  .colab-df-quickchart {\n",
              "    background-color: #E8F0FE;\n",
              "    border: none;\n",
              "    border-radius: 50%;\n",
              "    cursor: pointer;\n",
              "    display: none;\n",
              "    fill: #1967D2;\n",
              "    height: 32px;\n",
              "    padding: 0 0 0 0;\n",
              "    width: 32px;\n",
              "  }\n",
              "\n",
              "  .colab-df-quickchart:hover {\n",
              "    background-color: #E2EBFA;\n",
              "    box-shadow: 0px 1px 2px rgba(60, 64, 67, 0.3), 0px 1px 3px 1px rgba(60, 64, 67, 0.15);\n",
              "    fill: #174EA6;\n",
              "  }\n",
              "\n",
              "  [theme=dark] .colab-df-quickchart {\n",
              "    background-color: #3B4455;\n",
              "    fill: #D2E3FC;\n",
              "  }\n",
              "\n",
              "  [theme=dark] .colab-df-quickchart:hover {\n",
              "    background-color: #434B5C;\n",
              "    box-shadow: 0px 1px 3px 1px rgba(0, 0, 0, 0.15);\n",
              "    filter: drop-shadow(0px 1px 2px rgba(0, 0, 0, 0.3));\n",
              "    fill: #FFFFFF;\n",
              "  }\n",
              "</style>\n",
              "\n",
              "    <script>\n",
              "      async function quickchart(key) {\n",
              "        const containerElement = document.querySelector('#' + key);\n",
              "        const charts = await google.colab.kernel.invokeFunction(\n",
              "            'suggestCharts', [key], {});\n",
              "      }\n",
              "    </script>\n",
              "\n",
              "      <script>\n",
              "\n",
              "function displayQuickchartButton(domScope) {\n",
              "  let quickchartButtonEl =\n",
              "    domScope.querySelector('#df-25335fe4-9958-44be-baff-435d840a74e7 button.colab-df-quickchart');\n",
              "  quickchartButtonEl.style.display =\n",
              "    google.colab.kernel.accessAllowed ? 'block' : 'none';\n",
              "}\n",
              "\n",
              "        displayQuickchartButton(document);\n",
              "      </script>\n",
              "      <style>\n",
              "    .colab-df-container {\n",
              "      display:flex;\n",
              "      flex-wrap:wrap;\n",
              "      gap: 12px;\n",
              "    }\n",
              "\n",
              "    .colab-df-convert {\n",
              "      background-color: #E8F0FE;\n",
              "      border: none;\n",
              "      border-radius: 50%;\n",
              "      cursor: pointer;\n",
              "      display: none;\n",
              "      fill: #1967D2;\n",
              "      height: 32px;\n",
              "      padding: 0 0 0 0;\n",
              "      width: 32px;\n",
              "    }\n",
              "\n",
              "    .colab-df-convert:hover {\n",
              "      background-color: #E2EBFA;\n",
              "      box-shadow: 0px 1px 2px rgba(60, 64, 67, 0.3), 0px 1px 3px 1px rgba(60, 64, 67, 0.15);\n",
              "      fill: #174EA6;\n",
              "    }\n",
              "\n",
              "    [theme=dark] .colab-df-convert {\n",
              "      background-color: #3B4455;\n",
              "      fill: #D2E3FC;\n",
              "    }\n",
              "\n",
              "    [theme=dark] .colab-df-convert:hover {\n",
              "      background-color: #434B5C;\n",
              "      box-shadow: 0px 1px 3px 1px rgba(0, 0, 0, 0.15);\n",
              "      filter: drop-shadow(0px 1px 2px rgba(0, 0, 0, 0.3));\n",
              "      fill: #FFFFFF;\n",
              "    }\n",
              "  </style>\n",
              "\n",
              "      <script>\n",
              "        const buttonEl =\n",
              "          document.querySelector('#df-cbbf4557-9fbb-4f14-b2cd-8b1492b64697 button.colab-df-convert');\n",
              "        buttonEl.style.display =\n",
              "          google.colab.kernel.accessAllowed ? 'block' : 'none';\n",
              "\n",
              "        async function convertToInteractive(key) {\n",
              "          const element = document.querySelector('#df-cbbf4557-9fbb-4f14-b2cd-8b1492b64697');\n",
              "          const dataTable =\n",
              "            await google.colab.kernel.invokeFunction('convertToInteractive',\n",
              "                                                     [key], {});\n",
              "          if (!dataTable) return;\n",
              "\n",
              "          const docLinkHtml = 'Like what you see? Visit the ' +\n",
              "            '<a target=\"_blank\" href=https://colab.research.google.com/notebooks/data_table.ipynb>data table notebook</a>'\n",
              "            + ' to learn more about interactive tables.';\n",
              "          element.innerHTML = '';\n",
              "          dataTable['output_type'] = 'display_data';\n",
              "          await google.colab.output.renderOutput(dataTable, element);\n",
              "          const docLink = document.createElement('div');\n",
              "          docLink.innerHTML = docLinkHtml;\n",
              "          element.appendChild(docLink);\n",
              "        }\n",
              "      </script>\n",
              "    </div>\n",
              "  </div>\n"
            ]
          },
          "metadata": {},
          "execution_count": 14
        }
      ]
    },
    {
      "cell_type": "code",
      "source": [
        "plt.hist(df1['DayMins'], bins= 10, facecolor= 'tan')\n",
        "plt.xlabel('Total Day Minutes')\n",
        "plt.ylabel('No. of Customers')\n",
        "plt.show()"
      ],
      "metadata": {
        "id": "BT4zsqG9vRmq",
        "colab": {
          "base_uri": "https://localhost:8080/",
          "height": 449
        },
        "outputId": "d8709e8c-c83b-4e2d-c370-434b22750009"
      },
      "execution_count": 15,
      "outputs": [
        {
          "output_type": "display_data",
          "data": {
            "text/plain": [
              "<Figure size 640x480 with 1 Axes>"
            ],
            "image/png": "[encoded data removed]"
          },
          "metadata": {}
        }
      ]
    },
    {
      "cell_type": "code",
      "source": [
        "##The above graph, shows that the highest time spent is 170 to 200 mins by almost 800 customers during their service period"
      ],
      "metadata": {
        "id": "lhqTxdIWJEjG"
      },
      "execution_count": 19,
      "outputs": []
    },
    {
      "cell_type": "code",
      "source": [
        "st = df1[df1['Churn']=='1']['DayMins']\n",
        "plt.hist(st, bins= 5, facecolor= 'tan')\n",
        "plt.xlabel('Total Day Minutes')\n",
        "plt.ylabel('No. of Customers')\n",
        "plt.show()"
      ],
      "metadata": {
        "colab": {
          "base_uri": "https://localhost:8080/",
          "height": 449
        },
        "id": "ydwynZK0J2qQ",
        "outputId": "caae037a-296d-48b8-a909-e9e0b7d7b89c"
      },
      "execution_count": 26,
      "outputs": [
        {
          "output_type": "display_data",
          "data": {
            "text/plain": [
              "<Figure size 640x480 with 1 Axes>"
            ],
            "image/png": "[encoded data removed]"
          },
          "metadata": {}
        }
      ]
    },
    {
      "cell_type": "code",
      "source": [
        "##"
      ],
      "metadata": {
        "id": "Xb_q4-F0KCr6"
      },
      "execution_count": 27,
      "outputs": []
    },
    {
      "cell_type": "code",
      "source": [
        "st = df1[df1['Churn']=='0']['DayMins']\n",
        "plt.hist(st, bins= 5, facecolor= 'tan')\n",
        "plt.xlabel('Total Day Minutes')\n",
        "plt.ylabel('No. of Customers')\n",
        "plt.show()"
      ],
      "metadata": {
        "colab": {
          "base_uri": "https://localhost:8080/",
          "height": 449
        },
        "id": "MzfJK4T1L0e-",
        "outputId": "d30521d8-f942-48e8-85a7-9131f4403510"
      },
      "execution_count": 28,
      "outputs": [
        {
          "output_type": "display_data",
          "data": {
            "text/plain": [
              "<Figure size 640x480 with 1 Axes>"
            ],
            "image/png": "[encoded data removed]"
          },
          "metadata": {}
        }
      ]
    },
    {
      "cell_type": "code",
      "source": [
        "## Numbe of customers opting for voice mailplan\n",
        "df1['VmailPlan'].value_counts()"
      ],
      "metadata": {
        "colab": {
          "base_uri": "https://localhost:8080/"
        },
        "id": "-sLTgxLvL2SE",
        "outputId": "39ca74aa-9e39-4d1a-b57f-bf6d224797f6"
      },
      "execution_count": 31,
      "outputs": [
        {
          "output_type": "execute_result",
          "data": {
            "text/plain": [
              "0    2411\n",
              "1     922\n",
              "Name: VmailPlan, dtype: int64"
            ]
          },
          "metadata": {},
          "execution_count": 31
        }
      ]
    },
    {
      "cell_type": "code",
      "source": [
        "df1['VmailPlan'].value_counts(normalize = True)"
      ],
      "metadata": {
        "colab": {
          "base_uri": "https://localhost:8080/"
        },
        "id": "7BN8BwFUMG4I",
        "outputId": "49bf6dfa-8a07-4fc6-ac60-d792087404c0"
      },
      "execution_count": 33,
      "outputs": [
        {
          "output_type": "execute_result",
          "data": {
            "text/plain": [
              "0    0.723372\n",
              "1    0.276628\n",
              "Name: VmailPlan, dtype: float64"
            ]
          },
          "metadata": {},
          "execution_count": 33
        }
      ]
    },
    {
      "cell_type": "code",
      "source": [
        "## 72% of customers do not opt for voice mail plan"
      ],
      "metadata": {
        "id": "25wdSZqKMf8G"
      },
      "execution_count": 34,
      "outputs": []
    },
    {
      "cell_type": "code",
      "source": [
        "sns.set(style=\"whitegrid\", color_codes=True)\n",
        "sns.countplot(x=\"VmailPlan\", hue= \"Churn\", data=df1)"
      ],
      "metadata": {
        "colab": {
          "base_uri": "https://localhost:8080/",
          "height": 476
        },
        "id": "GlOmJ8hMM_kf",
        "outputId": "379a0b87-a5d0-4e4b-9f10-9c9908a6af44"
      },
      "execution_count": 35,
      "outputs": [
        {
          "output_type": "execute_result",
          "data": {
            "text/plain": [
              "<Axes: xlabel='VmailPlan', ylabel='count'>"
            ]
          },
          "metadata": {},
          "execution_count": 35
        },
        {
          "output_type": "display_data",
          "data": {
            "text/plain": [
              "<Figure size 640x480 with 1 Axes>"
            ],
            "image/png": "[encoded data removed]"
          },
          "metadata": {}
        }
      ]
    },
    {
      "cell_type": "code",
      "source": [
        "## number of customers who don't opt for voice mail plan are tend to Churn"
      ],
      "metadata": {
        "id": "XcwXQJGdNIpK"
      },
      "execution_count": 36,
      "outputs": []
    },
    {
      "cell_type": "code",
      "source": [
        "## International Plan opt by cutomer\n",
        "df1['IntlPlan'].value_counts(normalize = True)"
      ],
      "metadata": {
        "colab": {
          "base_uri": "https://localhost:8080/"
        },
        "id": "ZEHxnncnNlvA",
        "outputId": "68bdfef5-6b80-48e3-b718-23bedfe7cb7f"
      },
      "execution_count": 37,
      "outputs": [
        {
          "output_type": "execute_result",
          "data": {
            "text/plain": [
              "0    0.90309\n",
              "1    0.09691\n",
              "Name: IntlPlan, dtype: float64"
            ]
          },
          "metadata": {},
          "execution_count": 37
        }
      ]
    },
    {
      "cell_type": "code",
      "source": [
        "sns.set(style=\"whitegrid\", color_codes=True)\n",
        "sns.countplot(x=\"IntlPlan\", hue= \"Churn\", data=df1)"
      ],
      "metadata": {
        "colab": {
          "base_uri": "https://localhost:8080/",
          "height": 476
        },
        "id": "guPajYIwN2aP",
        "outputId": "cdeef911-8f00-4f38-8522-720b4b66b211"
      },
      "execution_count": 38,
      "outputs": [
        {
          "output_type": "execute_result",
          "data": {
            "text/plain": [
              "<Axes: xlabel='IntlPlan', ylabel='count'>"
            ]
          },
          "metadata": {},
          "execution_count": 38
        },
        {
          "output_type": "display_data",
          "data": {
            "text/plain": [
              "<Figure size 640x480 with 1 Axes>"
            ],
            "image/png": "[encoded data removed]"
          },
          "metadata": {}
        }
      ]
    },
    {
      "cell_type": "code",
      "source": [
        "## Very less customers opt for international plan and have high Churn probability due to high charges on this particular plan"
      ],
      "metadata": {
        "id": "mtckQ2W_N_6v"
      },
      "execution_count": 39,
      "outputs": []
    },
    {
      "cell_type": "code",
      "source": [
        "## Areawise analysis\n",
        "\n",
        "df1['AreaCode']= df1['AreaCode'].astype('category')\n",
        "sns.countplot(x=\"AreaCode\", hue= \"Churn\", data=df1)"
      ],
      "metadata": {
        "colab": {
          "base_uri": "https://localhost:8080/",
          "height": 476
        },
        "id": "7F-tL03XOUbs",
        "outputId": "ea098d6d-b551-4ef8-a444-50670cb3cad7"
      },
      "execution_count": 41,
      "outputs": [
        {
          "output_type": "execute_result",
          "data": {
            "text/plain": [
              "<Axes: xlabel='AreaCode', ylabel='count'>"
            ]
          },
          "metadata": {},
          "execution_count": 41
        },
        {
          "output_type": "display_data",
          "data": {
            "text/plain": [
              "<Figure size 640x480 with 1 Axes>"
            ],
            "image/png": "[encoded data removed]"
          },
          "metadata": {}
        }
      ]
    },
    {
      "cell_type": "code",
      "source": [
        "df1.corr('pearson')"
      ],
      "metadata": {
        "colab": {
          "base_uri": "https://localhost:8080/",
          "height": 563
        },
        "id": "mg6Dljm7ObM0",
        "outputId": "fa0d1fdf-8b12-4706-a3bc-16c7673acd03"
      },
      "execution_count": 42,
      "outputs": [
        {
          "output_type": "execute_result",
          "data": {
            "text/plain": [
              "               AccountLength  VMailMessage   DayMins   EveMins  NightMins  \\\n",
              "AccountLength       1.000000     -0.004628  0.006216 -0.006757  -0.008955   \n",
              "VMailMessage       -0.004628      1.000000  0.000778  0.017562   0.007681   \n",
              "DayMins             0.006216      0.000778  1.000000  0.007043   0.004323   \n",
              "EveMins            -0.006757      0.017562  0.007043  1.000000  -0.012584   \n",
              "NightMins          -0.008955      0.007681  0.004323 -0.012584   1.000000   \n",
              "IntlMins            0.009514      0.002856 -0.010155 -0.011035  -0.015207   \n",
              "CustServCalls      -0.003796     -0.013263 -0.013423 -0.012985  -0.009288   \n",
              "DayCalls            0.038470     -0.009548  0.006750 -0.021451   0.022938   \n",
              "DayCharge           0.006214      0.000776  1.000000  0.007050   0.004324   \n",
              "EveCalls            0.019260     -0.005864  0.015769 -0.011430  -0.002093   \n",
              "EveCharge          -0.006745      0.017578  0.007029  1.000000  -0.012592   \n",
              "NightCalls         -0.013176      0.007123  0.022972  0.007586   0.011204   \n",
              "NightCharge        -0.008960      0.007663  0.004300 -0.012593   0.999999   \n",
              "IntlCalls           0.020661      0.013957  0.008033  0.002541  -0.012353   \n",
              "IntlCharge          0.009546      0.002884 -0.010092 -0.011067  -0.015180   \n",
              "\n",
              "               IntlMins  CustServCalls  DayCalls  DayCharge  EveCalls  \\\n",
              "AccountLength  0.009514      -0.003796  0.038470   0.006214  0.019260   \n",
              "VMailMessage   0.002856      -0.013263 -0.009548   0.000776 -0.005864   \n",
              "DayMins       -0.010155      -0.013423  0.006750   1.000000  0.015769   \n",
              "EveMins       -0.011035      -0.012985 -0.021451   0.007050 -0.011430   \n",
              "NightMins     -0.015207      -0.009288  0.022938   0.004324 -0.002093   \n",
              "IntlMins       1.000000      -0.009640  0.021565  -0.010157  0.008703   \n",
              "CustServCalls -0.009640       1.000000 -0.018942  -0.013427  0.002423   \n",
              "DayCalls       0.021565      -0.018942  1.000000   0.006753  0.006462   \n",
              "DayCharge     -0.010157      -0.013427  0.006753   1.000000  0.015769   \n",
              "EveCalls       0.008703       0.002423  0.006462   0.015769  1.000000   \n",
              "EveCharge     -0.011043      -0.012987 -0.021449   0.007036 -0.011423   \n",
              "NightCalls    -0.013605      -0.012802 -0.019557   0.022972  0.007710   \n",
              "NightCharge   -0.015214      -0.009277  0.022927   0.004301 -0.002056   \n",
              "IntlCalls      0.032304      -0.017561  0.004574   0.008032  0.017434   \n",
              "IntlCharge     0.999993      -0.009675  0.021666  -0.010094  0.008674   \n",
              "\n",
              "               EveCharge  NightCalls  NightCharge  IntlCalls  IntlCharge  \n",
              "AccountLength  -0.006745   -0.013176    -0.008960   0.020661    0.009546  \n",
              "VMailMessage    0.017578    0.007123     0.007663   0.013957    0.002884  \n",
              "DayMins         0.007029    0.022972     0.004300   0.008033   -0.010092  \n",
              "EveMins         1.000000    0.007586    -0.012593   0.002541   -0.011067  \n",
              "NightMins      -0.012592    0.011204     0.999999  -0.012353   -0.015180  \n",
              "IntlMins       -0.011043   -0.013605    -0.015214   0.032304    0.999993  \n",
              "CustServCalls  -0.012987   -0.012802    -0.009277  -0.017561   -0.009675  \n",
              "DayCalls       -0.021449   -0.019557     0.022927   0.004574    0.021666  \n",
              "DayCharge       0.007036    0.022972     0.004301   0.008032   -0.010094  \n",
              "EveCalls       -0.011423    0.007710    -0.002056   0.017434    0.008674  \n",
              "EveCharge       1.000000    0.007596    -0.012601   0.002541   -0.011074  \n",
              "NightCalls      0.007596    1.000000     0.011188   0.000305   -0.013630  \n",
              "NightCharge    -0.012601    0.011188     1.000000  -0.012329   -0.015186  \n",
              "IntlCalls       0.002541    0.000305    -0.012329   1.000000    0.032372  \n",
              "IntlCharge     -0.011074   -0.013630    -0.015186   0.032372    1.000000  "
            ],
            "text/html": [
              "\n",
              "\n",
              "  <div id=\"df-98361595-46a4-4d44-b4e2-2790e5303fa4\">\n",
              "    <div class=\"colab-df-container\">\n",
              "      <div>\n",
              "<style scoped>\n",
              "    .dataframe tbody tr th:only-of-type {\n",
              "        vertical-align: middle;\n",
              "    }\n",
              "\n",
              "    .dataframe tbody tr th {\n",
              "        vertical-align: top;\n",
              "    }\n",
              "\n",
              "    .dataframe thead th {\n",
              "        text-align: right;\n",
              "    }\n",
              "</style>\n",
              "<table border=\"1\" class=\"dataframe\">\n",
              "  <thead>\n",
              "    <tr style=\"text-align: right;\">\n",
              "      <th></th>\n",
              "      <th>AccountLength</th>\n",
              "      <th>VMailMessage</th>\n",
              "      <th>DayMins</th>\n",
              "      <th>EveMins</th>\n",
              "      <th>NightMins</th>\n",
              "      <th>IntlMins</th>\n",
              "      <th>CustServCalls</th>\n",
              "      <th>DayCalls</th>\n",
              "      <th>DayCharge</th>\n",
              "      <th>EveCalls</th>\n",
              "      <th>EveCharge</th>\n",
              "      <th>NightCalls</th>\n",
              "      <th>NightCharge</th>\n",
              "      <th>IntlCalls</th>\n",
              "      <th>IntlCharge</th>\n",
              "    </tr>\n",
              "  </thead>\n",
              "  <tbody>\n",
              "    <tr>\n",
              "      <th>AccountLength</th>\n",
              "      <td>1.000000</td>\n",
              "      <td>-0.004628</td>\n",
              "      <td>0.006216</td>\n",
              "      <td>-0.006757</td>\n",
              "      <td>-0.008955</td>\n",
              "      <td>0.009514</td>\n",
              "      <td>-0.003796</td>\n",
              "      <td>0.038470</td>\n",
              "      <td>0.006214</td>\n",
              "      <td>0.019260</td>\n",
              "      <td>-0.006745</td>\n",
              "      <td>-0.013176</td>\n",
              "      <td>-0.008960</td>\n",
              "      <td>0.020661</td>\n",
              "      <td>0.009546</td>\n",
              "    </tr>\n",
              "    <tr>\n",
              "      <th>VMailMessage</th>\n",
              "      <td>-0.004628</td>\n",
              "      <td>1.000000</td>\n",
              "      <td>0.000778</td>\n",
              "      <td>0.017562</td>\n",
              "      <td>0.007681</td>\n",
              "      <td>0.002856</td>\n",
              "      <td>-0.013263</td>\n",
              "      <td>-0.009548</td>\n",
              "      <td>0.000776</td>\n",
              "      <td>-0.005864</td>\n",
              "      <td>0.017578</td>\n",
              "      <td>0.007123</td>\n",
              "      <td>0.007663</td>\n",
              "      <td>0.013957</td>\n",
              "      <td>0.002884</td>\n",
              "    </tr>\n",
              "    <tr>\n",
              "      <th>DayMins</th>\n",
              "      <td>0.006216</td>\n",
              "      <td>0.000778</td>\n",
              "      <td>1.000000</td>\n",
              "      <td>0.007043</td>\n",
              "      <td>0.004323</td>\n",
              "      <td>-0.010155</td>\n",
              "      <td>-0.013423</td>\n",
              "      <td>0.006750</td>\n",
              "      <td>1.000000</td>\n",
              "      <td>0.015769</td>\n",
              "      <td>0.007029</td>\n",
              "      <td>0.022972</td>\n",
              "      <td>0.004300</td>\n",
              "      <td>0.008033</td>\n",
              "      <td>-0.010092</td>\n",
              "    </tr>\n",
              "    <tr>\n",
              "      <th>EveMins</th>\n",
              "      <td>-0.006757</td>\n",
              "      <td>0.017562</td>\n",
              "      <td>0.007043</td>\n",
              "      <td>1.000000</td>\n",
              "      <td>-0.012584</td>\n",
              "      <td>-0.011035</td>\n",
              "      <td>-0.012985</td>\n",
              "      <td>-0.021451</td>\n",
              "      <td>0.007050</td>\n",
              "      <td>-0.011430</td>\n",
              "      <td>1.000000</td>\n",
              "      <td>0.007586</td>\n",
              "      <td>-0.012593</td>\n",
              "      <td>0.002541</td>\n",
              "      <td>-0.011067</td>\n",
              "    </tr>\n",
              "    <tr>\n",
              "      <th>NightMins</th>\n",
              "      <td>-0.008955</td>\n",
              "      <td>0.007681</td>\n",
              "      <td>0.004323</td>\n",
              "      <td>-0.012584</td>\n",
              "      <td>1.000000</td>\n",
              "      <td>-0.015207</td>\n",
              "      <td>-0.009288</td>\n",
              "      <td>0.022938</td>\n",
              "      <td>0.004324</td>\n",
              "      <td>-0.002093</td>\n",
              "      <td>-0.012592</td>\n",
              "      <td>0.011204</td>\n",
              "      <td>0.999999</td>\n",
              "      <td>-0.012353</td>\n",
              "      <td>-0.015180</td>\n",
              "    </tr>\n",
              "    <tr>\n",
              "      <th>IntlMins</th>\n",
              "      <td>0.009514</td>\n",
              "      <td>0.002856</td>\n",
              "      <td>-0.010155</td>\n",
              "      <td>-0.011035</td>\n",
              "      <td>-0.015207</td>\n",
              "      <td>1.000000</td>\n",
              "      <td>-0.009640</td>\n",
              "      <td>0.021565</td>\n",
              "      <td>-0.010157</td>\n",
              "      <td>0.008703</td>\n",
              "      <td>-0.011043</td>\n",
              "      <td>-0.013605</td>\n",
              "      <td>-0.015214</td>\n",
              "      <td>0.032304</td>\n",
              "      <td>0.999993</td>\n",
              "    </tr>\n",
              "    <tr>\n",
              "      <th>CustServCalls</th>\n",
              "      <td>-0.003796</td>\n",
              "      <td>-0.013263</td>\n",
              "      <td>-0.013423</td>\n",
              "      <td>-0.012985</td>\n",
              "      <td>-0.009288</td>\n",
              "      <td>-0.009640</td>\n",
              "      <td>1.000000</td>\n",
              "      <td>-0.018942</td>\n",
              "      <td>-0.013427</td>\n",
              "      <td>0.002423</td>\n",
              "      <td>-0.012987</td>\n",
              "      <td>-0.012802</td>\n",
              "      <td>-0.009277</td>\n",
              "      <td>-0.017561</td>\n",
              "      <td>-0.009675</td>\n",
              "    </tr>\n",
              "    <tr>\n",
              "      <th>DayCalls</th>\n",
              "      <td>0.038470</td>\n",
              "      <td>-0.009548</td>\n",
              "      <td>0.006750</td>\n",
              "      <td>-0.021451</td>\n",
              "      <td>0.022938</td>\n",
              "      <td>0.021565</td>\n",
              "      <td>-0.018942</td>\n",
              "      <td>1.000000</td>\n",
              "      <td>0.006753</td>\n",
              "      <td>0.006462</td>\n",
              "      <td>-0.021449</td>\n",
              "      <td>-0.019557</td>\n",
              "      <td>0.022927</td>\n",
              "      <td>0.004574</td>\n",
              "      <td>0.021666</td>\n",
              "    </tr>\n",
              "    <tr>\n",
              "      <th>DayCharge</th>\n",
              "      <td>0.006214</td>\n",
              "      <td>0.000776</td>\n",
              "      <td>1.000000</td>\n",
              "      <td>0.007050</td>\n",
              "      <td>0.004324</td>\n",
              "      <td>-0.010157</td>\n",
              "      <td>-0.013427</td>\n",
              "      <td>0.006753</td>\n",
              "      <td>1.000000</td>\n",
              "      <td>0.015769</td>\n",
              "      <td>0.007036</td>\n",
              "      <td>0.022972</td>\n",
              "      <td>0.004301</td>\n",
              "      <td>0.008032</td>\n",
              "      <td>-0.010094</td>\n",
              "    </tr>\n",
              "    <tr>\n",
              "      <th>EveCalls</th>\n",
              "      <td>0.019260</td>\n",
              "      <td>-0.005864</td>\n",
              "      <td>0.015769</td>\n",
              "      <td>-0.011430</td>\n",
              "      <td>-0.002093</td>\n",
              "      <td>0.008703</td>\n",
              "      <td>0.002423</td>\n",
              "      <td>0.006462</td>\n",
              "      <td>0.015769</td>\n",
              "      <td>1.000000</td>\n",
              "      <td>-0.011423</td>\n",
              "      <td>0.007710</td>\n",
              "      <td>-0.002056</td>\n",
              "      <td>0.017434</td>\n",
              "      <td>0.008674</td>\n",
              "    </tr>\n",
              "    <tr>\n",
              "      <th>EveCharge</th>\n",
              "      <td>-0.006745</td>\n",
              "      <td>0.017578</td>\n",
              "      <td>0.007029</td>\n",
              "      <td>1.000000</td>\n",
              "      <td>-0.012592</td>\n",
              "      <td>-0.011043</td>\n",
              "      <td>-0.012987</td>\n",
              "      <td>-0.021449</td>\n",
              "      <td>0.007036</td>\n",
              "      <td>-0.011423</td>\n",
              "      <td>1.000000</td>\n",
              "      <td>0.007596</td>\n",
              "      <td>-0.012601</td>\n",
              "      <td>0.002541</td>\n",
              "      <td>-0.011074</td>\n",
              "    </tr>\n",
              "    <tr>\n",
              "      <th>NightCalls</th>\n",
              "      <td>-0.013176</td>\n",
              "      <td>0.007123</td>\n",
              "      <td>0.022972</td>\n",
              "      <td>0.007586</td>\n",
              "      <td>0.011204</td>\n",
              "      <td>-0.013605</td>\n",
              "      <td>-0.012802</td>\n",
              "      <td>-0.019557</td>\n",
              "      <td>0.022972</td>\n",
              "      <td>0.007710</td>\n",
              "      <td>0.007596</td>\n",
              "      <td>1.000000</td>\n",
              "      <td>0.011188</td>\n",
              "      <td>0.000305</td>\n",
              "      <td>-0.013630</td>\n",
              "    </tr>\n",
              "    <tr>\n",
              "      <th>NightCharge</th>\n",
              "      <td>-0.008960</td>\n",
              "      <td>0.007663</td>\n",
              "      <td>0.004300</td>\n",
              "      <td>-0.012593</td>\n",
              "      <td>0.999999</td>\n",
              "      <td>-0.015214</td>\n",
              "      <td>-0.009277</td>\n",
              "      <td>0.022927</td>\n",
              "      <td>0.004301</td>\n",
              "      <td>-0.002056</td>\n",
              "      <td>-0.012601</td>\n",
              "      <td>0.011188</td>\n",
              "      <td>1.000000</td>\n",
              "      <td>-0.012329</td>\n",
              "      <td>-0.015186</td>\n",
              "    </tr>\n",
              "    <tr>\n",
              "      <th>IntlCalls</th>\n",
              "      <td>0.020661</td>\n",
              "      <td>0.013957</td>\n",
              "      <td>0.008033</td>\n",
              "      <td>0.002541</td>\n",
              "      <td>-0.012353</td>\n",
              "      <td>0.032304</td>\n",
              "      <td>-0.017561</td>\n",
              "      <td>0.004574</td>\n",
              "      <td>0.008032</td>\n",
              "      <td>0.017434</td>\n",
              "      <td>0.002541</td>\n",
              "      <td>0.000305</td>\n",
              "      <td>-0.012329</td>\n",
              "      <td>1.000000</td>\n",
              "      <td>0.032372</td>\n",
              "    </tr>\n",
              "    <tr>\n",
              "      <th>IntlCharge</th>\n",
              "      <td>0.009546</td>\n",
              "      <td>0.002884</td>\n",
              "      <td>-0.010092</td>\n",
              "      <td>-0.011067</td>\n",
              "      <td>-0.015180</td>\n",
              "      <td>0.999993</td>\n",
              "      <td>-0.009675</td>\n",
              "      <td>0.021666</td>\n",
              "      <td>-0.010094</td>\n",
              "      <td>0.008674</td>\n",
              "      <td>-0.011074</td>\n",
              "      <td>-0.013630</td>\n",
              "      <td>-0.015186</td>\n",
              "      <td>0.032372</td>\n",
              "      <td>1.000000</td>\n",
              "    </tr>\n",
              "  </tbody>\n",
              "</table>\n",
              "</div>\n",
              "      <button class=\"colab-df-convert\" onclick=\"convertToInteractive('df-98361595-46a4-4d44-b4e2-2790e5303fa4')\"\n",
              "              title=\"Convert this dataframe to an interactive table.\"\n",
              "              style=\"display:none;\">\n",
              "\n",
              "  <svg xmlns=\"http://www.w3.org/2000/svg\" height=\"24px\"viewBox=\"0 0 24 24\"\n",
              "       width=\"24px\">\n",
              "    <path d=\"M0 0h24v24H0V0z\" fill=\"none\"/>\n",
              "    <path d=\"M18.56 5.44l.94 2.06.94-2.06 2.06-.94-2.06-.94-.94-2.06-.94 2.06-2.06.94zm-11 1L8.5 8.5l.94-2.06 2.06-.94-2.06-.94L8.5 2.5l-.94 2.06-2.06.94zm10 10l.94 2.06.94-2.06 2.06-.94-2.06-.94-.94-2.06-.94 2.06-2.06.94z\"/><path d=\"M17.41 7.96l-1.37-1.37c-.4-.4-.92-.59-1.43-.59-.52 0-1.04.2-1.43.59L10.3 9.45l-7.72 7.72c-.78.78-.78 2.05 0 2.83L4 21.41c.39.39.9.59 1.41.59.51 0 1.02-.2 1.41-.59l7.78-7.78 2.81-2.81c.8-.78.8-2.07 0-2.86zM5.41 20L4 18.59l7.72-7.72 1.47 1.35L5.41 20z\"/>\n",
              "  </svg>\n",
              "      </button>\n",
              "\n",
              "\n",
              "\n",
              "    <div id=\"df-b4ed4667-ed3b-4ba9-969c-433007db6af1\">\n",
              "      <button class=\"colab-df-quickchart\" onclick=\"quickchart('df-b4ed4667-ed3b-4ba9-969c-433007db6af1')\"\n",
              "              title=\"Suggest charts.\"\n",
              "              style=\"display:none;\">\n",
              "\n",
              "<svg xmlns=\"http://www.w3.org/2000/svg\" height=\"24px\"viewBox=\"0 0 24 24\"\n",
              "     width=\"24px\">\n",
              "    <g>\n",
              "        <path d=\"M19 3H5c-1.1 0-2 .9-2 2v14c0 1.1.9 2 2 2h14c1.1 0 2-.9 2-2V5c0-1.1-.9-2-2-2zM9 17H7v-7h2v7zm4 0h-2V7h2v10zm4 0h-2v-4h2v4z\"/>\n",
              "    </g>\n",
              "</svg>\n",
              "      </button>\n",
              "    </div>\n",
              "\n",
              "<style>\n",
              "  .colab-df-quickchart {\n",
              "    background-color: #E8F0FE;\n",
              "    border: none;\n",
              "    border-radius: 50%;\n",
              "    cursor: pointer;\n",
              "    display: none;\n",
              "    fill: #1967D2;\n",
              "    height: 32px;\n",
              "    padding: 0 0 0 0;\n",
              "    width: 32px;\n",
              "  }\n",
              "\n",
              "  .colab-df-quickchart:hover {\n",
              "    background-color: #E2EBFA;\n",
              "    box-shadow: 0px 1px 2px rgba(60, 64, 67, 0.3), 0px 1px 3px 1px rgba(60, 64, 67, 0.15);\n",
              "    fill: #174EA6;\n",
              "  }\n",
              "\n",
              "  [theme=dark] .colab-df-quickchart {\n",
              "    background-color: #3B4455;\n",
              "    fill: #D2E3FC;\n",
              "  }\n",
              "\n",
              "  [theme=dark] .colab-df-quickchart:hover {\n",
              "    background-color: #434B5C;\n",
              "    box-shadow: 0px 1px 3px 1px rgba(0, 0, 0, 0.15);\n",
              "    filter: drop-shadow(0px 1px 2px rgba(0, 0, 0, 0.3));\n",
              "    fill: #FFFFFF;\n",
              "  }\n",
              "</style>\n",
              "\n",
              "    <script>\n",
              "      async function quickchart(key) {\n",
              "        const containerElement = document.querySelector('#' + key);\n",
              "        const charts = await google.colab.kernel.invokeFunction(\n",
              "            'suggestCharts', [key], {});\n",
              "      }\n",
              "    </script>\n",
              "\n",
              "      <script>\n",
              "\n",
              "function displayQuickchartButton(domScope) {\n",
              "  let quickchartButtonEl =\n",
              "    domScope.querySelector('#df-b4ed4667-ed3b-4ba9-969c-433007db6af1 button.colab-df-quickchart');\n",
              "  quickchartButtonEl.style.display =\n",
              "    google.colab.kernel.accessAllowed ? 'block' : 'none';\n",
              "}\n",
              "\n",
              "        displayQuickchartButton(document);\n",
              "      </script>\n",
              "      <style>\n",
              "    .colab-df-container {\n",
              "      display:flex;\n",
              "      flex-wrap:wrap;\n",
              "      gap: 12px;\n",
              "    }\n",
              "\n",
              "    .colab-df-convert {\n",
              "      background-color: #E8F0FE;\n",
              "      border: none;\n",
              "      border-radius: 50%;\n",
              "      cursor: pointer;\n",
              "      display: none;\n",
              "      fill: #1967D2;\n",
              "      height: 32px;\n",
              "      padding: 0 0 0 0;\n",
              "      width: 32px;\n",
              "    }\n",
              "\n",
              "    .colab-df-convert:hover {\n",
              "      background-color: #E2EBFA;\n",
              "      box-shadow: 0px 1px 2px rgba(60, 64, 67, 0.3), 0px 1px 3px 1px rgba(60, 64, 67, 0.15);\n",
              "      fill: #174EA6;\n",
              "    }\n",
              "\n",
              "    [theme=dark] .colab-df-convert {\n",
              "      background-color: #3B4455;\n",
              "      fill: #D2E3FC;\n",
              "    }\n",
              "\n",
              "    [theme=dark] .colab-df-convert:hover {\n",
              "      background-color: #434B5C;\n",
              "      box-shadow: 0px 1px 3px 1px rgba(0, 0, 0, 0.15);\n",
              "      filter: drop-shadow(0px 1px 2px rgba(0, 0, 0, 0.3));\n",
              "      fill: #FFFFFF;\n",
              "    }\n",
              "  </style>\n",
              "\n",
              "      <script>\n",
              "        const buttonEl =\n",
              "          document.querySelector('#df-98361595-46a4-4d44-b4e2-2790e5303fa4 button.colab-df-convert');\n",
              "        buttonEl.style.display =\n",
              "          google.colab.kernel.accessAllowed ? 'block' : 'none';\n",
              "\n",
              "        async function convertToInteractive(key) {\n",
              "          const element = document.querySelector('#df-98361595-46a4-4d44-b4e2-2790e5303fa4');\n",
              "          const dataTable =\n",
              "            await google.colab.kernel.invokeFunction('convertToInteractive',\n",
              "                                                     [key], {});\n",
              "          if (!dataTable) return;\n",
              "\n",
              "          const docLinkHtml = 'Like what you see? Visit the ' +\n",
              "            '<a target=\"_blank\" href=https://colab.research.google.com/notebooks/data_table.ipynb>data table notebook</a>'\n",
              "            + ' to learn more about interactive tables.';\n",
              "          element.innerHTML = '';\n",
              "          dataTable['output_type'] = 'display_data';\n",
              "          await google.colab.output.renderOutput(dataTable, element);\n",
              "          const docLink = document.createElement('div');\n",
              "          docLink.innerHTML = docLinkHtml;\n",
              "          element.appendChild(docLink);\n",
              "        }\n",
              "      </script>\n",
              "    </div>\n",
              "  </div>\n"
            ]
          },
          "metadata": {},
          "execution_count": 42
        }
      ]
    },
    {
      "cell_type": "code",
      "source": [
        "## Correlation between the Target variable 'Churn' and other variables\n",
        "df1['Churn']= df1['Churn'].astype('int')\n",
        "df1.corr()['Churn']"
      ],
      "metadata": {
        "colab": {
          "base_uri": "https://localhost:8080/"
        },
        "id": "qJA3m-NsOtUh",
        "outputId": "375c4c05-4918-4810-e793-90fade9aba66"
      },
      "execution_count": 47,
      "outputs": [
        {
          "output_type": "execute_result",
          "data": {
            "text/plain": [
              "AccountLength    0.016541\n",
              "VMailMessage    -0.089728\n",
              "DayMins          0.205151\n",
              "EveMins          0.092796\n",
              "NightMins        0.035493\n",
              "IntlMins         0.068239\n",
              "CustServCalls    0.208750\n",
              "Churn            1.000000\n",
              "DayCalls         0.018459\n",
              "DayCharge        0.205151\n",
              "EveCalls         0.009233\n",
              "EveCharge        0.092786\n",
              "NightCalls       0.006141\n",
              "NightCharge      0.035496\n",
              "IntlCalls       -0.052844\n",
              "IntlCharge       0.068259\n",
              "Name: Churn, dtype: float64"
            ]
          },
          "metadata": {},
          "execution_count": 47
        }
      ]
    },
    {
      "cell_type": "code",
      "source": [
        "## From the obtained table, we find that Day minutes, Customer Serv Calls, Intl Plan has weak positive correlation with predicting variable Churn,\n",
        "## while VMail Message, VMail Plan and Intl Calls has weak negative correlation. While remaining variables has either weak positive or negative correlation.\n"
      ],
      "metadata": {
        "id": "8CQASMBlPGIV"
      },
      "execution_count": 48,
      "outputs": []
    },
    {
      "cell_type": "code",
      "source": [],
      "metadata": {
        "id": "CKvXlXgUQTPK"
      },
      "execution_count": null,
      "outputs": []
    }
  ]
}